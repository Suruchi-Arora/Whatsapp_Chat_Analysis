{
 "cells": [
  {
   "cell_type": "code",
   "execution_count": 178,
   "id": "ff95d526",
   "metadata": {},
   "outputs": [],
   "source": [
    "import re\n",
    "import pandas as pd"
   ]
  },
  {
   "cell_type": "code",
   "execution_count": 180,
   "id": "c2c7f081",
   "metadata": {},
   "outputs": [
    {
     "data": {
      "text/plain": [
       "'7/10/23, 12:47\\u202fPM - Messages and calls are end-to-end encrypted. No one outside of this chat, not even WhatsApp, can read or listen to them. Tap to learn more.\\n7/10/23, 12:47\\u202fPM - Anjleen created group \"Honey Well Training\"\\n7/10/23, 12:47\\u202fPM - Anjleen added you\\n7/10/23, 12:49\\u202fPM - Anjleen added Amit Walia Sir, +91 6283 939 279, and +91 98777 87366\\n7/10/23, 1:00\\u202fPM - Amit Walia Sir: Dear students, complete the registration in Honeywell portal for  Certificate course on Artificial Intelligence. The list of enrolled students is also attached herewith.\\nThe link for the registration is:                                                                               Student Registration Link: https://www.ictacademy.in/projects/Student_Enrollvalidation.aspx?id=8xE929Ga3OGXBG4\\n\\n Guidelines for students :\\nStudents nominated by institutions are only eligible to register (students list attached)\\nBefore registering students must ensure their institution name and course name is being selected from the drop-down.\\nStudents must use the Name, Email id & Mobile number as per the enrolment sheet shared by the institution\\nStudents must ensure the spelling of their Name, Email - Id and mobile no. is right.\\nUpload a formal passport-size photo (Maximum size 1 MB, format .jpg & .png)\\n7/10/23, 1:00\\u202fPM - Amit Walia Sir: Treat it urgent\\n7/10/23, 1:55\\u202fPM - Amit Walia Sir added +91 82640 00826\\n7/11/23, 11:25\\u202fPM - Your security code with Abhishek changed. Tap to learn more.\\n7/20/23, 10:15\\u202fAM - Amit Walia Sir added Anurag Sir\\n7/20/23, 10:16\\u202fAM - Amit Walia Sir added Neeta Rana Mam\\n7/20/23, 4:17\\u202fPM - Amit Walia Sir added Simran Mam GNA\\n7/23/23, 10:31\\u202fPM - Your security code with Kanish changed. Tap to learn more.\\n7/24/23, 3:05\\u202fAM - Your security code with Kanish changed. Tap to learn more.\\n7/26/23, 12:30\\u202fPM - Amit Walia Sir added +91 88944 40157\\n7/26/23, 12:31\\u202fPM - Amit Walia Sir added Ranvir Sir GNA\\n7/26/23, 12:38\\u202fPM - +91 88944 40157 added +91 75088 28780\\n7/26/23, 1:03\\u202fPM - +91 75088 28780 added Kirandeep, Parbinder, +91 6280 803 858, +91 84272 67075, +91 86990 52241, and +91 97796 85443\\n7/26/23, 1:06\\u202fPM - +91 75088 28780 added +91 97801 42700\\n7/26/23, 2:34\\u202fPM - Ranvir Sir GNA added +91 84278 33227\\n7/26/23, 2:41\\u202fPM - ~\\u202fਐਸ਼ਮੀਤ added +91 70183 26404, +91 74996 64465, +91 75290 64261, +91 76269 20645, +91 77805 86224, +91 79731 86565, +91 84271 82071, +91 93260 69039, and +91 98772 47930\\n7/26/23, 2:41\\u202fPM - ~\\u202fਐਸ਼ਮੀਤ added +91 70188 49401\\n7/26/23, 8:38\\u202fPM - +91 75290 64261: ??\\n7/26/23, 8:38\\u202fPM - Ranvir Sir GNA changed this group\\'s settings to allow only admins to send messages to this group\\n7/26/23, 8:38\\u202fPM - Ranvir Sir GNA changed this group\\'s settings to allow all participants to send messages to this group\\n7/26/23, 8:39\\u202fPM - Ranvir Sir GNA turned on admin approval to join this group.\\n7/26/23, 8:39\\u202fPM - Ranvir Sir GNA turned off admin approval to join this group.\\n7/26/23, 8:39\\u202fPM - Ranvir Sir GNA changed this group\\'s settings to allow all participants to add others to this group.\\n7/26/23, 8:39\\u202fPM - Ranvir Sir GNA changed this group\\'s settings to allow only admins to send messages to this group\\n7/26/23, 8:39\\u202fPM - Ranvir Sir GNA changed this group\\'s settings to allow all participants to send messages to this group\\n7/26/23, 8:39\\u202fPM - Ranvir Sir GNA changed this group\\'s settings to allow only admins to send messages to this group\\n7/26/23, 8:43\\u202fPM - Ranvir Sir GNA changed this group\\'s settings to allow only admins to add others to this group.\\n7/26/23, 8:48\\u202fPM - Your security code with Kanish changed. Tap to learn more.\\n7/26/23, 8:55\\u202fPM - Anjleen added +91 86992 83312\\n7/27/23, 10:33\\u202fAM - +91 75088 28780 added +91 88473 45136 and +91 94176 43256\\n7/30/23, 2:11\\u202fPM - Your security code with Kanish changed. Tap to learn more.\\n7/31/23, 6:44\\u202fAM - Your security code with Francis changed. Tap to learn more.\\n8/2/23, 1:06\\u202fPM - Amit Walia Sir: This is to inform all the students that the training by Honeywell Academy will begin from 7th August, 23 and an assessment test is scheduled regarding the same on 4th August,  23. It is mandatory for all the students to appear for the test and attend training,  otherwise strict disciplinary action will be taken.\\n8/2/23, 4:42\\u202fPM - Neeta Rana Mam: This is to inform you that the pre-assessment test of the Honeywell Training will be in online mode. Soon we will share the related link. As per the guidelines, all registered students must appear in the pre-assessment test. As Training is planned for you and your absence can create issue.  In that situation strict disciplinary action will be taken against you.\\n8/3/23, 7:31\\u202fPM - Amit Walia Sir: This is to inform you all that the link of mock test( honey well training test) will be shared in your registered email ID\\'s @ 9:30 am, tomorrow. It\\'s mandatory for all the students to attempt the mock test.\\nTiming for the test will be 10:00am to 12:00noon\\n8/3/23, 7:34\\u202fPM - Ranvir Sir GNA: ✍️👍✍️\\n8/4/23, 9:20\\u202fAM - Neeta Rana Mam: Good morning students, soon you will get the link of Pre-Assessment test on your email accounts. So, BE ready for the test. All the best..you all should be present\\n8/4/23, 10:04\\u202fAM - Neeta Rana Mam: Have u got the pre-assessment link\\n8/4/23, 10:14\\u202fAM - Amit Walia Sir: Students those have not received their test link, quickly inform us\\n8/4/23, 10:21\\u202fAM - Amit Walia Sir: Students inform me with your name and course\\n8/4/23, 11:50\\u202fAM - Amit Walia Sir: <Media omitted>\\n8/4/23, 11:50\\u202fAM - Amit Walia Sir: Above mentioned students send me your email id now\\n8/4/23, 12:01\\u202fPM - Amit Walia Sir: Arsh and akash send me your email id\\n8/4/23, 12:01\\u202fPM - Amit Walia Sir: Hurry up\\n8/4/23, 12:03\\u202fPM - Neeta Rana Mam: Those who have not received the link yet. Once again check ur email I\\'d and attempt ur test.\\n8/6/23, 11:40\\u202fAM - Neeta Rana Mam: Students, as AI training  is commencing from tomorrow. So you must carry ur laptop for hands-on practice.\\n8/7/23, 9:37\\u202fAM - +91 89258 05763 joined using this group\\'s invite link\\n8/7/23, 9:44\\u202fAM - Amit Walia Sir: All students report in 301B for Training\\n8/7/23, 10:24\\u202fAM - Neeta Rana Mam: Quickly reach in B301. Disciplinary action will be taken against absentees\\n8/7/23, 12:34\\u202fPM - Neeta Rana Mam: Students, you should be present in the B301 exactly at 2:00pm\\n8/7/23, 1:49\\u202fPM - Neeta Rana Mam: Quickly reach in B301\\n8/7/23, 9:32\\u202fPM - +91\\xa097801\\xa042700 changed to +91\\xa081461\\xa058315\\n8/8/23, 11:39\\u202fAM - Neeta Rana Mam: All students must be there at 11:45am\\n8/8/23, 11:46\\u202fAM - Neeta Rana Mam added Akhilash Sir\\n8/8/23, 11:49\\u202fAM - ~\\u202fRavi sharma added +91 89258 28618\\n8/8/23, 11:53\\u202fAM - Neeta Rana Mam: Aniket Mishra, Charanjit Suan, Arshdeep Singh, Inderpal Singh, Prabhjot Singh, ict Academy has send pre-assessment link. Attempt ur test till 2:00pm\\n8/8/23, 11:54\\u202fAM - ~\\u202fJasmine added +91 75500 44143 and +91 93609 51406\\n8/8/23, 11:54\\u202fAM - +91 89258 28618: <Media omitted>\\n8/8/23, 11:55\\u202fAM - +91 89258 28618: User ID and password\\n8/8/23, 11:55\\u202fAM - +91 89258 28618: These students will be having pre-assessment today link will be shared to your registered mail id *Link valid: 11:00 to 03:00*. All four modules need to be attended without fail.\\n*once the assessment is completed reply *Done*\\n8/8/23, 12:18\\u202fPM - Neeta Rana Mam: Quickly reply, those have finished the test\\n8/8/23, 12:22\\u202fPM - Neeta Rana Mam: Prabhjot Singh, inderpal Singh have finished the test\\n8/8/23, 12:26\\u202fPM - Neeta Rana Mam: Charanjit suan has not received the email\\n8/8/23, 12:27\\u202fPM - Neeta Rana Mam: Kindly verify his emailid its: charnjitsuan434@gmail.com\\n8/8/23, 12:31\\u202fPM - Neeta Rana Mam: Aniket Mishra have not received the link yet\\n8/8/23, 1:23\\u202fPM - ~\\u202fAron Dinesh A - Deputy Manager changed this group\\'s icon\\n8/10/23, 3:29\\u202fPM - Your security code with Anjleen changed. Tap to learn more.\\n8/11/23, 3:11\\u202fPM - Neeta Rana Mam: Saturday(11/8/23) is working. All students must be present for AI training in B301.\\n8/11/23, 5:11\\u202fPM - Anurag Sir: Attendance is mandatory\\nNo excuses will be entertained\\n8/11/23, 5:15\\u202fPM - Ranvir Sir GNA: 👍👍\\n8/11/23, 6:14\\u202fPM - Your security code with Anjleen changed. Tap to learn more.\\n8/12/23, 10:11\\u202fAM - Amit Walia Sir: Students report in R301B is immediately\\n8/12/23, 10:11\\u202fAM - Amit Walia Sir: Hurry up\\n8/12/23, 11:02\\u202fAM - Anurag Sir: Amit Sir\\nShare the attendance\\n8/12/23, 11:26\\u202fAM - Akhilash Sir: Hello everyone , break is over please come back to class now.\\n\\nThank you and regards \\nAkhilash\\n8/12/23, 11:29\\u202fAM - Amit Walia Sir: Ok sir\\n8/12/23, 12:55\\u202fPM - Akhilash Sir: 84dc445dcbda4935b98fb30a8d14207a\\nhttps://multicognetivesearch.cognitiveservices.azure.com/\\n8/12/23, 2:01\\u202fPM - Akhilash Sir: Hi everyone , lets start our session now..\\nPlease come back to class now\\n\\nThanks\\n8/12/23, 2:03\\u202fPM - Amit Walia Sir: All students report in R301B oo\\n8/12/23, 2:50\\u202fPM - Akhilash Sir: https://learn.microsoft.com/en-us/powershell/azure/install-azps-windows?view=azps-10.2.0&tabs=powershell&pivots=windows-psgallery\\n8/13/23, 8:43\\u202fAM - Your security code with Parul changed. Tap to learn more.\\n'"
      ]
     },
     "execution_count": 180,
     "metadata": {},
     "output_type": "execute_result"
    }
   ],
   "source": [
    "f=open('WhatsApp Chat with Honey Well Training.txt','r',encoding='utf-8')\n",
    "data=f.read()\n",
    "data"
   ]
  },
  {
   "cell_type": "code",
   "execution_count": 181,
   "id": "f03b1b0f",
   "metadata": {},
   "outputs": [
    {
     "data": {
      "text/plain": [
       "['Messages and calls are end-to-end encrypted. No one outside of this chat, not even WhatsApp, can read or listen to them. Tap to learn more.\\n',\n",
       " 'Anjleen created group \"Honey Well Training\"\\n',\n",
       " 'Anjleen added you\\n',\n",
       " 'Anjleen added Amit Walia Sir, +91 6283 939 279, and +91 98777 87366\\n',\n",
       " 'Amit Walia Sir: Dear students, complete the registration in Honeywell portal for  Certificate course on Artificial Intelligence. The list of enrolled students is also attached herewith.\\nThe link for the registration is:                                                                               Student Registration Link: https://www.ictacademy.in/projects/Student_Enrollvalidation.aspx?id=8xE929Ga3OGXBG4\\n\\n Guidelines for students :\\nStudents nominated by institutions are only eligible to register (students list attached)\\nBefore registering students must ensure their institution name and course name is being selected from the drop-down.\\nStudents must use the Name, Email id & Mobile number as per the enrolment sheet shared by the institution\\nStudents must ensure the spelling of their Name, Email - Id and mobile no. is right.\\nUpload a formal passport-size photo (Maximum size 1 MB, format .jpg & .png)\\n',\n",
       " 'Amit Walia Sir: Treat it urgent\\n',\n",
       " 'Amit Walia Sir added +91 82640 00826\\n',\n",
       " 'Your security code with Abhishek changed. Tap to learn more.\\n',\n",
       " 'Amit Walia Sir added Anurag Sir\\n',\n",
       " 'Amit Walia Sir added Neeta Rana Mam\\n',\n",
       " 'Amit Walia Sir added Simran Mam GNA\\n',\n",
       " 'Your security code with Kanish changed. Tap to learn more.\\n',\n",
       " 'Your security code with Kanish changed. Tap to learn more.\\n',\n",
       " 'Amit Walia Sir added +91 88944 40157\\n',\n",
       " 'Amit Walia Sir added Ranvir Sir GNA\\n',\n",
       " '+91 88944 40157 added +91 75088 28780\\n',\n",
       " '+91 75088 28780 added Kirandeep, Parbinder, +91 6280 803 858, +91 84272 67075, +91 86990 52241, and +91 97796 85443\\n',\n",
       " '+91 75088 28780 added +91 97801 42700\\n',\n",
       " 'Ranvir Sir GNA added +91 84278 33227\\n',\n",
       " '~\\u202fਐਸ਼ਮੀਤ added +91 70183 26404, +91 74996 64465, +91 75290 64261, +91 76269 20645, +91 77805 86224, +91 79731 86565, +91 84271 82071, +91 93260 69039, and +91 98772 47930\\n',\n",
       " '~\\u202fਐਸ਼ਮੀਤ added +91 70188 49401\\n',\n",
       " '+91 75290 64261: ??\\n',\n",
       " \"Ranvir Sir GNA changed this group's settings to allow only admins to send messages to this group\\n\",\n",
       " \"Ranvir Sir GNA changed this group's settings to allow all participants to send messages to this group\\n\",\n",
       " 'Ranvir Sir GNA turned on admin approval to join this group.\\n',\n",
       " 'Ranvir Sir GNA turned off admin approval to join this group.\\n',\n",
       " \"Ranvir Sir GNA changed this group's settings to allow all participants to add others to this group.\\n\",\n",
       " \"Ranvir Sir GNA changed this group's settings to allow only admins to send messages to this group\\n\",\n",
       " \"Ranvir Sir GNA changed this group's settings to allow all participants to send messages to this group\\n\",\n",
       " \"Ranvir Sir GNA changed this group's settings to allow only admins to send messages to this group\\n\",\n",
       " \"Ranvir Sir GNA changed this group's settings to allow only admins to add others to this group.\\n\",\n",
       " 'Your security code with Kanish changed. Tap to learn more.\\n',\n",
       " 'Anjleen added +91 86992 83312\\n',\n",
       " '+91 75088 28780 added +91 88473 45136 and +91 94176 43256\\n',\n",
       " 'Your security code with Kanish changed. Tap to learn more.\\n',\n",
       " 'Your security code with Francis changed. Tap to learn more.\\n',\n",
       " 'Amit Walia Sir: This is to inform all the students that the training by Honeywell Academy will begin from 7th August, 23 and an assessment test is scheduled regarding the same on 4th August,  23. It is mandatory for all the students to appear for the test and attend training,  otherwise strict disciplinary action will be taken.\\n',\n",
       " 'Neeta Rana Mam: This is to inform you that the pre-assessment test of the Honeywell Training will be in online mode. Soon we will share the related link. As per the guidelines, all registered students must appear in the pre-assessment test. As Training is planned for you and your absence can create issue.  In that situation strict disciplinary action will be taken against you.\\n',\n",
       " \"Amit Walia Sir: This is to inform you all that the link of mock test( honey well training test) will be shared in your registered email ID's @ 9:30 am, tomorrow. It's mandatory for all the students to attempt the mock test.\\nTiming for the test will be 10:00am to 12:00noon\\n\",\n",
       " 'Ranvir Sir GNA: ✍️👍✍️\\n',\n",
       " 'Neeta Rana Mam: Good morning students, soon you will get the link of Pre-Assessment test on your email accounts. So, BE ready for the test. All the best..you all should be present\\n',\n",
       " 'Neeta Rana Mam: Have u got the pre-assessment link\\n',\n",
       " 'Amit Walia Sir: Students those have not received their test link, quickly inform us\\n',\n",
       " 'Amit Walia Sir: Students inform me with your name and course\\n',\n",
       " 'Amit Walia Sir: <Media omitted>\\n',\n",
       " 'Amit Walia Sir: Above mentioned students send me your email id now\\n',\n",
       " 'Amit Walia Sir: Arsh and akash send me your email id\\n',\n",
       " 'Amit Walia Sir: Hurry up\\n',\n",
       " \"Neeta Rana Mam: Those who have not received the link yet. Once again check ur email I'd and attempt ur test.\\n\",\n",
       " 'Neeta Rana Mam: Students, as AI training  is commencing from tomorrow. So you must carry ur laptop for hands-on practice.\\n',\n",
       " \"+91 89258 05763 joined using this group's invite link\\n\",\n",
       " 'Amit Walia Sir: All students report in 301B for Training\\n',\n",
       " 'Neeta Rana Mam: Quickly reach in B301. Disciplinary action will be taken against absentees\\n',\n",
       " 'Neeta Rana Mam: Students, you should be present in the B301 exactly at 2:00pm\\n',\n",
       " 'Neeta Rana Mam: Quickly reach in B301\\n',\n",
       " '+91\\xa097801\\xa042700 changed to +91\\xa081461\\xa058315\\n',\n",
       " 'Neeta Rana Mam: All students must be there at 11:45am\\n',\n",
       " 'Neeta Rana Mam added Akhilash Sir\\n',\n",
       " '~\\u202fRavi sharma added +91 89258 28618\\n',\n",
       " 'Neeta Rana Mam: Aniket Mishra, Charanjit Suan, Arshdeep Singh, Inderpal Singh, Prabhjot Singh, ict Academy has send pre-assessment link. Attempt ur test till 2:00pm\\n',\n",
       " '~\\u202fJasmine added +91 75500 44143 and +91 93609 51406\\n',\n",
       " '+91 89258 28618: <Media omitted>\\n',\n",
       " '+91 89258 28618: User ID and password\\n',\n",
       " '+91 89258 28618: These students will be having pre-assessment today link will be shared to your registered mail id *Link valid: 11:00 to 03:00*. All four modules need to be attended without fail.\\n*once the assessment is completed reply *Done*\\n',\n",
       " 'Neeta Rana Mam: Quickly reply, those have finished the test\\n',\n",
       " 'Neeta Rana Mam: Prabhjot Singh, inderpal Singh have finished the test\\n',\n",
       " 'Neeta Rana Mam: Charanjit suan has not received the email\\n',\n",
       " 'Neeta Rana Mam: Kindly verify his emailid its: charnjitsuan434@gmail.com\\n',\n",
       " 'Neeta Rana Mam: Aniket Mishra have not received the link yet\\n',\n",
       " \"~\\u202fAron Dinesh A - Deputy Manager changed this group's icon\\n\",\n",
       " 'Your security code with Anjleen changed. Tap to learn more.\\n',\n",
       " 'Neeta Rana Mam: Saturday(11/8/23) is working. All students must be present for AI training in B301.\\n',\n",
       " 'Anurag Sir: Attendance is mandatory\\nNo excuses will be entertained\\n',\n",
       " 'Ranvir Sir GNA: 👍👍\\n',\n",
       " 'Your security code with Anjleen changed. Tap to learn more.\\n',\n",
       " 'Amit Walia Sir: Students report in R301B is immediately\\n',\n",
       " 'Amit Walia Sir: Hurry up\\n',\n",
       " 'Anurag Sir: Amit Sir\\nShare the attendance\\n',\n",
       " 'Akhilash Sir: Hello everyone , break is over please come back to class now.\\n\\nThank you and regards \\nAkhilash\\n',\n",
       " 'Amit Walia Sir: Ok sir\\n',\n",
       " 'Akhilash Sir: 84dc445dcbda4935b98fb30a8d14207a\\nhttps://multicognetivesearch.cognitiveservices.azure.com/\\n',\n",
       " 'Akhilash Sir: Hi everyone , lets start our session now..\\nPlease come back to class now\\n\\nThanks\\n',\n",
       " 'Amit Walia Sir: All students report in R301B oo\\n',\n",
       " 'Akhilash Sir: https://learn.microsoft.com/en-us/powershell/azure/install-azps-windows?view=azps-10.2.0&tabs=powershell&pivots=windows-psgallery\\n',\n",
       " 'Your security code with Parul changed. Tap to learn more.\\n']"
      ]
     },
     "execution_count": 181,
     "metadata": {},
     "output_type": "execute_result"
    }
   ],
   "source": [
    "pattern = r'\\d{1,2}/\\d{1,2}/\\d{2,4},\\s\\d{1,2}:\\d{1,2}\\u202f[APap][Mm]\\s-\\s'\n",
    "messages=re.split(pattern,data)[1:]\n",
    "messages"
   ]
  },
  {
   "cell_type": "code",
   "execution_count": 182,
   "id": "c3497970",
   "metadata": {},
   "outputs": [
    {
     "data": {
      "text/plain": [
       "['7/10/23, 12:47\\u202fPM - ',\n",
       " '7/10/23, 12:47\\u202fPM - ',\n",
       " '7/10/23, 12:47\\u202fPM - ',\n",
       " '7/10/23, 12:49\\u202fPM - ',\n",
       " '7/10/23, 1:00\\u202fPM - ',\n",
       " '7/10/23, 1:00\\u202fPM - ',\n",
       " '7/10/23, 1:55\\u202fPM - ',\n",
       " '7/11/23, 11:25\\u202fPM - ',\n",
       " '7/20/23, 10:15\\u202fAM - ',\n",
       " '7/20/23, 10:16\\u202fAM - ',\n",
       " '7/20/23, 4:17\\u202fPM - ',\n",
       " '7/23/23, 10:31\\u202fPM - ',\n",
       " '7/24/23, 3:05\\u202fAM - ',\n",
       " '7/26/23, 12:30\\u202fPM - ',\n",
       " '7/26/23, 12:31\\u202fPM - ',\n",
       " '7/26/23, 12:38\\u202fPM - ',\n",
       " '7/26/23, 1:03\\u202fPM - ',\n",
       " '7/26/23, 1:06\\u202fPM - ',\n",
       " '7/26/23, 2:34\\u202fPM - ',\n",
       " '7/26/23, 2:41\\u202fPM - ',\n",
       " '7/26/23, 2:41\\u202fPM - ',\n",
       " '7/26/23, 8:38\\u202fPM - ',\n",
       " '7/26/23, 8:38\\u202fPM - ',\n",
       " '7/26/23, 8:38\\u202fPM - ',\n",
       " '7/26/23, 8:39\\u202fPM - ',\n",
       " '7/26/23, 8:39\\u202fPM - ',\n",
       " '7/26/23, 8:39\\u202fPM - ',\n",
       " '7/26/23, 8:39\\u202fPM - ',\n",
       " '7/26/23, 8:39\\u202fPM - ',\n",
       " '7/26/23, 8:39\\u202fPM - ',\n",
       " '7/26/23, 8:43\\u202fPM - ',\n",
       " '7/26/23, 8:48\\u202fPM - ',\n",
       " '7/26/23, 8:55\\u202fPM - ',\n",
       " '7/27/23, 10:33\\u202fAM - ',\n",
       " '7/30/23, 2:11\\u202fPM - ',\n",
       " '7/31/23, 6:44\\u202fAM - ',\n",
       " '8/2/23, 1:06\\u202fPM - ',\n",
       " '8/2/23, 4:42\\u202fPM - ',\n",
       " '8/3/23, 7:31\\u202fPM - ',\n",
       " '8/3/23, 7:34\\u202fPM - ',\n",
       " '8/4/23, 9:20\\u202fAM - ',\n",
       " '8/4/23, 10:04\\u202fAM - ',\n",
       " '8/4/23, 10:14\\u202fAM - ',\n",
       " '8/4/23, 10:21\\u202fAM - ',\n",
       " '8/4/23, 11:50\\u202fAM - ',\n",
       " '8/4/23, 11:50\\u202fAM - ',\n",
       " '8/4/23, 12:01\\u202fPM - ',\n",
       " '8/4/23, 12:01\\u202fPM - ',\n",
       " '8/4/23, 12:03\\u202fPM - ',\n",
       " '8/6/23, 11:40\\u202fAM - ',\n",
       " '8/7/23, 9:37\\u202fAM - ',\n",
       " '8/7/23, 9:44\\u202fAM - ',\n",
       " '8/7/23, 10:24\\u202fAM - ',\n",
       " '8/7/23, 12:34\\u202fPM - ',\n",
       " '8/7/23, 1:49\\u202fPM - ',\n",
       " '8/7/23, 9:32\\u202fPM - ',\n",
       " '8/8/23, 11:39\\u202fAM - ',\n",
       " '8/8/23, 11:46\\u202fAM - ',\n",
       " '8/8/23, 11:49\\u202fAM - ',\n",
       " '8/8/23, 11:53\\u202fAM - ',\n",
       " '8/8/23, 11:54\\u202fAM - ',\n",
       " '8/8/23, 11:54\\u202fAM - ',\n",
       " '8/8/23, 11:55\\u202fAM - ',\n",
       " '8/8/23, 11:55\\u202fAM - ',\n",
       " '8/8/23, 12:18\\u202fPM - ',\n",
       " '8/8/23, 12:22\\u202fPM - ',\n",
       " '8/8/23, 12:26\\u202fPM - ',\n",
       " '8/8/23, 12:27\\u202fPM - ',\n",
       " '8/8/23, 12:31\\u202fPM - ',\n",
       " '8/8/23, 1:23\\u202fPM - ',\n",
       " '8/10/23, 3:29\\u202fPM - ',\n",
       " '8/11/23, 3:11\\u202fPM - ',\n",
       " '8/11/23, 5:11\\u202fPM - ',\n",
       " '8/11/23, 5:15\\u202fPM - ',\n",
       " '8/11/23, 6:14\\u202fPM - ',\n",
       " '8/12/23, 10:11\\u202fAM - ',\n",
       " '8/12/23, 10:11\\u202fAM - ',\n",
       " '8/12/23, 11:02\\u202fAM - ',\n",
       " '8/12/23, 11:26\\u202fAM - ',\n",
       " '8/12/23, 11:29\\u202fAM - ',\n",
       " '8/12/23, 12:55\\u202fPM - ',\n",
       " '8/12/23, 2:01\\u202fPM - ',\n",
       " '8/12/23, 2:03\\u202fPM - ',\n",
       " '8/12/23, 2:50\\u202fPM - ',\n",
       " '8/13/23, 8:43\\u202fAM - ']"
      ]
     },
     "execution_count": 182,
     "metadata": {},
     "output_type": "execute_result"
    }
   ],
   "source": [
    "dates=re.findall(pattern,data)\n",
    "dates"
   ]
  },
  {
   "cell_type": "code",
   "execution_count": 183,
   "id": "9fafd775",
   "metadata": {},
   "outputs": [
    {
     "data": {
      "text/html": [
       "<div>\n",
       "<style scoped>\n",
       "    .dataframe tbody tr th:only-of-type {\n",
       "        vertical-align: middle;\n",
       "    }\n",
       "\n",
       "    .dataframe tbody tr th {\n",
       "        vertical-align: top;\n",
       "    }\n",
       "\n",
       "    .dataframe thead th {\n",
       "        text-align: right;\n",
       "    }\n",
       "</style>\n",
       "<table border=\"1\" class=\"dataframe\">\n",
       "  <thead>\n",
       "    <tr style=\"text-align: right;\">\n",
       "      <th></th>\n",
       "      <th>user_message</th>\n",
       "      <th>message_date</th>\n",
       "    </tr>\n",
       "  </thead>\n",
       "  <tbody>\n",
       "    <tr>\n",
       "      <th>0</th>\n",
       "      <td>Messages and calls are end-to-end encrypted. N...</td>\n",
       "      <td>7/10/23, 12:47 PM -</td>\n",
       "    </tr>\n",
       "    <tr>\n",
       "      <th>1</th>\n",
       "      <td>Anjleen created group \"Honey Well Training\"\\n</td>\n",
       "      <td>7/10/23, 12:47 PM -</td>\n",
       "    </tr>\n",
       "    <tr>\n",
       "      <th>2</th>\n",
       "      <td>Anjleen added you\\n</td>\n",
       "      <td>7/10/23, 12:47 PM -</td>\n",
       "    </tr>\n",
       "    <tr>\n",
       "      <th>3</th>\n",
       "      <td>Anjleen added Amit Walia Sir, +91 6283 939 279...</td>\n",
       "      <td>7/10/23, 12:49 PM -</td>\n",
       "    </tr>\n",
       "    <tr>\n",
       "      <th>4</th>\n",
       "      <td>Amit Walia Sir: Dear students, complete the re...</td>\n",
       "      <td>7/10/23, 1:00 PM -</td>\n",
       "    </tr>\n",
       "    <tr>\n",
       "      <th>...</th>\n",
       "      <td>...</td>\n",
       "      <td>...</td>\n",
       "    </tr>\n",
       "    <tr>\n",
       "      <th>80</th>\n",
       "      <td>Akhilash Sir: 84dc445dcbda4935b98fb30a8d14207a...</td>\n",
       "      <td>8/12/23, 12:55 PM -</td>\n",
       "    </tr>\n",
       "    <tr>\n",
       "      <th>81</th>\n",
       "      <td>Akhilash Sir: Hi everyone , lets start our ses...</td>\n",
       "      <td>8/12/23, 2:01 PM -</td>\n",
       "    </tr>\n",
       "    <tr>\n",
       "      <th>82</th>\n",
       "      <td>Amit Walia Sir: All students report in R301B oo\\n</td>\n",
       "      <td>8/12/23, 2:03 PM -</td>\n",
       "    </tr>\n",
       "    <tr>\n",
       "      <th>83</th>\n",
       "      <td>Akhilash Sir: https://learn.microsoft.com/en-u...</td>\n",
       "      <td>8/12/23, 2:50 PM -</td>\n",
       "    </tr>\n",
       "    <tr>\n",
       "      <th>84</th>\n",
       "      <td>Your security code with Parul changed. Tap to ...</td>\n",
       "      <td>8/13/23, 8:43 AM -</td>\n",
       "    </tr>\n",
       "  </tbody>\n",
       "</table>\n",
       "<p>85 rows × 2 columns</p>\n",
       "</div>"
      ],
      "text/plain": [
       "                                         user_message          message_date\n",
       "0   Messages and calls are end-to-end encrypted. N...  7/10/23, 12:47 PM - \n",
       "1       Anjleen created group \"Honey Well Training\"\\n  7/10/23, 12:47 PM - \n",
       "2                                 Anjleen added you\\n  7/10/23, 12:47 PM - \n",
       "3   Anjleen added Amit Walia Sir, +91 6283 939 279...  7/10/23, 12:49 PM - \n",
       "4   Amit Walia Sir: Dear students, complete the re...   7/10/23, 1:00 PM - \n",
       "..                                                ...                   ...\n",
       "80  Akhilash Sir: 84dc445dcbda4935b98fb30a8d14207a...  8/12/23, 12:55 PM - \n",
       "81  Akhilash Sir: Hi everyone , lets start our ses...   8/12/23, 2:01 PM - \n",
       "82  Amit Walia Sir: All students report in R301B oo\\n   8/12/23, 2:03 PM - \n",
       "83  Akhilash Sir: https://learn.microsoft.com/en-u...   8/12/23, 2:50 PM - \n",
       "84  Your security code with Parul changed. Tap to ...   8/13/23, 8:43 AM - \n",
       "\n",
       "[85 rows x 2 columns]"
      ]
     },
     "execution_count": 183,
     "metadata": {},
     "output_type": "execute_result"
    }
   ],
   "source": [
    "df=pd.DataFrame({'user_message':messages,\"message_date\":dates})\n",
    "df"
   ]
  },
  {
   "cell_type": "code",
   "execution_count": 184,
   "id": "b721e967",
   "metadata": {},
   "outputs": [],
   "source": [
    "# kunal=open('WhatsApp Chat with Kunal Bhaii.txt','r',encoding='utf-8')\n",
    "# chat=kunal.read()\n",
    "# chat"
   ]
  },
  {
   "cell_type": "code",
   "execution_count": 185,
   "id": "06f589db",
   "metadata": {},
   "outputs": [],
   "source": [
    "# pattern = r'\\d{1,2}/\\d{1,2}/\\d{2,4},\\s\\d{1,2}:\\d{1,2}\\u202f[APap][Mm]\\s-\\s'\n",
    "# mess=re.split(pattern,chat)[1:]\n",
    "# mess"
   ]
  },
  {
   "cell_type": "code",
   "execution_count": 186,
   "id": "38330f51",
   "metadata": {},
   "outputs": [],
   "source": [
    "# da=re.findall(pattern,chat)\n",
    "# da"
   ]
  },
  {
   "cell_type": "code",
   "execution_count": 187,
   "id": "1c8aab29",
   "metadata": {},
   "outputs": [],
   "source": [
    "# frame=pd.DataFrame({'user_message':mess,\"message_date\":da})\n",
    "# frame"
   ]
  },
  {
   "cell_type": "code",
   "execution_count": 188,
   "id": "4904ab2f",
   "metadata": {},
   "outputs": [
    {
     "data": {
      "text/html": [
       "<div>\n",
       "<style scoped>\n",
       "    .dataframe tbody tr th:only-of-type {\n",
       "        vertical-align: middle;\n",
       "    }\n",
       "\n",
       "    .dataframe tbody tr th {\n",
       "        vertical-align: top;\n",
       "    }\n",
       "\n",
       "    .dataframe thead th {\n",
       "        text-align: right;\n",
       "    }\n",
       "</style>\n",
       "<table border=\"1\" class=\"dataframe\">\n",
       "  <thead>\n",
       "    <tr style=\"text-align: right;\">\n",
       "      <th></th>\n",
       "      <th>user_message</th>\n",
       "      <th>message_date</th>\n",
       "    </tr>\n",
       "  </thead>\n",
       "  <tbody>\n",
       "    <tr>\n",
       "      <th>0</th>\n",
       "      <td>Messages and calls are end-to-end encrypted. N...</td>\n",
       "      <td>2023-07-10 12:47:00</td>\n",
       "    </tr>\n",
       "    <tr>\n",
       "      <th>1</th>\n",
       "      <td>Anjleen created group \"Honey Well Training\"\\n</td>\n",
       "      <td>2023-07-10 12:47:00</td>\n",
       "    </tr>\n",
       "    <tr>\n",
       "      <th>2</th>\n",
       "      <td>Anjleen added you\\n</td>\n",
       "      <td>2023-07-10 12:47:00</td>\n",
       "    </tr>\n",
       "    <tr>\n",
       "      <th>3</th>\n",
       "      <td>Anjleen added Amit Walia Sir, +91 6283 939 279...</td>\n",
       "      <td>2023-07-10 12:49:00</td>\n",
       "    </tr>\n",
       "    <tr>\n",
       "      <th>4</th>\n",
       "      <td>Amit Walia Sir: Dear students, complete the re...</td>\n",
       "      <td>2023-07-10 01:00:00</td>\n",
       "    </tr>\n",
       "    <tr>\n",
       "      <th>...</th>\n",
       "      <td>...</td>\n",
       "      <td>...</td>\n",
       "    </tr>\n",
       "    <tr>\n",
       "      <th>80</th>\n",
       "      <td>Akhilash Sir: 84dc445dcbda4935b98fb30a8d14207a...</td>\n",
       "      <td>2023-08-12 12:55:00</td>\n",
       "    </tr>\n",
       "    <tr>\n",
       "      <th>81</th>\n",
       "      <td>Akhilash Sir: Hi everyone , lets start our ses...</td>\n",
       "      <td>2023-08-12 02:01:00</td>\n",
       "    </tr>\n",
       "    <tr>\n",
       "      <th>82</th>\n",
       "      <td>Amit Walia Sir: All students report in R301B oo\\n</td>\n",
       "      <td>2023-08-12 02:03:00</td>\n",
       "    </tr>\n",
       "    <tr>\n",
       "      <th>83</th>\n",
       "      <td>Akhilash Sir: https://learn.microsoft.com/en-u...</td>\n",
       "      <td>2023-08-12 02:50:00</td>\n",
       "    </tr>\n",
       "    <tr>\n",
       "      <th>84</th>\n",
       "      <td>Your security code with Parul changed. Tap to ...</td>\n",
       "      <td>2023-08-13 08:43:00</td>\n",
       "    </tr>\n",
       "  </tbody>\n",
       "</table>\n",
       "<p>85 rows × 2 columns</p>\n",
       "</div>"
      ],
      "text/plain": [
       "                                         user_message        message_date\n",
       "0   Messages and calls are end-to-end encrypted. N... 2023-07-10 12:47:00\n",
       "1       Anjleen created group \"Honey Well Training\"\\n 2023-07-10 12:47:00\n",
       "2                                 Anjleen added you\\n 2023-07-10 12:47:00\n",
       "3   Anjleen added Amit Walia Sir, +91 6283 939 279... 2023-07-10 12:49:00\n",
       "4   Amit Walia Sir: Dear students, complete the re... 2023-07-10 01:00:00\n",
       "..                                                ...                 ...\n",
       "80  Akhilash Sir: 84dc445dcbda4935b98fb30a8d14207a... 2023-08-12 12:55:00\n",
       "81  Akhilash Sir: Hi everyone , lets start our ses... 2023-08-12 02:01:00\n",
       "82  Amit Walia Sir: All students report in R301B oo\\n 2023-08-12 02:03:00\n",
       "83  Akhilash Sir: https://learn.microsoft.com/en-u... 2023-08-12 02:50:00\n",
       "84  Your security code with Parul changed. Tap to ... 2023-08-13 08:43:00\n",
       "\n",
       "[85 rows x 2 columns]"
      ]
     },
     "execution_count": 188,
     "metadata": {},
     "output_type": "execute_result"
    }
   ],
   "source": [
    "df['message_date'] = pd.to_datetime(df['message_date'], format='%m/%d/%y, %H:%M\\u202f%p - ')\n",
    "df"
   ]
  },
  {
   "cell_type": "code",
   "execution_count": 189,
   "id": "ee3320b8",
   "metadata": {},
   "outputs": [
    {
     "name": "stdout",
     "output_type": "stream",
     "text": [
      "['Messages and calls are end-to-end encrypted. No one outside of this chat, not even WhatsApp, can read or listen to them. Tap to learn more.\\n']\n",
      "['Anjleen created group \"Honey Well Training\"\\n']\n",
      "['Anjleen added you\\n']\n",
      "['Anjleen added Amit Walia Sir, +91 6283 939 279, and +91 98777 87366\\n']\n",
      "['', 'Amit Walia Sir', '', 'Dear students, complete the registration in Honeywell portal for  Certificate course on Artificial Intelligence. The list of enrolled students is also attached herewith.\\nThe link for the registration is', '', '                                                                              Student Registration Link', '', 'https://www.ictacademy.in/projects/Student_Enrollvalidation.aspx?id=8xE929Ga3OGXBG4\\n\\n Guidelines for students ', 'Students nominated by institutions are only eligible to register (students list attached)\\nBefore registering students must ensure their institution name and course name is being selected from the drop-down.\\nStudents must use the Name, Email id & Mobile number as per the enrolment sheet shared by the institution\\nStudents must ensure the spelling of their Name, Email - Id and mobile no. is right.\\nUpload a formal passport-size photo (Maximum size 1 MB, format .jpg & .png)\\n']\n",
      "['', 'Amit Walia Sir', 'Treat it urgent\\n']\n",
      "['Amit Walia Sir added +91 82640 00826\\n']\n",
      "['Your security code with Abhishek changed. Tap to learn more.\\n']\n",
      "['Amit Walia Sir added Anurag Sir\\n']\n",
      "['Amit Walia Sir added Neeta Rana Mam\\n']\n",
      "['Amit Walia Sir added Simran Mam GNA\\n']\n",
      "['Your security code with Kanish changed. Tap to learn more.\\n']\n",
      "['Your security code with Kanish changed. Tap to learn more.\\n']\n",
      "['Amit Walia Sir added +91 88944 40157\\n']\n",
      "['Amit Walia Sir added Ranvir Sir GNA\\n']\n",
      "['+91 88944 40157 added +91 75088 28780\\n']\n",
      "['+91 75088 28780 added Kirandeep, Parbinder, +91 6280 803 858, +91 84272 67075, +91 86990 52241, and +91 97796 85443\\n']\n",
      "['+91 75088 28780 added +91 97801 42700\\n']\n",
      "['Ranvir Sir GNA added +91 84278 33227\\n']\n",
      "['~\\u202fਐਸ਼ਮੀਤ added +91 70183 26404, +91 74996 64465, +91 75290 64261, +91 76269 20645, +91 77805 86224, +91 79731 86565, +91 84271 82071, +91 93260 69039, and +91 98772 47930\\n']\n",
      "['~\\u202fਐਸ਼ਮੀਤ added +91 70188 49401\\n']\n",
      "['', '+91 75290 64261', '??\\n']\n",
      "[\"Ranvir Sir GNA changed this group's settings to allow only admins to send messages to this group\\n\"]\n",
      "[\"Ranvir Sir GNA changed this group's settings to allow all participants to send messages to this group\\n\"]\n",
      "['Ranvir Sir GNA turned on admin approval to join this group.\\n']\n",
      "['Ranvir Sir GNA turned off admin approval to join this group.\\n']\n",
      "[\"Ranvir Sir GNA changed this group's settings to allow all participants to add others to this group.\\n\"]\n",
      "[\"Ranvir Sir GNA changed this group's settings to allow only admins to send messages to this group\\n\"]\n",
      "[\"Ranvir Sir GNA changed this group's settings to allow all participants to send messages to this group\\n\"]\n",
      "[\"Ranvir Sir GNA changed this group's settings to allow only admins to send messages to this group\\n\"]\n",
      "[\"Ranvir Sir GNA changed this group's settings to allow only admins to add others to this group.\\n\"]\n",
      "['Your security code with Kanish changed. Tap to learn more.\\n']\n",
      "['Anjleen added +91 86992 83312\\n']\n",
      "['+91 75088 28780 added +91 88473 45136 and +91 94176 43256\\n']\n",
      "['Your security code with Kanish changed. Tap to learn more.\\n']\n",
      "['Your security code with Francis changed. Tap to learn more.\\n']\n",
      "['', 'Amit Walia Sir', 'This is to inform all the students that the training by Honeywell Academy will begin from 7th August, 23 and an assessment test is scheduled regarding the same on 4th August,  23. It is mandatory for all the students to appear for the test and attend training,  otherwise strict disciplinary action will be taken.\\n']\n",
      "['', 'Neeta Rana Mam', 'This is to inform you that the pre-assessment test of the Honeywell Training will be in online mode. Soon we will share the related link. As per the guidelines, all registered students must appear in the pre-assessment test. As Training is planned for you and your absence can create issue.  In that situation strict disciplinary action will be taken against you.\\n']\n",
      "['', 'Amit Walia Sir', \"This is to inform you all that the link of mock test( honey well training test) will be shared in your registered email ID's @ 9:30 am, tomorrow. It's mandatory for all the students to attempt the mock test.\\nTiming for the test will be 10:00am to 12:00noon\\n\"]\n",
      "['', 'Ranvir Sir GNA', '✍️👍✍️\\n']\n",
      "['', 'Neeta Rana Mam', 'Good morning students, soon you will get the link of Pre-Assessment test on your email accounts. So, BE ready for the test. All the best..you all should be present\\n']\n",
      "['', 'Neeta Rana Mam', 'Have u got the pre-assessment link\\n']\n",
      "['', 'Amit Walia Sir', 'Students those have not received their test link, quickly inform us\\n']\n",
      "['', 'Amit Walia Sir', 'Students inform me with your name and course\\n']\n",
      "['', 'Amit Walia Sir', '<Media omitted>\\n']\n",
      "['', 'Amit Walia Sir', 'Above mentioned students send me your email id now\\n']\n",
      "['', 'Amit Walia Sir', 'Arsh and akash send me your email id\\n']\n",
      "['', 'Amit Walia Sir', 'Hurry up\\n']\n",
      "['', 'Neeta Rana Mam', \"Those who have not received the link yet. Once again check ur email I'd and attempt ur test.\\n\"]\n",
      "['', 'Neeta Rana Mam', 'Students, as AI training  is commencing from tomorrow. So you must carry ur laptop for hands-on practice.\\n']\n",
      "[\"+91 89258 05763 joined using this group's invite link\\n\"]\n",
      "['', 'Amit Walia Sir', 'All students report in 301B for Training\\n']\n",
      "['', 'Neeta Rana Mam', 'Quickly reach in B301. Disciplinary action will be taken against absentees\\n']\n",
      "['', 'Neeta Rana Mam', 'Students, you should be present in the B301 exactly at 2:00pm\\n']\n",
      "['', 'Neeta Rana Mam', 'Quickly reach in B301\\n']\n",
      "['+91\\xa097801\\xa042700 changed to +91\\xa081461\\xa058315\\n']\n",
      "['', 'Neeta Rana Mam', 'All students must be there at 11:45am\\n']\n",
      "['Neeta Rana Mam added Akhilash Sir\\n']\n",
      "['~\\u202fRavi sharma added +91 89258 28618\\n']\n",
      "['', 'Neeta Rana Mam', 'Aniket Mishra, Charanjit Suan, Arshdeep Singh, Inderpal Singh, Prabhjot Singh, ict Academy has send pre-assessment link. Attempt ur test till 2:00pm\\n']\n",
      "['~\\u202fJasmine added +91 75500 44143 and +91 93609 51406\\n']\n",
      "['', '+91 89258 28618', '<Media omitted>\\n']\n",
      "['', '+91 89258 28618', 'User ID and password\\n']\n",
      "['', '+91 89258 28618', '', 'These students will be having pre-assessment today link will be shared to your registered mail id *Link valid', '11:00 to 03:00*. All four modules need to be attended without fail.\\n*once the assessment is completed reply *Done*\\n']\n",
      "['', 'Neeta Rana Mam', 'Quickly reply, those have finished the test\\n']\n",
      "['', 'Neeta Rana Mam', 'Prabhjot Singh, inderpal Singh have finished the test\\n']\n",
      "['', 'Neeta Rana Mam', 'Charanjit suan has not received the email\\n']\n",
      "['', 'Neeta Rana Mam', '', 'Kindly verify his emailid its', 'charnjitsuan434@gmail.com\\n']\n",
      "['', 'Neeta Rana Mam', 'Aniket Mishra have not received the link yet\\n']\n",
      "[\"~\\u202fAron Dinesh A - Deputy Manager changed this group's icon\\n\"]\n",
      "['Your security code with Anjleen changed. Tap to learn more.\\n']\n",
      "['', 'Neeta Rana Mam', 'Saturday(11/8/23) is working. All students must be present for AI training in B301.\\n']\n",
      "['', 'Anurag Sir', 'Attendance is mandatory\\nNo excuses will be entertained\\n']\n",
      "['', 'Ranvir Sir GNA', '👍👍\\n']\n",
      "['Your security code with Anjleen changed. Tap to learn more.\\n']\n",
      "['', 'Amit Walia Sir', 'Students report in R301B is immediately\\n']\n",
      "['', 'Amit Walia Sir', 'Hurry up\\n']\n",
      "['', 'Anurag Sir', 'Amit Sir\\nShare the attendance\\n']\n",
      "['', 'Akhilash Sir', 'Hello everyone , break is over please come back to class now.\\n\\nThank you and regards \\nAkhilash\\n']\n",
      "['', 'Amit Walia Sir', 'Ok sir\\n']\n",
      "['', 'Akhilash Sir', '84dc445dcbda4935b98fb30a8d14207a\\nhttps://multicognetivesearch.cognitiveservices.azure.com/\\n']\n",
      "['', 'Akhilash Sir', 'Hi everyone , lets start our session now..\\nPlease come back to class now\\n\\nThanks\\n']\n",
      "['', 'Amit Walia Sir', 'All students report in R301B oo\\n']\n",
      "['', 'Akhilash Sir', 'https://learn.microsoft.com/en-us/powershell/azure/install-azps-windows?view=azps-10.2.0&tabs=powershell&pivots=windows-psgallery\\n']\n",
      "['Your security code with Parul changed. Tap to learn more.\\n']\n"
     ]
    }
   ],
   "source": [
    "for msg in df['user_message']:\n",
    "    line=re.split('([\\w\\W]+?):\\s',msg)\n",
    "    print(line)\n",
    "    \n"
   ]
  },
  {
   "cell_type": "code",
   "execution_count": 190,
   "id": "a58022f4",
   "metadata": {},
   "outputs": [
    {
     "data": {
      "text/html": [
       "<div>\n",
       "<style scoped>\n",
       "    .dataframe tbody tr th:only-of-type {\n",
       "        vertical-align: middle;\n",
       "    }\n",
       "\n",
       "    .dataframe tbody tr th {\n",
       "        vertical-align: top;\n",
       "    }\n",
       "\n",
       "    .dataframe thead th {\n",
       "        text-align: right;\n",
       "    }\n",
       "</style>\n",
       "<table border=\"1\" class=\"dataframe\">\n",
       "  <thead>\n",
       "    <tr style=\"text-align: right;\">\n",
       "      <th></th>\n",
       "      <th>message_date</th>\n",
       "      <th>user</th>\n",
       "      <th>message</th>\n",
       "    </tr>\n",
       "  </thead>\n",
       "  <tbody>\n",
       "    <tr>\n",
       "      <th>0</th>\n",
       "      <td>2023-07-10 12:47:00</td>\n",
       "      <td>group_notif</td>\n",
       "      <td>Messages and calls are end-to-end encrypted. N...</td>\n",
       "    </tr>\n",
       "    <tr>\n",
       "      <th>1</th>\n",
       "      <td>2023-07-10 12:47:00</td>\n",
       "      <td>group_notif</td>\n",
       "      <td>Anjleen created group \"Honey Well Training\"\\n</td>\n",
       "    </tr>\n",
       "    <tr>\n",
       "      <th>2</th>\n",
       "      <td>2023-07-10 12:47:00</td>\n",
       "      <td>group_notif</td>\n",
       "      <td>Anjleen added you\\n</td>\n",
       "    </tr>\n",
       "    <tr>\n",
       "      <th>3</th>\n",
       "      <td>2023-07-10 12:49:00</td>\n",
       "      <td>group_notif</td>\n",
       "      <td>Anjleen added Amit Walia Sir, +91 6283 939 279...</td>\n",
       "    </tr>\n",
       "    <tr>\n",
       "      <th>4</th>\n",
       "      <td>2023-07-10 01:00:00</td>\n",
       "      <td>Amit Walia Sir</td>\n",
       "      <td></td>\n",
       "    </tr>\n",
       "    <tr>\n",
       "      <th>...</th>\n",
       "      <td>...</td>\n",
       "      <td>...</td>\n",
       "      <td>...</td>\n",
       "    </tr>\n",
       "    <tr>\n",
       "      <th>80</th>\n",
       "      <td>2023-08-12 12:55:00</td>\n",
       "      <td>Akhilash Sir</td>\n",
       "      <td>84dc445dcbda4935b98fb30a8d14207a\\nhttps://mult...</td>\n",
       "    </tr>\n",
       "    <tr>\n",
       "      <th>81</th>\n",
       "      <td>2023-08-12 02:01:00</td>\n",
       "      <td>Akhilash Sir</td>\n",
       "      <td>Hi everyone , lets start our session now..\\nPl...</td>\n",
       "    </tr>\n",
       "    <tr>\n",
       "      <th>82</th>\n",
       "      <td>2023-08-12 02:03:00</td>\n",
       "      <td>Amit Walia Sir</td>\n",
       "      <td>All students report in R301B oo\\n</td>\n",
       "    </tr>\n",
       "    <tr>\n",
       "      <th>83</th>\n",
       "      <td>2023-08-12 02:50:00</td>\n",
       "      <td>Akhilash Sir</td>\n",
       "      <td>https://learn.microsoft.com/en-us/powershell/a...</td>\n",
       "    </tr>\n",
       "    <tr>\n",
       "      <th>84</th>\n",
       "      <td>2023-08-13 08:43:00</td>\n",
       "      <td>group_notif</td>\n",
       "      <td>Your security code with Parul changed. Tap to ...</td>\n",
       "    </tr>\n",
       "  </tbody>\n",
       "</table>\n",
       "<p>85 rows × 3 columns</p>\n",
       "</div>"
      ],
      "text/plain": [
       "          message_date            user  \\\n",
       "0  2023-07-10 12:47:00     group_notif   \n",
       "1  2023-07-10 12:47:00     group_notif   \n",
       "2  2023-07-10 12:47:00     group_notif   \n",
       "3  2023-07-10 12:49:00     group_notif   \n",
       "4  2023-07-10 01:00:00  Amit Walia Sir   \n",
       "..                 ...             ...   \n",
       "80 2023-08-12 12:55:00    Akhilash Sir   \n",
       "81 2023-08-12 02:01:00    Akhilash Sir   \n",
       "82 2023-08-12 02:03:00  Amit Walia Sir   \n",
       "83 2023-08-12 02:50:00    Akhilash Sir   \n",
       "84 2023-08-13 08:43:00     group_notif   \n",
       "\n",
       "                                              message  \n",
       "0   Messages and calls are end-to-end encrypted. N...  \n",
       "1       Anjleen created group \"Honey Well Training\"\\n  \n",
       "2                                 Anjleen added you\\n  \n",
       "3   Anjleen added Amit Walia Sir, +91 6283 939 279...  \n",
       "4                                                      \n",
       "..                                                ...  \n",
       "80  84dc445dcbda4935b98fb30a8d14207a\\nhttps://mult...  \n",
       "81  Hi everyone , lets start our session now..\\nPl...  \n",
       "82                  All students report in R301B oo\\n  \n",
       "83  https://learn.microsoft.com/en-us/powershell/a...  \n",
       "84  Your security code with Parul changed. Tap to ...  \n",
       "\n",
       "[85 rows x 3 columns]"
      ]
     },
     "execution_count": 190,
     "metadata": {},
     "output_type": "execute_result"
    }
   ],
   "source": [
    "#Seperate users and their respective messages\n",
    "users=[]\n",
    "messages=[]\n",
    "\n",
    "for msg in df['user_message']:\n",
    "    line=re.split('([\\w\\W]+?):\\s',msg)\n",
    "    if(line[1:]):\n",
    "        users.append(line[1])\n",
    "        messages.append(line[2])\n",
    "    else:\n",
    "        users.append('group_notif')\n",
    "        messages.append(line[0])\n",
    "        \n",
    "        \n",
    "df['user']=users\n",
    "df['message']=messages\n",
    "\n",
    "df.drop(columns={'user_message'},inplace=True)\n",
    "\n",
    "df\n",
    "        \n",
    "    \n",
    "    "
   ]
  },
  {
   "cell_type": "code",
   "execution_count": 191,
   "id": "a584c085",
   "metadata": {},
   "outputs": [],
   "source": [
    "import datetime as dt"
   ]
  },
  {
   "cell_type": "code",
   "execution_count": 192,
   "id": "c55f64cf",
   "metadata": {},
   "outputs": [],
   "source": [
    "df['year']=df['message_date'].dt.year"
   ]
  },
  {
   "cell_type": "code",
   "execution_count": 193,
   "id": "c3eed1f3",
   "metadata": {},
   "outputs": [
    {
     "data": {
      "text/plain": [
       "0       July\n",
       "1       July\n",
       "2       July\n",
       "3       July\n",
       "4       July\n",
       "       ...  \n",
       "80    August\n",
       "81    August\n",
       "82    August\n",
       "83    August\n",
       "84    August\n",
       "Name: month, Length: 85, dtype: object"
      ]
     },
     "execution_count": 193,
     "metadata": {},
     "output_type": "execute_result"
    }
   ],
   "source": [
    "df['month']=df['message_date'].dt.month_name()\n",
    "df['month']"
   ]
  },
  {
   "cell_type": "code",
   "execution_count": 83,
   "id": "d6e466db",
   "metadata": {},
   "outputs": [],
   "source": [
    "df['day']=df['message_date'].dt.day"
   ]
  },
  {
   "cell_type": "code",
   "execution_count": 84,
   "id": "cc295da0",
   "metadata": {},
   "outputs": [],
   "source": [
    "df['hour']=df['message_date'].dt.hour"
   ]
  },
  {
   "cell_type": "code",
   "execution_count": 85,
   "id": "540f8db6",
   "metadata": {},
   "outputs": [],
   "source": [
    "df['minute']=df['message_date'].dt.minute"
   ]
  },
  {
   "cell_type": "code",
   "execution_count": 86,
   "id": "86ad69f6",
   "metadata": {},
   "outputs": [
    {
     "data": {
      "text/html": [
       "<div>\n",
       "<style scoped>\n",
       "    .dataframe tbody tr th:only-of-type {\n",
       "        vertical-align: middle;\n",
       "    }\n",
       "\n",
       "    .dataframe tbody tr th {\n",
       "        vertical-align: top;\n",
       "    }\n",
       "\n",
       "    .dataframe thead th {\n",
       "        text-align: right;\n",
       "    }\n",
       "</style>\n",
       "<table border=\"1\" class=\"dataframe\">\n",
       "  <thead>\n",
       "    <tr style=\"text-align: right;\">\n",
       "      <th></th>\n",
       "      <th>message_date</th>\n",
       "      <th>user</th>\n",
       "      <th>message</th>\n",
       "      <th>year</th>\n",
       "      <th>month</th>\n",
       "      <th>day</th>\n",
       "      <th>hour</th>\n",
       "      <th>minute</th>\n",
       "    </tr>\n",
       "  </thead>\n",
       "  <tbody>\n",
       "    <tr>\n",
       "      <th>0</th>\n",
       "      <td>2020-11-14 11:33:00</td>\n",
       "      <td>group_notif</td>\n",
       "      <td>Messages and calls are end-to-end encrypted. N...</td>\n",
       "      <td>2020</td>\n",
       "      <td>November</td>\n",
       "      <td>14</td>\n",
       "      <td>11</td>\n",
       "      <td>33</td>\n",
       "    </tr>\n",
       "    <tr>\n",
       "      <th>1</th>\n",
       "      <td>2020-11-14 11:33:00</td>\n",
       "      <td>Suruchi Arora</td>\n",
       "      <td>You deleted this message\\n</td>\n",
       "      <td>2020</td>\n",
       "      <td>November</td>\n",
       "      <td>14</td>\n",
       "      <td>11</td>\n",
       "      <td>33</td>\n",
       "    </tr>\n",
       "    <tr>\n",
       "      <th>2</th>\n",
       "      <td>2020-11-14 11:34:00</td>\n",
       "      <td>Suruchi Arora</td>\n",
       "      <td>&lt;Media omitted&gt;\\n</td>\n",
       "      <td>2020</td>\n",
       "      <td>November</td>\n",
       "      <td>14</td>\n",
       "      <td>11</td>\n",
       "      <td>34</td>\n",
       "    </tr>\n",
       "    <tr>\n",
       "      <th>3</th>\n",
       "      <td>2020-11-14 03:47:00</td>\n",
       "      <td>Kunal Bhaii</td>\n",
       "      <td>Nice\\n</td>\n",
       "      <td>2020</td>\n",
       "      <td>November</td>\n",
       "      <td>14</td>\n",
       "      <td>3</td>\n",
       "      <td>47</td>\n",
       "    </tr>\n",
       "    <tr>\n",
       "      <th>4</th>\n",
       "      <td>2020-11-14 04:24:00</td>\n",
       "      <td>Suruchi Arora</td>\n",
       "      <td>Thanks\\n</td>\n",
       "      <td>2020</td>\n",
       "      <td>November</td>\n",
       "      <td>14</td>\n",
       "      <td>4</td>\n",
       "      <td>24</td>\n",
       "    </tr>\n",
       "  </tbody>\n",
       "</table>\n",
       "</div>"
      ],
      "text/plain": [
       "         message_date           user  \\\n",
       "0 2020-11-14 11:33:00    group_notif   \n",
       "1 2020-11-14 11:33:00  Suruchi Arora   \n",
       "2 2020-11-14 11:34:00  Suruchi Arora   \n",
       "3 2020-11-14 03:47:00    Kunal Bhaii   \n",
       "4 2020-11-14 04:24:00  Suruchi Arora   \n",
       "\n",
       "                                             message  year     month  day  \\\n",
       "0  Messages and calls are end-to-end encrypted. N...  2020  November   14   \n",
       "1                         You deleted this message\\n  2020  November   14   \n",
       "2                                  <Media omitted>\\n  2020  November   14   \n",
       "3                                             Nice\\n  2020  November   14   \n",
       "4                                           Thanks\\n  2020  November   14   \n",
       "\n",
       "   hour  minute  \n",
       "0    11      33  \n",
       "1    11      33  \n",
       "2    11      34  \n",
       "3     3      47  \n",
       "4     4      24  "
      ]
     },
     "execution_count": 86,
     "metadata": {},
     "output_type": "execute_result"
    }
   ],
   "source": [
    "df.head()"
   ]
  },
  {
   "cell_type": "code",
   "execution_count": 87,
   "id": "9dbe865c",
   "metadata": {},
   "outputs": [],
   "source": [
    "names=df['user'].unique().tolist()"
   ]
  },
  {
   "cell_type": "code",
   "execution_count": 88,
   "id": "68a46d0f",
   "metadata": {},
   "outputs": [],
   "source": [
    "words=[]\n",
    "for mag in df['message']:\n",
    "    words.extend(msg)\n",
    "    "
   ]
  },
  {
   "cell_type": "code",
   "execution_count": 89,
   "id": "48949fef",
   "metadata": {},
   "outputs": [
    {
     "data": {
      "text/plain": [
       "['happy', 'world']"
      ]
     },
     "execution_count": 89,
     "metadata": {},
     "output_type": "execute_result"
    }
   ],
   "source": [
    "new=[]\n",
    "msg=\"happy world\"\n",
    "new.extend(msg.split())\n",
    "# words.extend(2)\n",
    "# words.extend(3)\n",
    "# words.extend(4)\n",
    "new"
   ]
  },
  {
   "cell_type": "code",
   "execution_count": 90,
   "id": "b4428cb8",
   "metadata": {},
   "outputs": [
    {
     "data": {
      "text/plain": [
       "['happy', 'world']"
      ]
     },
     "execution_count": 90,
     "metadata": {},
     "output_type": "execute_result"
    }
   ],
   "source": [
    "new"
   ]
  },
  {
   "cell_type": "code",
   "execution_count": 91,
   "id": "05c0342c",
   "metadata": {},
   "outputs": [],
   "source": [
    "df=df[df['user']!=\"group_notif\"]"
   ]
  },
  {
   "cell_type": "code",
   "execution_count": 92,
   "id": "61eff9e9",
   "metadata": {},
   "outputs": [
    {
     "data": {
      "text/html": [
       "<div>\n",
       "<style scoped>\n",
       "    .dataframe tbody tr th:only-of-type {\n",
       "        vertical-align: middle;\n",
       "    }\n",
       "\n",
       "    .dataframe tbody tr th {\n",
       "        vertical-align: top;\n",
       "    }\n",
       "\n",
       "    .dataframe thead th {\n",
       "        text-align: right;\n",
       "    }\n",
       "</style>\n",
       "<table border=\"1\" class=\"dataframe\">\n",
       "  <thead>\n",
       "    <tr style=\"text-align: right;\">\n",
       "      <th></th>\n",
       "      <th>message_date</th>\n",
       "      <th>user</th>\n",
       "      <th>message</th>\n",
       "      <th>year</th>\n",
       "      <th>month</th>\n",
       "      <th>day</th>\n",
       "      <th>hour</th>\n",
       "      <th>minute</th>\n",
       "    </tr>\n",
       "  </thead>\n",
       "  <tbody>\n",
       "    <tr>\n",
       "      <th>1</th>\n",
       "      <td>2020-11-14 11:33:00</td>\n",
       "      <td>Suruchi Arora</td>\n",
       "      <td>You deleted this message\\n</td>\n",
       "      <td>2020</td>\n",
       "      <td>November</td>\n",
       "      <td>14</td>\n",
       "      <td>11</td>\n",
       "      <td>33</td>\n",
       "    </tr>\n",
       "    <tr>\n",
       "      <th>2</th>\n",
       "      <td>2020-11-14 11:34:00</td>\n",
       "      <td>Suruchi Arora</td>\n",
       "      <td>&lt;Media omitted&gt;\\n</td>\n",
       "      <td>2020</td>\n",
       "      <td>November</td>\n",
       "      <td>14</td>\n",
       "      <td>11</td>\n",
       "      <td>34</td>\n",
       "    </tr>\n",
       "    <tr>\n",
       "      <th>3</th>\n",
       "      <td>2020-11-14 03:47:00</td>\n",
       "      <td>Kunal Bhaii</td>\n",
       "      <td>Nice\\n</td>\n",
       "      <td>2020</td>\n",
       "      <td>November</td>\n",
       "      <td>14</td>\n",
       "      <td>3</td>\n",
       "      <td>47</td>\n",
       "    </tr>\n",
       "    <tr>\n",
       "      <th>4</th>\n",
       "      <td>2020-11-14 04:24:00</td>\n",
       "      <td>Suruchi Arora</td>\n",
       "      <td>Thanks\\n</td>\n",
       "      <td>2020</td>\n",
       "      <td>November</td>\n",
       "      <td>14</td>\n",
       "      <td>4</td>\n",
       "      <td>24</td>\n",
       "    </tr>\n",
       "    <tr>\n",
       "      <th>5</th>\n",
       "      <td>2020-12-09 08:43:00</td>\n",
       "      <td>Kunal Bhaii</td>\n",
       "      <td>Missed voice call\\n</td>\n",
       "      <td>2020</td>\n",
       "      <td>December</td>\n",
       "      <td>9</td>\n",
       "      <td>8</td>\n",
       "      <td>43</td>\n",
       "    </tr>\n",
       "    <tr>\n",
       "      <th>...</th>\n",
       "      <td>...</td>\n",
       "      <td>...</td>\n",
       "      <td>...</td>\n",
       "      <td>...</td>\n",
       "      <td>...</td>\n",
       "      <td>...</td>\n",
       "      <td>...</td>\n",
       "      <td>...</td>\n",
       "    </tr>\n",
       "    <tr>\n",
       "      <th>201</th>\n",
       "      <td>2023-07-25 10:32:00</td>\n",
       "      <td>Suruchi Arora</td>\n",
       "      <td>&lt;Media omitted&gt;\\n</td>\n",
       "      <td>2023</td>\n",
       "      <td>July</td>\n",
       "      <td>25</td>\n",
       "      <td>10</td>\n",
       "      <td>32</td>\n",
       "    </tr>\n",
       "    <tr>\n",
       "      <th>202</th>\n",
       "      <td>2023-07-25 10:32:00</td>\n",
       "      <td>Suruchi Arora</td>\n",
       "      <td>&lt;Media omitted&gt;\\n</td>\n",
       "      <td>2023</td>\n",
       "      <td>July</td>\n",
       "      <td>25</td>\n",
       "      <td>10</td>\n",
       "      <td>32</td>\n",
       "    </tr>\n",
       "    <tr>\n",
       "      <th>203</th>\n",
       "      <td>2023-07-25 10:32:00</td>\n",
       "      <td>Suruchi Arora</td>\n",
       "      <td>&lt;Media omitted&gt;\\n</td>\n",
       "      <td>2023</td>\n",
       "      <td>July</td>\n",
       "      <td>25</td>\n",
       "      <td>10</td>\n",
       "      <td>32</td>\n",
       "    </tr>\n",
       "    <tr>\n",
       "      <th>204</th>\n",
       "      <td>2023-07-25 10:32:00</td>\n",
       "      <td>Suruchi Arora</td>\n",
       "      <td>&lt;Media omitted&gt;\\n</td>\n",
       "      <td>2023</td>\n",
       "      <td>July</td>\n",
       "      <td>25</td>\n",
       "      <td>10</td>\n",
       "      <td>32</td>\n",
       "    </tr>\n",
       "    <tr>\n",
       "      <th>205</th>\n",
       "      <td>2023-07-25 11:56:00</td>\n",
       "      <td>Kunal Bhaii</td>\n",
       "      <td>❤️❤️❤️\\n</td>\n",
       "      <td>2023</td>\n",
       "      <td>July</td>\n",
       "      <td>25</td>\n",
       "      <td>11</td>\n",
       "      <td>56</td>\n",
       "    </tr>\n",
       "  </tbody>\n",
       "</table>\n",
       "<p>205 rows × 8 columns</p>\n",
       "</div>"
      ],
      "text/plain": [
       "           message_date           user                     message  year  \\\n",
       "1   2020-11-14 11:33:00  Suruchi Arora  You deleted this message\\n  2020   \n",
       "2   2020-11-14 11:34:00  Suruchi Arora           <Media omitted>\\n  2020   \n",
       "3   2020-11-14 03:47:00    Kunal Bhaii                      Nice\\n  2020   \n",
       "4   2020-11-14 04:24:00  Suruchi Arora                    Thanks\\n  2020   \n",
       "5   2020-12-09 08:43:00    Kunal Bhaii         Missed voice call\\n  2020   \n",
       "..                  ...            ...                         ...   ...   \n",
       "201 2023-07-25 10:32:00  Suruchi Arora           <Media omitted>\\n  2023   \n",
       "202 2023-07-25 10:32:00  Suruchi Arora           <Media omitted>\\n  2023   \n",
       "203 2023-07-25 10:32:00  Suruchi Arora           <Media omitted>\\n  2023   \n",
       "204 2023-07-25 10:32:00  Suruchi Arora           <Media omitted>\\n  2023   \n",
       "205 2023-07-25 11:56:00    Kunal Bhaii                    ❤️❤️❤️\\n  2023   \n",
       "\n",
       "        month  day  hour  minute  \n",
       "1    November   14    11      33  \n",
       "2    November   14    11      34  \n",
       "3    November   14     3      47  \n",
       "4    November   14     4      24  \n",
       "5    December    9     8      43  \n",
       "..        ...  ...   ...     ...  \n",
       "201      July   25    10      32  \n",
       "202      July   25    10      32  \n",
       "203      July   25    10      32  \n",
       "204      July   25    10      32  \n",
       "205      July   25    11      56  \n",
       "\n",
       "[205 rows x 8 columns]"
      ]
     },
     "execution_count": 92,
     "metadata": {},
     "output_type": "execute_result"
    }
   ],
   "source": [
    "df"
   ]
  },
  {
   "cell_type": "code",
   "execution_count": 93,
   "id": "070e0a9f",
   "metadata": {},
   "outputs": [],
   "source": [
    "from urlextract import URLExtract\n",
    "extractor = URLExtract()\n",
    "\n",
    "# plt.bar(n.index,n.values)"
   ]
  },
  {
   "cell_type": "code",
   "execution_count": 94,
   "id": "9d6fad9f",
   "metadata": {},
   "outputs": [
    {
     "data": {
      "text/plain": [
       "array([110,  95], dtype=int64)"
      ]
     },
     "execution_count": 94,
     "metadata": {},
     "output_type": "execute_result"
    }
   ],
   "source": [
    "n=df['user'].value_counts()\n",
    "n.values"
   ]
  },
  {
   "cell_type": "code",
   "execution_count": 95,
   "id": "9bfcfc06",
   "metadata": {},
   "outputs": [
    {
     "data": {
      "text/html": [
       "<div>\n",
       "<style scoped>\n",
       "    .dataframe tbody tr th:only-of-type {\n",
       "        vertical-align: middle;\n",
       "    }\n",
       "\n",
       "    .dataframe tbody tr th {\n",
       "        vertical-align: top;\n",
       "    }\n",
       "\n",
       "    .dataframe thead th {\n",
       "        text-align: right;\n",
       "    }\n",
       "</style>\n",
       "<table border=\"1\" class=\"dataframe\">\n",
       "  <thead>\n",
       "    <tr style=\"text-align: right;\">\n",
       "      <th></th>\n",
       "      <th>name</th>\n",
       "      <th>percent</th>\n",
       "    </tr>\n",
       "  </thead>\n",
       "  <tbody>\n",
       "    <tr>\n",
       "      <th>0</th>\n",
       "      <td>Suruchi Arora</td>\n",
       "      <td>53.66</td>\n",
       "    </tr>\n",
       "    <tr>\n",
       "      <th>1</th>\n",
       "      <td>Kunal Bhaii</td>\n",
       "      <td>46.34</td>\n",
       "    </tr>\n",
       "  </tbody>\n",
       "</table>\n",
       "</div>"
      ],
      "text/plain": [
       "            name  percent\n",
       "0  Suruchi Arora    53.66\n",
       "1    Kunal Bhaii    46.34"
      ]
     },
     "execution_count": 95,
     "metadata": {},
     "output_type": "execute_result"
    }
   ],
   "source": [
    "round((df['user'].value_counts()/df.shape[0])*100,2).reset_index().rename(columns={'index':'name','user':'percent'})"
   ]
  },
  {
   "cell_type": "code",
   "execution_count": 29,
   "id": "09bda7f3",
   "metadata": {},
   "outputs": [
    {
     "name": "stdout",
     "output_type": "stream",
     "text": [
      "no\n"
     ]
    }
   ],
   "source": [
    "import matplotlib.pyplot as plt\n",
    "ok=df[df['user']==\"ncd\"]\n",
    "if ok.empty:\n",
    "    print(\"no\")"
   ]
  },
  {
   "cell_type": "code",
   "execution_count": 30,
   "id": "68dfb707",
   "metadata": {},
   "outputs": [
    {
     "name": "stdout",
     "output_type": "stream",
     "text": [
      "Sorry\n"
     ]
    }
   ],
   "source": [
    "s=\"\"\n",
    "if(s==\"\"):\n",
    "    print(\"Sorry\")\n",
    "else:\n",
    "    wc=WordCloud(width=500,height=500,background_color=\"white\")\n",
    "    wordc=wc.generate(s)\n",
    "    fig, ax = plt.subplots()\n",
    "    ax.imshow(wordc, interpolation='bilinear')\n",
    "    ax.axis('off')  # Hide the axis\n",
    "    # st.pyplot(fig)\n",
    "    plt.show()"
   ]
  },
  {
   "cell_type": "code",
   "execution_count": 31,
   "id": "e4f164b7",
   "metadata": {},
   "outputs": [
    {
     "ename": "NameError",
     "evalue": "name 'wordc' is not defined",
     "output_type": "error",
     "traceback": [
      "\u001b[1;31m---------------------------------------------------------------------------\u001b[0m",
      "\u001b[1;31mNameError\u001b[0m                                 Traceback (most recent call last)",
      "Input \u001b[1;32mIn [31]\u001b[0m, in \u001b[0;36m<cell line: 2>\u001b[1;34m()\u001b[0m\n\u001b[0;32m      1\u001b[0m \u001b[38;5;28;01mfrom\u001b[39;00m \u001b[38;5;21;01mwordcloud\u001b[39;00m \u001b[38;5;28;01mimport\u001b[39;00m WordCloud\n\u001b[1;32m----> 2\u001b[0m \u001b[38;5;28mprint\u001b[39m(\u001b[43mwordc\u001b[49m\u001b[38;5;241m.\u001b[39mwords_)\n",
      "\u001b[1;31mNameError\u001b[0m: name 'wordc' is not defined"
     ]
    }
   ],
   "source": [
    "from wordcloud import WordCloud\n",
    "print(wordc.words_)"
   ]
  },
  {
   "cell_type": "code",
   "execution_count": null,
   "id": "0768af8b",
   "metadata": {},
   "outputs": [],
   "source": [
    "fig,ax=plt.subplots()"
   ]
  },
  {
   "cell_type": "code",
   "execution_count": null,
   "id": "831ea426",
   "metadata": {},
   "outputs": [],
   "source": [
    "plt.subplots()"
   ]
  },
  {
   "cell_type": "code",
   "execution_count": null,
   "id": "e6e64a21",
   "metadata": {},
   "outputs": [],
   "source": [
    "without_grp_df=df[df['user']!=\"group_notif\"]\n",
    "busy_df=(round((without_grp_df['user'].value_counts()/without_grp_df.shape[0])*100,2).reset_index().rename(columns={'index':'name','user':'percent'}))"
   ]
  },
  {
   "cell_type": "code",
   "execution_count": null,
   "id": "752db813",
   "metadata": {},
   "outputs": [],
   "source": [
    "fig,ax=plt.subplots()\n",
    "ax.bar(busy_df.index,busy_df.values)"
   ]
  },
  {
   "cell_type": "code",
   "execution_count": null,
   "id": "18cdf19f",
   "metadata": {},
   "outputs": [],
   "source": [
    "busy_df.values"
   ]
  },
  {
   "cell_type": "code",
   "execution_count": null,
   "id": "50a3c3e0",
   "metadata": {},
   "outputs": [],
   "source": [
    "ax"
   ]
  },
  {
   "cell_type": "code",
   "execution_count": null,
   "id": "373ed86f",
   "metadata": {},
   "outputs": [],
   "source": [
    "from wordcloud import WordCloud"
   ]
  },
  {
   "cell_type": "code",
   "execution_count": null,
   "id": "44a2d90f",
   "metadata": {},
   "outputs": [],
   "source": [
    "wc=WordCloud(width=500,height=500,background_color=\"white\")"
   ]
  },
  {
   "cell_type": "code",
   "execution_count": null,
   "id": "c39fc18a",
   "metadata": {},
   "outputs": [],
   "source": [
    "df_wc=wc.generate(filtered_df['message'].str.cat(sep=\"\"))\n",
    "plt.imshow(df_wc)"
   ]
  },
  {
   "cell_type": "code",
   "execution_count": null,
   "id": "10f5151b",
   "metadata": {},
   "outputs": [],
   "source": [
    "df['message'].str.cat(sep=\"\")"
   ]
  },
  {
   "cell_type": "code",
   "execution_count": 196,
   "id": "d89e433e",
   "metadata": {},
   "outputs": [
    {
     "data": {
      "text/html": [
       "<div>\n",
       "<style scoped>\n",
       "    .dataframe tbody tr th:only-of-type {\n",
       "        vertical-align: middle;\n",
       "    }\n",
       "\n",
       "    .dataframe tbody tr th {\n",
       "        vertical-align: top;\n",
       "    }\n",
       "\n",
       "    .dataframe thead th {\n",
       "        text-align: right;\n",
       "    }\n",
       "</style>\n",
       "<table border=\"1\" class=\"dataframe\">\n",
       "  <thead>\n",
       "    <tr style=\"text-align: right;\">\n",
       "      <th></th>\n",
       "      <th>message_date</th>\n",
       "      <th>user</th>\n",
       "      <th>message</th>\n",
       "      <th>year</th>\n",
       "      <th>month</th>\n",
       "    </tr>\n",
       "  </thead>\n",
       "  <tbody>\n",
       "    <tr>\n",
       "      <th>0</th>\n",
       "      <td>2023-07-10 12:47:00</td>\n",
       "      <td>group_notif</td>\n",
       "      <td>Messages and calls are end-to-end encrypted. N...</td>\n",
       "      <td>2023</td>\n",
       "      <td>July</td>\n",
       "    </tr>\n",
       "    <tr>\n",
       "      <th>1</th>\n",
       "      <td>2023-07-10 12:47:00</td>\n",
       "      <td>group_notif</td>\n",
       "      <td>Anjleen created group \"Honey Well Training\"\\n</td>\n",
       "      <td>2023</td>\n",
       "      <td>July</td>\n",
       "    </tr>\n",
       "    <tr>\n",
       "      <th>2</th>\n",
       "      <td>2023-07-10 12:47:00</td>\n",
       "      <td>group_notif</td>\n",
       "      <td>Anjleen added you\\n</td>\n",
       "      <td>2023</td>\n",
       "      <td>July</td>\n",
       "    </tr>\n",
       "    <tr>\n",
       "      <th>3</th>\n",
       "      <td>2023-07-10 12:49:00</td>\n",
       "      <td>group_notif</td>\n",
       "      <td>Anjleen added Amit Walia Sir, +91 6283 939 279...</td>\n",
       "      <td>2023</td>\n",
       "      <td>July</td>\n",
       "    </tr>\n",
       "    <tr>\n",
       "      <th>4</th>\n",
       "      <td>2023-07-10 01:00:00</td>\n",
       "      <td>Amit Walia Sir</td>\n",
       "      <td></td>\n",
       "      <td>2023</td>\n",
       "      <td>July</td>\n",
       "    </tr>\n",
       "    <tr>\n",
       "      <th>...</th>\n",
       "      <td>...</td>\n",
       "      <td>...</td>\n",
       "      <td>...</td>\n",
       "      <td>...</td>\n",
       "      <td>...</td>\n",
       "    </tr>\n",
       "    <tr>\n",
       "      <th>80</th>\n",
       "      <td>2023-08-12 12:55:00</td>\n",
       "      <td>Akhilash Sir</td>\n",
       "      <td>84dc445dcbda4935b98fb30a8d14207a\\nhttps://mult...</td>\n",
       "      <td>2023</td>\n",
       "      <td>August</td>\n",
       "    </tr>\n",
       "    <tr>\n",
       "      <th>81</th>\n",
       "      <td>2023-08-12 02:01:00</td>\n",
       "      <td>Akhilash Sir</td>\n",
       "      <td>Hi everyone , lets start our session now..\\nPl...</td>\n",
       "      <td>2023</td>\n",
       "      <td>August</td>\n",
       "    </tr>\n",
       "    <tr>\n",
       "      <th>82</th>\n",
       "      <td>2023-08-12 02:03:00</td>\n",
       "      <td>Amit Walia Sir</td>\n",
       "      <td>All students report in R301B oo\\n</td>\n",
       "      <td>2023</td>\n",
       "      <td>August</td>\n",
       "    </tr>\n",
       "    <tr>\n",
       "      <th>83</th>\n",
       "      <td>2023-08-12 02:50:00</td>\n",
       "      <td>Akhilash Sir</td>\n",
       "      <td>https://learn.microsoft.com/en-us/powershell/a...</td>\n",
       "      <td>2023</td>\n",
       "      <td>August</td>\n",
       "    </tr>\n",
       "    <tr>\n",
       "      <th>84</th>\n",
       "      <td>2023-08-13 08:43:00</td>\n",
       "      <td>group_notif</td>\n",
       "      <td>Your security code with Parul changed. Tap to ...</td>\n",
       "      <td>2023</td>\n",
       "      <td>August</td>\n",
       "    </tr>\n",
       "  </tbody>\n",
       "</table>\n",
       "<p>83 rows × 5 columns</p>\n",
       "</div>"
      ],
      "text/plain": [
       "          message_date            user  \\\n",
       "0  2023-07-10 12:47:00     group_notif   \n",
       "1  2023-07-10 12:47:00     group_notif   \n",
       "2  2023-07-10 12:47:00     group_notif   \n",
       "3  2023-07-10 12:49:00     group_notif   \n",
       "4  2023-07-10 01:00:00  Amit Walia Sir   \n",
       "..                 ...             ...   \n",
       "80 2023-08-12 12:55:00    Akhilash Sir   \n",
       "81 2023-08-12 02:01:00    Akhilash Sir   \n",
       "82 2023-08-12 02:03:00  Amit Walia Sir   \n",
       "83 2023-08-12 02:50:00    Akhilash Sir   \n",
       "84 2023-08-13 08:43:00     group_notif   \n",
       "\n",
       "                                              message  year   month  \n",
       "0   Messages and calls are end-to-end encrypted. N...  2023    July  \n",
       "1       Anjleen created group \"Honey Well Training\"\\n  2023    July  \n",
       "2                                 Anjleen added you\\n  2023    July  \n",
       "3   Anjleen added Amit Walia Sir, +91 6283 939 279...  2023    July  \n",
       "4                                                      2023    July  \n",
       "..                                                ...   ...     ...  \n",
       "80  84dc445dcbda4935b98fb30a8d14207a\\nhttps://mult...  2023  August  \n",
       "81  Hi everyone , lets start our session now..\\nPl...  2023  August  \n",
       "82                  All students report in R301B oo\\n  2023  August  \n",
       "83  https://learn.microsoft.com/en-us/powershell/a...  2023  August  \n",
       "84  Your security code with Parul changed. Tap to ...  2023  August  \n",
       "\n",
       "[83 rows x 5 columns]"
      ]
     },
     "execution_count": 196,
     "metadata": {},
     "output_type": "execute_result"
    }
   ],
   "source": [
    "filtered_df = df[\n",
    "    ~(df['message'] == \"You deleted this message\\n\") &\n",
    "    ~(df['message'] == \"<Media omitted>\\n\") &\n",
    "    ~(df['message'] == \"Missed voice call\\n\")\n",
    "]\n",
    "filtered_df\n",
    "\n",
    "\n",
    "# df_wc=wc.generate(filtered_df['message'].str.cat(sep=\"\"))\n",
    "# plt.imshow(df_wc)"
   ]
  },
  {
   "cell_type": "code",
   "execution_count": null,
   "id": "a576c48d",
   "metadata": {},
   "outputs": [],
   "source": [
    "list=[\"hello\",\"apple\",\"hello\",\"radha\",\"hello\",\"apple\",\"hello\",\"radha\"]"
   ]
  },
  {
   "cell_type": "code",
   "execution_count": null,
   "id": "9fe2a370",
   "metadata": {},
   "outputs": [],
   "source": [
    "from collections import Counter"
   ]
  },
  {
   "cell_type": "code",
   "execution_count": null,
   "id": "dbee4194",
   "metadata": {},
   "outputs": [],
   "source": [
    "pd.DataFrame(Counter(list).most_common(2))"
   ]
  },
  {
   "cell_type": "code",
   "execution_count": null,
   "id": "98941c75",
   "metadata": {},
   "outputs": [],
   "source": [
    "chats=[]\n",
    "for i in filtered_df['message']:\n",
    "    chats.append(i)\n",
    "m=pd.DataFrame(Counter(chats).most_common(10))\n",
    "m.values"
   ]
  },
  {
   "cell_type": "code",
   "execution_count": null,
   "id": "2a0b1df6",
   "metadata": {},
   "outputs": [],
   "source": [
    "for msg in filtered_df['message']:\n",
    "#     print(msg)\n",
    "    for i in msg.split():\n",
    "        print(i)"
   ]
  },
  {
   "cell_type": "code",
   "execution_count": null,
   "id": "190d2862",
   "metadata": {},
   "outputs": [],
   "source": [
    "this=pd.DataFrame(Counter(chats).most_common(10))"
   ]
  },
  {
   "cell_type": "code",
   "execution_count": null,
   "id": "f38d44d8",
   "metadata": {},
   "outputs": [],
   "source": [
    "this[0]"
   ]
  },
  {
   "cell_type": "code",
   "execution_count": null,
   "id": "78a59b0e",
   "metadata": {},
   "outputs": [],
   "source": [
    "ems=[]\n",
    "for msg in filtered_df['message']:\n",
    "        ems.extend([c for c in msg if c in emoji.UNICODE_EMOJI['en']])\n",
    "ems"
   ]
  },
  {
   "cell_type": "code",
   "execution_count": null,
   "id": "4b046bfc",
   "metadata": {},
   "outputs": [],
   "source": [
    "import emoji\n",
    "from collections import Counter\n",
    "for msg in filtered_df['message']:\n",
    "    ems.extend([c for c in msg if c in emoji.UNICODE_EMOJI['en']])\n",
    "emois_cnt_df=pd.DataFrame(Counter(ems).most_common(10))\n",
    "emois_cnt_df = emois_cnt_df.rename(columns={0: \"Emoji\", 1: \"Count\"})\n",
    "\n",
    "emois_cnt_df"
   ]
  },
  {
   "cell_type": "code",
   "execution_count": null,
   "id": "23f4dbef",
   "metadata": {},
   "outputs": [],
   "source": [
    "type(emois_cnt_df)"
   ]
  },
  {
   "cell_type": "code",
   "execution_count": null,
   "id": "bf1aa019",
   "metadata": {},
   "outputs": [],
   "source": [
    "emois_cnt_df.rename(columns={0:\"Emoji\",1:\"Count\"},inplace=True)"
   ]
  },
  {
   "cell_type": "code",
   "execution_count": null,
   "id": "b1ae4b0b",
   "metadata": {},
   "outputs": [],
   "source": [
    "type(emois_cnt_df)"
   ]
  },
  {
   "cell_type": "code",
   "execution_count": null,
   "id": "2e8f2dcd",
   "metadata": {},
   "outputs": [],
   "source": [
    "emois_cnt_df=emois_cnt_df.sort_values(by=\"Count\",ascending=False).head(6)"
   ]
  },
  {
   "cell_type": "code",
   "execution_count": null,
   "id": "54de291a",
   "metadata": {},
   "outputs": [],
   "source": [
    "plt.pie(top_emojis['Count'],labels=top_emojis[\"Emoji\"])"
   ]
  },
  {
   "cell_type": "code",
   "execution_count": 34,
   "id": "bf91450a",
   "metadata": {},
   "outputs": [
    {
     "data": {
      "text/html": [
       "<div>\n",
       "<style scoped>\n",
       "    .dataframe tbody tr th:only-of-type {\n",
       "        vertical-align: middle;\n",
       "    }\n",
       "\n",
       "    .dataframe tbody tr th {\n",
       "        vertical-align: top;\n",
       "    }\n",
       "\n",
       "    .dataframe thead th {\n",
       "        text-align: right;\n",
       "    }\n",
       "</style>\n",
       "<table border=\"1\" class=\"dataframe\">\n",
       "  <thead>\n",
       "    <tr style=\"text-align: right;\">\n",
       "      <th></th>\n",
       "      <th>message_date</th>\n",
       "      <th>user</th>\n",
       "      <th>message</th>\n",
       "      <th>year</th>\n",
       "      <th>month</th>\n",
       "      <th>day</th>\n",
       "      <th>hour</th>\n",
       "      <th>minute</th>\n",
       "    </tr>\n",
       "  </thead>\n",
       "  <tbody>\n",
       "    <tr>\n",
       "      <th>1</th>\n",
       "      <td>2020-11-14 11:33:00</td>\n",
       "      <td>Suruchi Arora</td>\n",
       "      <td>You deleted this message\\n</td>\n",
       "      <td>2020</td>\n",
       "      <td>November</td>\n",
       "      <td>14</td>\n",
       "      <td>11</td>\n",
       "      <td>33</td>\n",
       "    </tr>\n",
       "    <tr>\n",
       "      <th>2</th>\n",
       "      <td>2020-11-14 11:34:00</td>\n",
       "      <td>Suruchi Arora</td>\n",
       "      <td>&lt;Media omitted&gt;\\n</td>\n",
       "      <td>2020</td>\n",
       "      <td>November</td>\n",
       "      <td>14</td>\n",
       "      <td>11</td>\n",
       "      <td>34</td>\n",
       "    </tr>\n",
       "    <tr>\n",
       "      <th>3</th>\n",
       "      <td>2020-11-14 03:47:00</td>\n",
       "      <td>Kunal Bhaii</td>\n",
       "      <td>Nice\\n</td>\n",
       "      <td>2020</td>\n",
       "      <td>November</td>\n",
       "      <td>14</td>\n",
       "      <td>3</td>\n",
       "      <td>47</td>\n",
       "    </tr>\n",
       "    <tr>\n",
       "      <th>4</th>\n",
       "      <td>2020-11-14 04:24:00</td>\n",
       "      <td>Suruchi Arora</td>\n",
       "      <td>Thanks\\n</td>\n",
       "      <td>2020</td>\n",
       "      <td>November</td>\n",
       "      <td>14</td>\n",
       "      <td>4</td>\n",
       "      <td>24</td>\n",
       "    </tr>\n",
       "    <tr>\n",
       "      <th>5</th>\n",
       "      <td>2020-12-09 08:43:00</td>\n",
       "      <td>Kunal Bhaii</td>\n",
       "      <td>Missed voice call\\n</td>\n",
       "      <td>2020</td>\n",
       "      <td>December</td>\n",
       "      <td>9</td>\n",
       "      <td>8</td>\n",
       "      <td>43</td>\n",
       "    </tr>\n",
       "    <tr>\n",
       "      <th>...</th>\n",
       "      <td>...</td>\n",
       "      <td>...</td>\n",
       "      <td>...</td>\n",
       "      <td>...</td>\n",
       "      <td>...</td>\n",
       "      <td>...</td>\n",
       "      <td>...</td>\n",
       "      <td>...</td>\n",
       "    </tr>\n",
       "    <tr>\n",
       "      <th>201</th>\n",
       "      <td>2023-07-25 10:32:00</td>\n",
       "      <td>Suruchi Arora</td>\n",
       "      <td>&lt;Media omitted&gt;\\n</td>\n",
       "      <td>2023</td>\n",
       "      <td>July</td>\n",
       "      <td>25</td>\n",
       "      <td>10</td>\n",
       "      <td>32</td>\n",
       "    </tr>\n",
       "    <tr>\n",
       "      <th>202</th>\n",
       "      <td>2023-07-25 10:32:00</td>\n",
       "      <td>Suruchi Arora</td>\n",
       "      <td>&lt;Media omitted&gt;\\n</td>\n",
       "      <td>2023</td>\n",
       "      <td>July</td>\n",
       "      <td>25</td>\n",
       "      <td>10</td>\n",
       "      <td>32</td>\n",
       "    </tr>\n",
       "    <tr>\n",
       "      <th>203</th>\n",
       "      <td>2023-07-25 10:32:00</td>\n",
       "      <td>Suruchi Arora</td>\n",
       "      <td>&lt;Media omitted&gt;\\n</td>\n",
       "      <td>2023</td>\n",
       "      <td>July</td>\n",
       "      <td>25</td>\n",
       "      <td>10</td>\n",
       "      <td>32</td>\n",
       "    </tr>\n",
       "    <tr>\n",
       "      <th>204</th>\n",
       "      <td>2023-07-25 10:32:00</td>\n",
       "      <td>Suruchi Arora</td>\n",
       "      <td>&lt;Media omitted&gt;\\n</td>\n",
       "      <td>2023</td>\n",
       "      <td>July</td>\n",
       "      <td>25</td>\n",
       "      <td>10</td>\n",
       "      <td>32</td>\n",
       "    </tr>\n",
       "    <tr>\n",
       "      <th>205</th>\n",
       "      <td>2023-07-25 11:56:00</td>\n",
       "      <td>Kunal Bhaii</td>\n",
       "      <td>❤️❤️❤️\\n</td>\n",
       "      <td>2023</td>\n",
       "      <td>July</td>\n",
       "      <td>25</td>\n",
       "      <td>11</td>\n",
       "      <td>56</td>\n",
       "    </tr>\n",
       "  </tbody>\n",
       "</table>\n",
       "<p>205 rows × 8 columns</p>\n",
       "</div>"
      ],
      "text/plain": [
       "           message_date           user                     message  year  \\\n",
       "1   2020-11-14 11:33:00  Suruchi Arora  You deleted this message\\n  2020   \n",
       "2   2020-11-14 11:34:00  Suruchi Arora           <Media omitted>\\n  2020   \n",
       "3   2020-11-14 03:47:00    Kunal Bhaii                      Nice\\n  2020   \n",
       "4   2020-11-14 04:24:00  Suruchi Arora                    Thanks\\n  2020   \n",
       "5   2020-12-09 08:43:00    Kunal Bhaii         Missed voice call\\n  2020   \n",
       "..                  ...            ...                         ...   ...   \n",
       "201 2023-07-25 10:32:00  Suruchi Arora           <Media omitted>\\n  2023   \n",
       "202 2023-07-25 10:32:00  Suruchi Arora           <Media omitted>\\n  2023   \n",
       "203 2023-07-25 10:32:00  Suruchi Arora           <Media omitted>\\n  2023   \n",
       "204 2023-07-25 10:32:00  Suruchi Arora           <Media omitted>\\n  2023   \n",
       "205 2023-07-25 11:56:00    Kunal Bhaii                    ❤️❤️❤️\\n  2023   \n",
       "\n",
       "        month  day  hour  minute  \n",
       "1    November   14    11      33  \n",
       "2    November   14    11      34  \n",
       "3    November   14     3      47  \n",
       "4    November   14     4      24  \n",
       "5    December    9     8      43  \n",
       "..        ...  ...   ...     ...  \n",
       "201      July   25    10      32  \n",
       "202      July   25    10      32  \n",
       "203      July   25    10      32  \n",
       "204      July   25    10      32  \n",
       "205      July   25    11      56  \n",
       "\n",
       "[205 rows x 8 columns]"
      ]
     },
     "execution_count": 34,
     "metadata": {},
     "output_type": "execute_result"
    }
   ],
   "source": [
    "df"
   ]
  },
  {
   "cell_type": "code",
   "execution_count": 35,
   "id": "f93cabf4",
   "metadata": {},
   "outputs": [
    {
     "name": "stderr",
     "output_type": "stream",
     "text": [
      "C:\\Users\\Suruchi\\AppData\\Local\\Temp\\ipykernel_30464\\2124386141.py:1: SettingWithCopyWarning: \n",
      "A value is trying to be set on a copy of a slice from a DataFrame.\n",
      "Try using .loc[row_indexer,col_indexer] = value instead\n",
      "\n",
      "See the caveats in the documentation: https://pandas.pydata.org/pandas-docs/stable/user_guide/indexing.html#returning-a-view-versus-a-copy\n",
      "  df['month_num']=df['message_date'].dt.month\n"
     ]
    }
   ],
   "source": [
    "df['month_num']=df['message_date'].dt.month"
   ]
  },
  {
   "cell_type": "code",
   "execution_count": 54,
   "id": "b5410387",
   "metadata": {},
   "outputs": [
    {
     "data": {
      "text/html": [
       "<div>\n",
       "<style scoped>\n",
       "    .dataframe tbody tr th:only-of-type {\n",
       "        vertical-align: middle;\n",
       "    }\n",
       "\n",
       "    .dataframe tbody tr th {\n",
       "        vertical-align: top;\n",
       "    }\n",
       "\n",
       "    .dataframe thead th {\n",
       "        text-align: right;\n",
       "    }\n",
       "</style>\n",
       "<table border=\"1\" class=\"dataframe\">\n",
       "  <thead>\n",
       "    <tr style=\"text-align: right;\">\n",
       "      <th></th>\n",
       "      <th>year</th>\n",
       "      <th>month_num</th>\n",
       "      <th>month</th>\n",
       "      <th>message</th>\n",
       "    </tr>\n",
       "  </thead>\n",
       "  <tbody>\n",
       "    <tr>\n",
       "      <th>0</th>\n",
       "      <td>2020</td>\n",
       "      <td>11</td>\n",
       "      <td>November</td>\n",
       "      <td>4</td>\n",
       "    </tr>\n",
       "    <tr>\n",
       "      <th>1</th>\n",
       "      <td>2020</td>\n",
       "      <td>12</td>\n",
       "      <td>December</td>\n",
       "      <td>1</td>\n",
       "    </tr>\n",
       "    <tr>\n",
       "      <th>2</th>\n",
       "      <td>2021</td>\n",
       "      <td>1</td>\n",
       "      <td>January</td>\n",
       "      <td>1</td>\n",
       "    </tr>\n",
       "    <tr>\n",
       "      <th>3</th>\n",
       "      <td>2021</td>\n",
       "      <td>2</td>\n",
       "      <td>February</td>\n",
       "      <td>1</td>\n",
       "    </tr>\n",
       "    <tr>\n",
       "      <th>4</th>\n",
       "      <td>2021</td>\n",
       "      <td>3</td>\n",
       "      <td>March</td>\n",
       "      <td>2</td>\n",
       "    </tr>\n",
       "  </tbody>\n",
       "</table>\n",
       "</div>"
      ],
      "text/plain": [
       "   year  month_num     month  message\n",
       "0  2020         11  November        4\n",
       "1  2020         12  December        1\n",
       "2  2021          1   January        1\n",
       "3  2021          2  February        1\n",
       "4  2021          3     March        2"
      ]
     },
     "execution_count": 54,
     "metadata": {},
     "output_type": "execute_result"
    }
   ],
   "source": [
    "timeline=df.groupby(['year','month_num','month']).count()['message'].reset_index()\n",
    "timeline.head()"
   ]
  },
  {
   "cell_type": "code",
   "execution_count": 104,
   "id": "bec2437a",
   "metadata": {},
   "outputs": [],
   "source": [
    "time_list=[]\n",
    "for i in range(timeline.shape[0]):\n",
    "    time_list.append(str(timeline['month'][i])+\"-\"+str(timeline['year'][i]))\n",
    "timeline['month_year']=time_list\n",
    "# time_list"
   ]
  },
  {
   "cell_type": "code",
   "execution_count": 105,
   "id": "1737fb5c",
   "metadata": {},
   "outputs": [
    {
     "data": {
      "text/html": [
       "<div>\n",
       "<style scoped>\n",
       "    .dataframe tbody tr th:only-of-type {\n",
       "        vertical-align: middle;\n",
       "    }\n",
       "\n",
       "    .dataframe tbody tr th {\n",
       "        vertical-align: top;\n",
       "    }\n",
       "\n",
       "    .dataframe thead th {\n",
       "        text-align: right;\n",
       "    }\n",
       "</style>\n",
       "<table border=\"1\" class=\"dataframe\">\n",
       "  <thead>\n",
       "    <tr style=\"text-align: right;\">\n",
       "      <th></th>\n",
       "      <th>year</th>\n",
       "      <th>month_num</th>\n",
       "      <th>month</th>\n",
       "      <th>message</th>\n",
       "      <th>month_year</th>\n",
       "    </tr>\n",
       "  </thead>\n",
       "  <tbody>\n",
       "    <tr>\n",
       "      <th>0</th>\n",
       "      <td>2020</td>\n",
       "      <td>11</td>\n",
       "      <td>November</td>\n",
       "      <td>4</td>\n",
       "      <td>November-2020</td>\n",
       "    </tr>\n",
       "    <tr>\n",
       "      <th>1</th>\n",
       "      <td>2020</td>\n",
       "      <td>12</td>\n",
       "      <td>December</td>\n",
       "      <td>1</td>\n",
       "      <td>December-2020</td>\n",
       "    </tr>\n",
       "    <tr>\n",
       "      <th>2</th>\n",
       "      <td>2021</td>\n",
       "      <td>1</td>\n",
       "      <td>January</td>\n",
       "      <td>1</td>\n",
       "      <td>January-2021</td>\n",
       "    </tr>\n",
       "    <tr>\n",
       "      <th>3</th>\n",
       "      <td>2021</td>\n",
       "      <td>2</td>\n",
       "      <td>February</td>\n",
       "      <td>1</td>\n",
       "      <td>February-2021</td>\n",
       "    </tr>\n",
       "    <tr>\n",
       "      <th>4</th>\n",
       "      <td>2021</td>\n",
       "      <td>3</td>\n",
       "      <td>March</td>\n",
       "      <td>2</td>\n",
       "      <td>March-2021</td>\n",
       "    </tr>\n",
       "    <tr>\n",
       "      <th>5</th>\n",
       "      <td>2021</td>\n",
       "      <td>6</td>\n",
       "      <td>June</td>\n",
       "      <td>22</td>\n",
       "      <td>June-2021</td>\n",
       "    </tr>\n",
       "    <tr>\n",
       "      <th>6</th>\n",
       "      <td>2021</td>\n",
       "      <td>7</td>\n",
       "      <td>July</td>\n",
       "      <td>16</td>\n",
       "      <td>July-2021</td>\n",
       "    </tr>\n",
       "    <tr>\n",
       "      <th>7</th>\n",
       "      <td>2021</td>\n",
       "      <td>12</td>\n",
       "      <td>December</td>\n",
       "      <td>8</td>\n",
       "      <td>December-2021</td>\n",
       "    </tr>\n",
       "    <tr>\n",
       "      <th>8</th>\n",
       "      <td>2022</td>\n",
       "      <td>1</td>\n",
       "      <td>January</td>\n",
       "      <td>16</td>\n",
       "      <td>January-2022</td>\n",
       "    </tr>\n",
       "    <tr>\n",
       "      <th>9</th>\n",
       "      <td>2022</td>\n",
       "      <td>2</td>\n",
       "      <td>February</td>\n",
       "      <td>13</td>\n",
       "      <td>February-2022</td>\n",
       "    </tr>\n",
       "    <tr>\n",
       "      <th>10</th>\n",
       "      <td>2022</td>\n",
       "      <td>3</td>\n",
       "      <td>March</td>\n",
       "      <td>7</td>\n",
       "      <td>March-2022</td>\n",
       "    </tr>\n",
       "    <tr>\n",
       "      <th>11</th>\n",
       "      <td>2022</td>\n",
       "      <td>5</td>\n",
       "      <td>May</td>\n",
       "      <td>2</td>\n",
       "      <td>May-2022</td>\n",
       "    </tr>\n",
       "    <tr>\n",
       "      <th>12</th>\n",
       "      <td>2022</td>\n",
       "      <td>6</td>\n",
       "      <td>June</td>\n",
       "      <td>10</td>\n",
       "      <td>June-2022</td>\n",
       "    </tr>\n",
       "    <tr>\n",
       "      <th>13</th>\n",
       "      <td>2022</td>\n",
       "      <td>7</td>\n",
       "      <td>July</td>\n",
       "      <td>15</td>\n",
       "      <td>July-2022</td>\n",
       "    </tr>\n",
       "    <tr>\n",
       "      <th>14</th>\n",
       "      <td>2022</td>\n",
       "      <td>8</td>\n",
       "      <td>August</td>\n",
       "      <td>3</td>\n",
       "      <td>August-2022</td>\n",
       "    </tr>\n",
       "    <tr>\n",
       "      <th>15</th>\n",
       "      <td>2022</td>\n",
       "      <td>10</td>\n",
       "      <td>October</td>\n",
       "      <td>1</td>\n",
       "      <td>October-2022</td>\n",
       "    </tr>\n",
       "    <tr>\n",
       "      <th>16</th>\n",
       "      <td>2022</td>\n",
       "      <td>12</td>\n",
       "      <td>December</td>\n",
       "      <td>31</td>\n",
       "      <td>December-2022</td>\n",
       "    </tr>\n",
       "    <tr>\n",
       "      <th>17</th>\n",
       "      <td>2023</td>\n",
       "      <td>1</td>\n",
       "      <td>January</td>\n",
       "      <td>6</td>\n",
       "      <td>January-2023</td>\n",
       "    </tr>\n",
       "    <tr>\n",
       "      <th>18</th>\n",
       "      <td>2023</td>\n",
       "      <td>3</td>\n",
       "      <td>March</td>\n",
       "      <td>17</td>\n",
       "      <td>March-2023</td>\n",
       "    </tr>\n",
       "    <tr>\n",
       "      <th>19</th>\n",
       "      <td>2023</td>\n",
       "      <td>4</td>\n",
       "      <td>April</td>\n",
       "      <td>11</td>\n",
       "      <td>April-2023</td>\n",
       "    </tr>\n",
       "    <tr>\n",
       "      <th>20</th>\n",
       "      <td>2023</td>\n",
       "      <td>5</td>\n",
       "      <td>May</td>\n",
       "      <td>4</td>\n",
       "      <td>May-2023</td>\n",
       "    </tr>\n",
       "    <tr>\n",
       "      <th>21</th>\n",
       "      <td>2023</td>\n",
       "      <td>6</td>\n",
       "      <td>June</td>\n",
       "      <td>1</td>\n",
       "      <td>June-2023</td>\n",
       "    </tr>\n",
       "    <tr>\n",
       "      <th>22</th>\n",
       "      <td>2023</td>\n",
       "      <td>7</td>\n",
       "      <td>July</td>\n",
       "      <td>13</td>\n",
       "      <td>July-2023</td>\n",
       "    </tr>\n",
       "  </tbody>\n",
       "</table>\n",
       "</div>"
      ],
      "text/plain": [
       "    year  month_num     month  message     month_year\n",
       "0   2020         11  November        4  November-2020\n",
       "1   2020         12  December        1  December-2020\n",
       "2   2021          1   January        1   January-2021\n",
       "3   2021          2  February        1  February-2021\n",
       "4   2021          3     March        2     March-2021\n",
       "5   2021          6      June       22      June-2021\n",
       "6   2021          7      July       16      July-2021\n",
       "7   2021         12  December        8  December-2021\n",
       "8   2022          1   January       16   January-2022\n",
       "9   2022          2  February       13  February-2022\n",
       "10  2022          3     March        7     March-2022\n",
       "11  2022          5       May        2       May-2022\n",
       "12  2022          6      June       10      June-2022\n",
       "13  2022          7      July       15      July-2022\n",
       "14  2022          8    August        3    August-2022\n",
       "15  2022         10   October        1   October-2022\n",
       "16  2022         12  December       31  December-2022\n",
       "17  2023          1   January        6   January-2023\n",
       "18  2023          3     March       17     March-2023\n",
       "19  2023          4     April       11     April-2023\n",
       "20  2023          5       May        4       May-2023\n",
       "21  2023          6      June        1      June-2023\n",
       "22  2023          7      July       13      July-2023"
      ]
     },
     "execution_count": 105,
     "metadata": {},
     "output_type": "execute_result"
    }
   ],
   "source": [
    "timeline"
   ]
  },
  {
   "cell_type": "code",
   "execution_count": null,
   "id": "c3c78b42",
   "metadata": {},
   "outputs": [],
   "source": [
    "filtered_df"
   ]
  },
  {
   "cell_type": "code",
   "execution_count": 41,
   "id": "60afe67d",
   "metadata": {},
   "outputs": [
    {
     "data": {
      "text/html": [
       "<div>\n",
       "<style scoped>\n",
       "    .dataframe tbody tr th:only-of-type {\n",
       "        vertical-align: middle;\n",
       "    }\n",
       "\n",
       "    .dataframe tbody tr th {\n",
       "        vertical-align: top;\n",
       "    }\n",
       "\n",
       "    .dataframe thead th {\n",
       "        text-align: right;\n",
       "    }\n",
       "</style>\n",
       "<table border=\"1\" class=\"dataframe\">\n",
       "  <thead>\n",
       "    <tr style=\"text-align: right;\">\n",
       "      <th></th>\n",
       "      <th>index</th>\n",
       "      <th>month</th>\n",
       "    </tr>\n",
       "  </thead>\n",
       "  <tbody>\n",
       "    <tr>\n",
       "      <th>0</th>\n",
       "      <td>December</td>\n",
       "      <td>25</td>\n",
       "    </tr>\n",
       "    <tr>\n",
       "      <th>1</th>\n",
       "      <td>March</td>\n",
       "      <td>21</td>\n",
       "    </tr>\n",
       "    <tr>\n",
       "      <th>2</th>\n",
       "      <td>June</td>\n",
       "      <td>12</td>\n",
       "    </tr>\n",
       "    <tr>\n",
       "      <th>3</th>\n",
       "      <td>July</td>\n",
       "      <td>12</td>\n",
       "    </tr>\n",
       "    <tr>\n",
       "      <th>4</th>\n",
       "      <td>April</td>\n",
       "      <td>11</td>\n",
       "    </tr>\n",
       "    <tr>\n",
       "      <th>5</th>\n",
       "      <td>February</td>\n",
       "      <td>8</td>\n",
       "    </tr>\n",
       "    <tr>\n",
       "      <th>6</th>\n",
       "      <td>January</td>\n",
       "      <td>7</td>\n",
       "    </tr>\n",
       "    <tr>\n",
       "      <th>7</th>\n",
       "      <td>May</td>\n",
       "      <td>6</td>\n",
       "    </tr>\n",
       "    <tr>\n",
       "      <th>8</th>\n",
       "      <td>August</td>\n",
       "      <td>3</td>\n",
       "    </tr>\n",
       "    <tr>\n",
       "      <th>9</th>\n",
       "      <td>November</td>\n",
       "      <td>2</td>\n",
       "    </tr>\n",
       "  </tbody>\n",
       "</table>\n",
       "</div>"
      ],
      "text/plain": [
       "      index  month\n",
       "0  December     25\n",
       "1     March     21\n",
       "2      June     12\n",
       "3      July     12\n",
       "4     April     11\n",
       "5  February      8\n",
       "6   January      7\n",
       "7       May      6\n",
       "8    August      3\n",
       "9  November      2"
      ]
     },
     "execution_count": 41,
     "metadata": {},
     "output_type": "execute_result"
    }
   ],
   "source": [
    "#busy month\n",
    "mnth_cnt=filtered_df['month'].value_counts().reset_index()\n",
    "mnth_cnt"
   ]
  },
  {
   "cell_type": "code",
   "execution_count": 42,
   "id": "1f2a99dc",
   "metadata": {},
   "outputs": [
    {
     "data": {
      "text/html": [
       "<div>\n",
       "<style scoped>\n",
       "    .dataframe tbody tr th:only-of-type {\n",
       "        vertical-align: middle;\n",
       "    }\n",
       "\n",
       "    .dataframe tbody tr th {\n",
       "        vertical-align: top;\n",
       "    }\n",
       "\n",
       "    .dataframe thead th {\n",
       "        text-align: right;\n",
       "    }\n",
       "</style>\n",
       "<table border=\"1\" class=\"dataframe\">\n",
       "  <thead>\n",
       "    <tr style=\"text-align: right;\">\n",
       "      <th></th>\n",
       "      <th>Month</th>\n",
       "      <th>Total Messages</th>\n",
       "    </tr>\n",
       "  </thead>\n",
       "  <tbody>\n",
       "    <tr>\n",
       "      <th>0</th>\n",
       "      <td>December</td>\n",
       "      <td>25</td>\n",
       "    </tr>\n",
       "    <tr>\n",
       "      <th>1</th>\n",
       "      <td>March</td>\n",
       "      <td>21</td>\n",
       "    </tr>\n",
       "    <tr>\n",
       "      <th>2</th>\n",
       "      <td>June</td>\n",
       "      <td>12</td>\n",
       "    </tr>\n",
       "    <tr>\n",
       "      <th>3</th>\n",
       "      <td>July</td>\n",
       "      <td>12</td>\n",
       "    </tr>\n",
       "    <tr>\n",
       "      <th>4</th>\n",
       "      <td>April</td>\n",
       "      <td>11</td>\n",
       "    </tr>\n",
       "    <tr>\n",
       "      <th>5</th>\n",
       "      <td>February</td>\n",
       "      <td>8</td>\n",
       "    </tr>\n",
       "    <tr>\n",
       "      <th>6</th>\n",
       "      <td>January</td>\n",
       "      <td>7</td>\n",
       "    </tr>\n",
       "    <tr>\n",
       "      <th>7</th>\n",
       "      <td>May</td>\n",
       "      <td>6</td>\n",
       "    </tr>\n",
       "    <tr>\n",
       "      <th>8</th>\n",
       "      <td>August</td>\n",
       "      <td>3</td>\n",
       "    </tr>\n",
       "    <tr>\n",
       "      <th>9</th>\n",
       "      <td>November</td>\n",
       "      <td>2</td>\n",
       "    </tr>\n",
       "  </tbody>\n",
       "</table>\n",
       "</div>"
      ],
      "text/plain": [
       "      Month  Total Messages\n",
       "0  December              25\n",
       "1     March              21\n",
       "2      June              12\n",
       "3      July              12\n",
       "4     April              11\n",
       "5  February               8\n",
       "6   January               7\n",
       "7       May               6\n",
       "8    August               3\n",
       "9  November               2"
      ]
     },
     "execution_count": 42,
     "metadata": {},
     "output_type": "execute_result"
    }
   ],
   "source": [
    "mnth_cnt=filtered_df['month'].value_counts().reset_index()\n",
    "mnth_cnt=mnth_cnt.rename(columns={\"index\":\"Month\",\"month\":\"Total Messages\"})\n",
    "mnth_cnt"
   ]
  },
  {
   "cell_type": "code",
   "execution_count": 57,
   "id": "bade4ddb",
   "metadata": {},
   "outputs": [
    {
     "name": "stderr",
     "output_type": "stream",
     "text": [
      "C:\\Users\\Suruchi\\AppData\\Local\\Temp\\ipykernel_30464\\1598801365.py:1: SettingWithCopyWarning:\n",
      "\n",
      "\n",
      "A value is trying to be set on a copy of a slice from a DataFrame.\n",
      "Try using .loc[row_indexer,col_indexer] = value instead\n",
      "\n",
      "See the caveats in the documentation: https://pandas.pydata.org/pandas-docs/stable/user_guide/indexing.html#returning-a-view-versus-a-copy\n",
      "\n"
     ]
    },
    {
     "data": {
      "text/html": [
       "<div>\n",
       "<style scoped>\n",
       "    .dataframe tbody tr th:only-of-type {\n",
       "        vertical-align: middle;\n",
       "    }\n",
       "\n",
       "    .dataframe tbody tr th {\n",
       "        vertical-align: top;\n",
       "    }\n",
       "\n",
       "    .dataframe thead th {\n",
       "        text-align: right;\n",
       "    }\n",
       "</style>\n",
       "<table border=\"1\" class=\"dataframe\">\n",
       "  <thead>\n",
       "    <tr style=\"text-align: right;\">\n",
       "      <th></th>\n",
       "      <th>dt</th>\n",
       "      <th>message</th>\n",
       "    </tr>\n",
       "  </thead>\n",
       "  <tbody>\n",
       "    <tr>\n",
       "      <th>0</th>\n",
       "      <td>2020-11-14</td>\n",
       "      <td>4</td>\n",
       "    </tr>\n",
       "    <tr>\n",
       "      <th>1</th>\n",
       "      <td>2020-12-09</td>\n",
       "      <td>1</td>\n",
       "    </tr>\n",
       "    <tr>\n",
       "      <th>2</th>\n",
       "      <td>2021-01-19</td>\n",
       "      <td>1</td>\n",
       "    </tr>\n",
       "    <tr>\n",
       "      <th>3</th>\n",
       "      <td>2021-02-03</td>\n",
       "      <td>1</td>\n",
       "    </tr>\n",
       "    <tr>\n",
       "      <th>4</th>\n",
       "      <td>2021-03-05</td>\n",
       "      <td>1</td>\n",
       "    </tr>\n",
       "  </tbody>\n",
       "</table>\n",
       "</div>"
      ],
      "text/plain": [
       "           dt  message\n",
       "0  2020-11-14        4\n",
       "1  2020-12-09        1\n",
       "2  2021-01-19        1\n",
       "3  2021-02-03        1\n",
       "4  2021-03-05        1"
      ]
     },
     "execution_count": 57,
     "metadata": {},
     "output_type": "execute_result"
    }
   ],
   "source": [
    "df['dt']=df['message_date'].dt.date\n",
    "dailty_timeline=df.groupby('dt').count()['message'].reset_index()\n",
    "dailty_timeline.head()"
   ]
  },
  {
   "cell_type": "code",
   "execution_count": 44,
   "id": "28de63fb",
   "metadata": {},
   "outputs": [
    {
     "data": {
      "text/plain": [
       "1       Saturday\n",
       "2       Saturday\n",
       "3       Saturday\n",
       "4       Saturday\n",
       "5      Wednesday\n",
       "         ...    \n",
       "201      Tuesday\n",
       "202      Tuesday\n",
       "203      Tuesday\n",
       "204      Tuesday\n",
       "205      Tuesday\n",
       "Name: message_date, Length: 205, dtype: object"
      ]
     },
     "execution_count": 44,
     "metadata": {},
     "output_type": "execute_result"
    }
   ],
   "source": [
    "df['message_date'].dt.day_name()"
   ]
  },
  {
   "cell_type": "code",
   "execution_count": 50,
   "id": "9de2c3d8",
   "metadata": {},
   "outputs": [
    {
     "name": "stderr",
     "output_type": "stream",
     "text": [
      "C:\\Users\\Suruchi\\anaconda3\\lib\\site-packages\\scipy\\__init__.py:146: UserWarning: A NumPy version >=1.16.5 and <1.23.0 is required for this version of SciPy (detected version 1.24.3\n",
      "  warnings.warn(f\"A NumPy version >={np_minversion} and <{np_maxversion}\"\n"
     ]
    }
   ],
   "source": [
    "import plotly.express as px"
   ]
  },
  {
   "cell_type": "code",
   "execution_count": 127,
   "id": "09dc290a",
   "metadata": {},
   "outputs": [
    {
     "ename": "KeyError",
     "evalue": "'month_year'",
     "output_type": "error",
     "traceback": [
      "\u001b[1;31m---------------------------------------------------------------------------\u001b[0m",
      "\u001b[1;31mKeyError\u001b[0m                                  Traceback (most recent call last)",
      "Input \u001b[1;32mIn [127]\u001b[0m, in \u001b[0;36m<cell line: 2>\u001b[1;34m()\u001b[0m\n\u001b[0;32m      1\u001b[0m \u001b[38;5;66;03m# Group data by user, year, and month and calculate message counts\u001b[39;00m\n\u001b[1;32m----> 2\u001b[0m user_monthly_message_count \u001b[38;5;241m=\u001b[39m \u001b[43mdf\u001b[49m\u001b[38;5;241;43m.\u001b[39;49m\u001b[43mgroupby\u001b[49m\u001b[43m(\u001b[49m\u001b[43m[\u001b[49m\u001b[38;5;124;43m'\u001b[39;49m\u001b[38;5;124;43muser\u001b[39;49m\u001b[38;5;124;43m'\u001b[39;49m\u001b[43m,\u001b[49m\u001b[43m \u001b[49m\u001b[38;5;124;43m'\u001b[39;49m\u001b[38;5;124;43mmonth_year\u001b[39;49m\u001b[38;5;124;43m'\u001b[39;49m\u001b[43m]\u001b[49m\u001b[43m)\u001b[49m[\u001b[38;5;124m'\u001b[39m\u001b[38;5;124mmessage\u001b[39m\u001b[38;5;124m'\u001b[39m]\u001b[38;5;241m.\u001b[39mcount()\u001b[38;5;241m.\u001b[39mreset_index()\n\u001b[0;32m      4\u001b[0m \u001b[38;5;66;03m# Create a bar chart using Plotly Express\u001b[39;00m\n\u001b[0;32m      5\u001b[0m fig \u001b[38;5;241m=\u001b[39m px\u001b[38;5;241m.\u001b[39mbar(user_monthly_message_count, x\u001b[38;5;241m=\u001b[39m\u001b[38;5;124m'\u001b[39m\u001b[38;5;124mmonth_year\u001b[39m\u001b[38;5;124m'\u001b[39m, y\u001b[38;5;241m=\u001b[39m\u001b[38;5;124m'\u001b[39m\u001b[38;5;124mmessage\u001b[39m\u001b[38;5;124m'\u001b[39m, color\u001b[38;5;241m=\u001b[39m\u001b[38;5;124m'\u001b[39m\u001b[38;5;124muser\u001b[39m\u001b[38;5;124m'\u001b[39m,\n\u001b[0;32m      6\u001b[0m              labels\u001b[38;5;241m=\u001b[39m{\u001b[38;5;124m'\u001b[39m\u001b[38;5;124mmessage\u001b[39m\u001b[38;5;124m'\u001b[39m: \u001b[38;5;124m'\u001b[39m\u001b[38;5;124mMessage Count\u001b[39m\u001b[38;5;124m'\u001b[39m},\n\u001b[0;32m      7\u001b[0m              title\u001b[38;5;241m=\u001b[39m\u001b[38;5;124m'\u001b[39m\u001b[38;5;124mUser Message Counts by Month\u001b[39m\u001b[38;5;124m'\u001b[39m)\n",
      "File \u001b[1;32m~\\anaconda3\\lib\\site-packages\\pandas\\core\\frame.py:7712\u001b[0m, in \u001b[0;36mDataFrame.groupby\u001b[1;34m(self, by, axis, level, as_index, sort, group_keys, squeeze, observed, dropna)\u001b[0m\n\u001b[0;32m   7707\u001b[0m axis \u001b[38;5;241m=\u001b[39m \u001b[38;5;28mself\u001b[39m\u001b[38;5;241m.\u001b[39m_get_axis_number(axis)\n\u001b[0;32m   7709\u001b[0m \u001b[38;5;66;03m# https://github.com/python/mypy/issues/7642\u001b[39;00m\n\u001b[0;32m   7710\u001b[0m \u001b[38;5;66;03m# error: Argument \"squeeze\" to \"DataFrameGroupBy\" has incompatible type\u001b[39;00m\n\u001b[0;32m   7711\u001b[0m \u001b[38;5;66;03m# \"Union[bool, NoDefault]\"; expected \"bool\"\u001b[39;00m\n\u001b[1;32m-> 7712\u001b[0m \u001b[38;5;28;01mreturn\u001b[39;00m \u001b[43mDataFrameGroupBy\u001b[49m\u001b[43m(\u001b[49m\n\u001b[0;32m   7713\u001b[0m \u001b[43m    \u001b[49m\u001b[43mobj\u001b[49m\u001b[38;5;241;43m=\u001b[39;49m\u001b[38;5;28;43mself\u001b[39;49m\u001b[43m,\u001b[49m\n\u001b[0;32m   7714\u001b[0m \u001b[43m    \u001b[49m\u001b[43mkeys\u001b[49m\u001b[38;5;241;43m=\u001b[39;49m\u001b[43mby\u001b[49m\u001b[43m,\u001b[49m\n\u001b[0;32m   7715\u001b[0m \u001b[43m    \u001b[49m\u001b[43maxis\u001b[49m\u001b[38;5;241;43m=\u001b[39;49m\u001b[43maxis\u001b[49m\u001b[43m,\u001b[49m\n\u001b[0;32m   7716\u001b[0m \u001b[43m    \u001b[49m\u001b[43mlevel\u001b[49m\u001b[38;5;241;43m=\u001b[39;49m\u001b[43mlevel\u001b[49m\u001b[43m,\u001b[49m\n\u001b[0;32m   7717\u001b[0m \u001b[43m    \u001b[49m\u001b[43mas_index\u001b[49m\u001b[38;5;241;43m=\u001b[39;49m\u001b[43mas_index\u001b[49m\u001b[43m,\u001b[49m\n\u001b[0;32m   7718\u001b[0m \u001b[43m    \u001b[49m\u001b[43msort\u001b[49m\u001b[38;5;241;43m=\u001b[39;49m\u001b[43msort\u001b[49m\u001b[43m,\u001b[49m\n\u001b[0;32m   7719\u001b[0m \u001b[43m    \u001b[49m\u001b[43mgroup_keys\u001b[49m\u001b[38;5;241;43m=\u001b[39;49m\u001b[43mgroup_keys\u001b[49m\u001b[43m,\u001b[49m\n\u001b[0;32m   7720\u001b[0m \u001b[43m    \u001b[49m\u001b[43msqueeze\u001b[49m\u001b[38;5;241;43m=\u001b[39;49m\u001b[43msqueeze\u001b[49m\u001b[43m,\u001b[49m\u001b[43m  \u001b[49m\u001b[38;5;66;43;03m# type: ignore[arg-type]\u001b[39;49;00m\n\u001b[0;32m   7721\u001b[0m \u001b[43m    \u001b[49m\u001b[43mobserved\u001b[49m\u001b[38;5;241;43m=\u001b[39;49m\u001b[43mobserved\u001b[49m\u001b[43m,\u001b[49m\n\u001b[0;32m   7722\u001b[0m \u001b[43m    \u001b[49m\u001b[43mdropna\u001b[49m\u001b[38;5;241;43m=\u001b[39;49m\u001b[43mdropna\u001b[49m\u001b[43m,\u001b[49m\n\u001b[0;32m   7723\u001b[0m \u001b[43m\u001b[49m\u001b[43m)\u001b[49m\n",
      "File \u001b[1;32m~\\anaconda3\\lib\\site-packages\\pandas\\core\\groupby\\groupby.py:882\u001b[0m, in \u001b[0;36mGroupBy.__init__\u001b[1;34m(self, obj, keys, axis, level, grouper, exclusions, selection, as_index, sort, group_keys, squeeze, observed, mutated, dropna)\u001b[0m\n\u001b[0;32m    879\u001b[0m \u001b[38;5;28;01mif\u001b[39;00m grouper \u001b[38;5;129;01mis\u001b[39;00m \u001b[38;5;28;01mNone\u001b[39;00m:\n\u001b[0;32m    880\u001b[0m     \u001b[38;5;28;01mfrom\u001b[39;00m \u001b[38;5;21;01mpandas\u001b[39;00m\u001b[38;5;21;01m.\u001b[39;00m\u001b[38;5;21;01mcore\u001b[39;00m\u001b[38;5;21;01m.\u001b[39;00m\u001b[38;5;21;01mgroupby\u001b[39;00m\u001b[38;5;21;01m.\u001b[39;00m\u001b[38;5;21;01mgrouper\u001b[39;00m \u001b[38;5;28;01mimport\u001b[39;00m get_grouper\n\u001b[1;32m--> 882\u001b[0m     grouper, exclusions, obj \u001b[38;5;241m=\u001b[39m \u001b[43mget_grouper\u001b[49m\u001b[43m(\u001b[49m\n\u001b[0;32m    883\u001b[0m \u001b[43m        \u001b[49m\u001b[43mobj\u001b[49m\u001b[43m,\u001b[49m\n\u001b[0;32m    884\u001b[0m \u001b[43m        \u001b[49m\u001b[43mkeys\u001b[49m\u001b[43m,\u001b[49m\n\u001b[0;32m    885\u001b[0m \u001b[43m        \u001b[49m\u001b[43maxis\u001b[49m\u001b[38;5;241;43m=\u001b[39;49m\u001b[43maxis\u001b[49m\u001b[43m,\u001b[49m\n\u001b[0;32m    886\u001b[0m \u001b[43m        \u001b[49m\u001b[43mlevel\u001b[49m\u001b[38;5;241;43m=\u001b[39;49m\u001b[43mlevel\u001b[49m\u001b[43m,\u001b[49m\n\u001b[0;32m    887\u001b[0m \u001b[43m        \u001b[49m\u001b[43msort\u001b[49m\u001b[38;5;241;43m=\u001b[39;49m\u001b[43msort\u001b[49m\u001b[43m,\u001b[49m\n\u001b[0;32m    888\u001b[0m \u001b[43m        \u001b[49m\u001b[43mobserved\u001b[49m\u001b[38;5;241;43m=\u001b[39;49m\u001b[43mobserved\u001b[49m\u001b[43m,\u001b[49m\n\u001b[0;32m    889\u001b[0m \u001b[43m        \u001b[49m\u001b[43mmutated\u001b[49m\u001b[38;5;241;43m=\u001b[39;49m\u001b[38;5;28;43mself\u001b[39;49m\u001b[38;5;241;43m.\u001b[39;49m\u001b[43mmutated\u001b[49m\u001b[43m,\u001b[49m\n\u001b[0;32m    890\u001b[0m \u001b[43m        \u001b[49m\u001b[43mdropna\u001b[49m\u001b[38;5;241;43m=\u001b[39;49m\u001b[38;5;28;43mself\u001b[39;49m\u001b[38;5;241;43m.\u001b[39;49m\u001b[43mdropna\u001b[49m\u001b[43m,\u001b[49m\n\u001b[0;32m    891\u001b[0m \u001b[43m    \u001b[49m\u001b[43m)\u001b[49m\n\u001b[0;32m    893\u001b[0m \u001b[38;5;28mself\u001b[39m\u001b[38;5;241m.\u001b[39mobj \u001b[38;5;241m=\u001b[39m obj\n\u001b[0;32m    894\u001b[0m \u001b[38;5;28mself\u001b[39m\u001b[38;5;241m.\u001b[39maxis \u001b[38;5;241m=\u001b[39m obj\u001b[38;5;241m.\u001b[39m_get_axis_number(axis)\n",
      "File \u001b[1;32m~\\anaconda3\\lib\\site-packages\\pandas\\core\\groupby\\grouper.py:882\u001b[0m, in \u001b[0;36mget_grouper\u001b[1;34m(obj, key, axis, level, sort, observed, mutated, validate, dropna)\u001b[0m\n\u001b[0;32m    880\u001b[0m         in_axis, level, gpr \u001b[38;5;241m=\u001b[39m \u001b[38;5;28;01mFalse\u001b[39;00m, gpr, \u001b[38;5;28;01mNone\u001b[39;00m\n\u001b[0;32m    881\u001b[0m     \u001b[38;5;28;01melse\u001b[39;00m:\n\u001b[1;32m--> 882\u001b[0m         \u001b[38;5;28;01mraise\u001b[39;00m \u001b[38;5;167;01mKeyError\u001b[39;00m(gpr)\n\u001b[0;32m    883\u001b[0m \u001b[38;5;28;01melif\u001b[39;00m \u001b[38;5;28misinstance\u001b[39m(gpr, Grouper) \u001b[38;5;129;01mand\u001b[39;00m gpr\u001b[38;5;241m.\u001b[39mkey \u001b[38;5;129;01mis\u001b[39;00m \u001b[38;5;129;01mnot\u001b[39;00m \u001b[38;5;28;01mNone\u001b[39;00m:\n\u001b[0;32m    884\u001b[0m     \u001b[38;5;66;03m# Add key to exclusions\u001b[39;00m\n\u001b[0;32m    885\u001b[0m     exclusions\u001b[38;5;241m.\u001b[39madd(gpr\u001b[38;5;241m.\u001b[39mkey)\n",
      "\u001b[1;31mKeyError\u001b[0m: 'month_year'"
     ]
    }
   ],
   "source": [
    "\n",
    "# Group data by user, year, and month and calculate message counts\n",
    "user_monthly_message_count = df.groupby(['user', 'month_year'])['message'].count().reset_index()\n",
    "\n",
    "# Create a bar chart using Plotly Express\n",
    "fig = px.bar(user_monthly_message_count, x='month_year', y='message', color='user',\n",
    "             labels={'message': 'Message Count'},\n",
    "             title='User Message Counts by Month')\n",
    "\n",
    "# Set the order of months\n",
    "fig.update_layout(xaxis_categoryorder='total ascending')\n",
    "\n",
    "# Show the plot\n",
    "fig.show()\n"
   ]
  },
  {
   "cell_type": "code",
   "execution_count": 55,
   "id": "ee609b3b",
   "metadata": {},
   "outputs": [
    {
     "data": {
      "text/html": [
       "<div>\n",
       "<style scoped>\n",
       "    .dataframe tbody tr th:only-of-type {\n",
       "        vertical-align: middle;\n",
       "    }\n",
       "\n",
       "    .dataframe tbody tr th {\n",
       "        vertical-align: top;\n",
       "    }\n",
       "\n",
       "    .dataframe thead th {\n",
       "        text-align: right;\n",
       "    }\n",
       "</style>\n",
       "<table border=\"1\" class=\"dataframe\">\n",
       "  <thead>\n",
       "    <tr style=\"text-align: right;\">\n",
       "      <th></th>\n",
       "      <th>user</th>\n",
       "      <th>year</th>\n",
       "      <th>month</th>\n",
       "      <th>message</th>\n",
       "    </tr>\n",
       "  </thead>\n",
       "  <tbody>\n",
       "    <tr>\n",
       "      <th>0</th>\n",
       "      <td>Kunal Bhaii</td>\n",
       "      <td>2020</td>\n",
       "      <td>December</td>\n",
       "      <td>1</td>\n",
       "    </tr>\n",
       "    <tr>\n",
       "      <th>1</th>\n",
       "      <td>Kunal Bhaii</td>\n",
       "      <td>2020</td>\n",
       "      <td>November</td>\n",
       "      <td>1</td>\n",
       "    </tr>\n",
       "    <tr>\n",
       "      <th>2</th>\n",
       "      <td>Kunal Bhaii</td>\n",
       "      <td>2021</td>\n",
       "      <td>December</td>\n",
       "      <td>8</td>\n",
       "    </tr>\n",
       "    <tr>\n",
       "      <th>3</th>\n",
       "      <td>Kunal Bhaii</td>\n",
       "      <td>2021</td>\n",
       "      <td>February</td>\n",
       "      <td>1</td>\n",
       "    </tr>\n",
       "    <tr>\n",
       "      <th>4</th>\n",
       "      <td>Kunal Bhaii</td>\n",
       "      <td>2021</td>\n",
       "      <td>July</td>\n",
       "      <td>1</td>\n",
       "    </tr>\n",
       "  </tbody>\n",
       "</table>\n",
       "</div>"
      ],
      "text/plain": [
       "          user  year     month  message\n",
       "0  Kunal Bhaii  2020  December        1\n",
       "1  Kunal Bhaii  2020  November        1\n",
       "2  Kunal Bhaii  2021  December        8\n",
       "3  Kunal Bhaii  2021  February        1\n",
       "4  Kunal Bhaii  2021      July        1"
      ]
     },
     "execution_count": 55,
     "metadata": {},
     "output_type": "execute_result"
    }
   ],
   "source": [
    "user_monthly_message_count.head()"
   ]
  },
  {
   "cell_type": "code",
   "execution_count": 64,
   "id": "785de9aa",
   "metadata": {},
   "outputs": [
    {
     "data": {
      "text/html": [
       "<div>\n",
       "<style scoped>\n",
       "    .dataframe tbody tr th:only-of-type {\n",
       "        vertical-align: middle;\n",
       "    }\n",
       "\n",
       "    .dataframe tbody tr th {\n",
       "        vertical-align: top;\n",
       "    }\n",
       "\n",
       "    .dataframe thead th {\n",
       "        text-align: right;\n",
       "    }\n",
       "</style>\n",
       "<table border=\"1\" class=\"dataframe\">\n",
       "  <thead>\n",
       "    <tr style=\"text-align: right;\">\n",
       "      <th></th>\n",
       "      <th>message_date</th>\n",
       "      <th>user</th>\n",
       "      <th>message</th>\n",
       "      <th>year</th>\n",
       "      <th>month</th>\n",
       "      <th>day</th>\n",
       "      <th>hour</th>\n",
       "      <th>minute</th>\n",
       "      <th>month_num</th>\n",
       "      <th>dt</th>\n",
       "    </tr>\n",
       "  </thead>\n",
       "  <tbody>\n",
       "    <tr>\n",
       "      <th>1</th>\n",
       "      <td>2020-11-14 11:33:00</td>\n",
       "      <td>Suruchi Arora</td>\n",
       "      <td>You deleted this message\\n</td>\n",
       "      <td>2020</td>\n",
       "      <td>November</td>\n",
       "      <td>14</td>\n",
       "      <td>11</td>\n",
       "      <td>33</td>\n",
       "      <td>11</td>\n",
       "      <td>2020-11-14</td>\n",
       "    </tr>\n",
       "    <tr>\n",
       "      <th>2</th>\n",
       "      <td>2020-11-14 11:34:00</td>\n",
       "      <td>Suruchi Arora</td>\n",
       "      <td>&lt;Media omitted&gt;\\n</td>\n",
       "      <td>2020</td>\n",
       "      <td>November</td>\n",
       "      <td>14</td>\n",
       "      <td>11</td>\n",
       "      <td>34</td>\n",
       "      <td>11</td>\n",
       "      <td>2020-11-14</td>\n",
       "    </tr>\n",
       "    <tr>\n",
       "      <th>3</th>\n",
       "      <td>2020-11-14 03:47:00</td>\n",
       "      <td>Kunal Bhaii</td>\n",
       "      <td>Nice\\n</td>\n",
       "      <td>2020</td>\n",
       "      <td>November</td>\n",
       "      <td>14</td>\n",
       "      <td>3</td>\n",
       "      <td>47</td>\n",
       "      <td>11</td>\n",
       "      <td>2020-11-14</td>\n",
       "    </tr>\n",
       "    <tr>\n",
       "      <th>4</th>\n",
       "      <td>2020-11-14 04:24:00</td>\n",
       "      <td>Suruchi Arora</td>\n",
       "      <td>Thanks\\n</td>\n",
       "      <td>2020</td>\n",
       "      <td>November</td>\n",
       "      <td>14</td>\n",
       "      <td>4</td>\n",
       "      <td>24</td>\n",
       "      <td>11</td>\n",
       "      <td>2020-11-14</td>\n",
       "    </tr>\n",
       "    <tr>\n",
       "      <th>5</th>\n",
       "      <td>2020-12-09 08:43:00</td>\n",
       "      <td>Kunal Bhaii</td>\n",
       "      <td>Missed voice call\\n</td>\n",
       "      <td>2020</td>\n",
       "      <td>December</td>\n",
       "      <td>9</td>\n",
       "      <td>8</td>\n",
       "      <td>43</td>\n",
       "      <td>12</td>\n",
       "      <td>2020-12-09</td>\n",
       "    </tr>\n",
       "    <tr>\n",
       "      <th>...</th>\n",
       "      <td>...</td>\n",
       "      <td>...</td>\n",
       "      <td>...</td>\n",
       "      <td>...</td>\n",
       "      <td>...</td>\n",
       "      <td>...</td>\n",
       "      <td>...</td>\n",
       "      <td>...</td>\n",
       "      <td>...</td>\n",
       "      <td>...</td>\n",
       "    </tr>\n",
       "    <tr>\n",
       "      <th>201</th>\n",
       "      <td>2023-07-25 10:32:00</td>\n",
       "      <td>Suruchi Arora</td>\n",
       "      <td>&lt;Media omitted&gt;\\n</td>\n",
       "      <td>2023</td>\n",
       "      <td>July</td>\n",
       "      <td>25</td>\n",
       "      <td>10</td>\n",
       "      <td>32</td>\n",
       "      <td>7</td>\n",
       "      <td>2023-07-25</td>\n",
       "    </tr>\n",
       "    <tr>\n",
       "      <th>202</th>\n",
       "      <td>2023-07-25 10:32:00</td>\n",
       "      <td>Suruchi Arora</td>\n",
       "      <td>&lt;Media omitted&gt;\\n</td>\n",
       "      <td>2023</td>\n",
       "      <td>July</td>\n",
       "      <td>25</td>\n",
       "      <td>10</td>\n",
       "      <td>32</td>\n",
       "      <td>7</td>\n",
       "      <td>2023-07-25</td>\n",
       "    </tr>\n",
       "    <tr>\n",
       "      <th>203</th>\n",
       "      <td>2023-07-25 10:32:00</td>\n",
       "      <td>Suruchi Arora</td>\n",
       "      <td>&lt;Media omitted&gt;\\n</td>\n",
       "      <td>2023</td>\n",
       "      <td>July</td>\n",
       "      <td>25</td>\n",
       "      <td>10</td>\n",
       "      <td>32</td>\n",
       "      <td>7</td>\n",
       "      <td>2023-07-25</td>\n",
       "    </tr>\n",
       "    <tr>\n",
       "      <th>204</th>\n",
       "      <td>2023-07-25 10:32:00</td>\n",
       "      <td>Suruchi Arora</td>\n",
       "      <td>&lt;Media omitted&gt;\\n</td>\n",
       "      <td>2023</td>\n",
       "      <td>July</td>\n",
       "      <td>25</td>\n",
       "      <td>10</td>\n",
       "      <td>32</td>\n",
       "      <td>7</td>\n",
       "      <td>2023-07-25</td>\n",
       "    </tr>\n",
       "    <tr>\n",
       "      <th>205</th>\n",
       "      <td>2023-07-25 11:56:00</td>\n",
       "      <td>Kunal Bhaii</td>\n",
       "      <td>❤️❤️❤️\\n</td>\n",
       "      <td>2023</td>\n",
       "      <td>July</td>\n",
       "      <td>25</td>\n",
       "      <td>11</td>\n",
       "      <td>56</td>\n",
       "      <td>7</td>\n",
       "      <td>2023-07-25</td>\n",
       "    </tr>\n",
       "  </tbody>\n",
       "</table>\n",
       "<p>205 rows × 10 columns</p>\n",
       "</div>"
      ],
      "text/plain": [
       "           message_date           user                     message  year  \\\n",
       "1   2020-11-14 11:33:00  Suruchi Arora  You deleted this message\\n  2020   \n",
       "2   2020-11-14 11:34:00  Suruchi Arora           <Media omitted>\\n  2020   \n",
       "3   2020-11-14 03:47:00    Kunal Bhaii                      Nice\\n  2020   \n",
       "4   2020-11-14 04:24:00  Suruchi Arora                    Thanks\\n  2020   \n",
       "5   2020-12-09 08:43:00    Kunal Bhaii         Missed voice call\\n  2020   \n",
       "..                  ...            ...                         ...   ...   \n",
       "201 2023-07-25 10:32:00  Suruchi Arora           <Media omitted>\\n  2023   \n",
       "202 2023-07-25 10:32:00  Suruchi Arora           <Media omitted>\\n  2023   \n",
       "203 2023-07-25 10:32:00  Suruchi Arora           <Media omitted>\\n  2023   \n",
       "204 2023-07-25 10:32:00  Suruchi Arora           <Media omitted>\\n  2023   \n",
       "205 2023-07-25 11:56:00    Kunal Bhaii                    ❤️❤️❤️\\n  2023   \n",
       "\n",
       "        month  day  hour  minute  month_num          dt  \n",
       "1    November   14    11      33         11  2020-11-14  \n",
       "2    November   14    11      34         11  2020-11-14  \n",
       "3    November   14     3      47         11  2020-11-14  \n",
       "4    November   14     4      24         11  2020-11-14  \n",
       "5    December    9     8      43         12  2020-12-09  \n",
       "..        ...  ...   ...     ...        ...         ...  \n",
       "201      July   25    10      32          7  2023-07-25  \n",
       "202      July   25    10      32          7  2023-07-25  \n",
       "203      July   25    10      32          7  2023-07-25  \n",
       "204      July   25    10      32          7  2023-07-25  \n",
       "205      July   25    11      56          7  2023-07-25  \n",
       "\n",
       "[205 rows x 10 columns]"
      ]
     },
     "execution_count": 64,
     "metadata": {},
     "output_type": "execute_result"
    }
   ],
   "source": [
    "df"
   ]
  },
  {
   "cell_type": "code",
   "execution_count": 101,
   "id": "8663612b",
   "metadata": {},
   "outputs": [
    {
     "ename": "KeyError",
     "evalue": "0",
     "output_type": "error",
     "traceback": [
      "\u001b[1;31m---------------------------------------------------------------------------\u001b[0m",
      "\u001b[1;31mKeyError\u001b[0m                                  Traceback (most recent call last)",
      "File \u001b[1;32m~\\anaconda3\\lib\\site-packages\\pandas\\core\\indexes\\base.py:3621\u001b[0m, in \u001b[0;36mIndex.get_loc\u001b[1;34m(self, key, method, tolerance)\u001b[0m\n\u001b[0;32m   3620\u001b[0m \u001b[38;5;28;01mtry\u001b[39;00m:\n\u001b[1;32m-> 3621\u001b[0m     \u001b[38;5;28;01mreturn\u001b[39;00m \u001b[38;5;28;43mself\u001b[39;49m\u001b[38;5;241;43m.\u001b[39;49m\u001b[43m_engine\u001b[49m\u001b[38;5;241;43m.\u001b[39;49m\u001b[43mget_loc\u001b[49m\u001b[43m(\u001b[49m\u001b[43mcasted_key\u001b[49m\u001b[43m)\u001b[49m\n\u001b[0;32m   3622\u001b[0m \u001b[38;5;28;01mexcept\u001b[39;00m \u001b[38;5;167;01mKeyError\u001b[39;00m \u001b[38;5;28;01mas\u001b[39;00m err:\n",
      "File \u001b[1;32m~\\anaconda3\\lib\\site-packages\\pandas\\_libs\\index.pyx:136\u001b[0m, in \u001b[0;36mpandas._libs.index.IndexEngine.get_loc\u001b[1;34m()\u001b[0m\n",
      "File \u001b[1;32m~\\anaconda3\\lib\\site-packages\\pandas\\_libs\\index.pyx:163\u001b[0m, in \u001b[0;36mpandas._libs.index.IndexEngine.get_loc\u001b[1;34m()\u001b[0m\n",
      "File \u001b[1;32mpandas\\_libs\\hashtable_class_helper.pxi:2131\u001b[0m, in \u001b[0;36mpandas._libs.hashtable.Int64HashTable.get_item\u001b[1;34m()\u001b[0m\n",
      "File \u001b[1;32mpandas\\_libs\\hashtable_class_helper.pxi:2140\u001b[0m, in \u001b[0;36mpandas._libs.hashtable.Int64HashTable.get_item\u001b[1;34m()\u001b[0m\n",
      "\u001b[1;31mKeyError\u001b[0m: 0",
      "\nThe above exception was the direct cause of the following exception:\n",
      "\u001b[1;31mKeyError\u001b[0m                                  Traceback (most recent call last)",
      "Input \u001b[1;32mIn [101]\u001b[0m, in \u001b[0;36m<cell line: 2>\u001b[1;34m()\u001b[0m\n\u001b[0;32m      1\u001b[0m time_list\u001b[38;5;241m=\u001b[39m[]\n\u001b[0;32m      2\u001b[0m \u001b[38;5;28;01mfor\u001b[39;00m i \u001b[38;5;129;01min\u001b[39;00m \u001b[38;5;28mrange\u001b[39m(filtered_df\u001b[38;5;241m.\u001b[39mshape[\u001b[38;5;241m0\u001b[39m]):\n\u001b[1;32m----> 3\u001b[0m     time_list\u001b[38;5;241m.\u001b[39mappend(\u001b[38;5;28mstr\u001b[39m(\u001b[43mfiltered_df\u001b[49m\u001b[43m[\u001b[49m\u001b[38;5;124;43m'\u001b[39;49m\u001b[38;5;124;43mmonth\u001b[39;49m\u001b[38;5;124;43m'\u001b[39;49m\u001b[43m]\u001b[49m\u001b[43m[\u001b[49m\u001b[43mi\u001b[49m\u001b[43m]\u001b[49m)\u001b[38;5;241m+\u001b[39m\u001b[38;5;124m\"\u001b[39m\u001b[38;5;124m-\u001b[39m\u001b[38;5;124m\"\u001b[39m\u001b[38;5;241m+\u001b[39m\u001b[38;5;28mstr\u001b[39m(filtered_df[\u001b[38;5;124m'\u001b[39m\u001b[38;5;124myear\u001b[39m\u001b[38;5;124m'\u001b[39m][i]))\n\u001b[0;32m      4\u001b[0m \u001b[38;5;66;03m# df['month_year']=time_list\u001b[39;00m\n\u001b[0;32m      5\u001b[0m time_list\n",
      "File \u001b[1;32m~\\anaconda3\\lib\\site-packages\\pandas\\core\\series.py:958\u001b[0m, in \u001b[0;36mSeries.__getitem__\u001b[1;34m(self, key)\u001b[0m\n\u001b[0;32m    955\u001b[0m     \u001b[38;5;28;01mreturn\u001b[39;00m \u001b[38;5;28mself\u001b[39m\u001b[38;5;241m.\u001b[39m_values[key]\n\u001b[0;32m    957\u001b[0m \u001b[38;5;28;01melif\u001b[39;00m key_is_scalar:\n\u001b[1;32m--> 958\u001b[0m     \u001b[38;5;28;01mreturn\u001b[39;00m \u001b[38;5;28;43mself\u001b[39;49m\u001b[38;5;241;43m.\u001b[39;49m\u001b[43m_get_value\u001b[49m\u001b[43m(\u001b[49m\u001b[43mkey\u001b[49m\u001b[43m)\u001b[49m\n\u001b[0;32m    960\u001b[0m \u001b[38;5;28;01mif\u001b[39;00m is_hashable(key):\n\u001b[0;32m    961\u001b[0m     \u001b[38;5;66;03m# Otherwise index.get_value will raise InvalidIndexError\u001b[39;00m\n\u001b[0;32m    962\u001b[0m     \u001b[38;5;28;01mtry\u001b[39;00m:\n\u001b[0;32m    963\u001b[0m         \u001b[38;5;66;03m# For labels that don't resolve as scalars like tuples and frozensets\u001b[39;00m\n",
      "File \u001b[1;32m~\\anaconda3\\lib\\site-packages\\pandas\\core\\series.py:1069\u001b[0m, in \u001b[0;36mSeries._get_value\u001b[1;34m(self, label, takeable)\u001b[0m\n\u001b[0;32m   1066\u001b[0m     \u001b[38;5;28;01mreturn\u001b[39;00m \u001b[38;5;28mself\u001b[39m\u001b[38;5;241m.\u001b[39m_values[label]\n\u001b[0;32m   1068\u001b[0m \u001b[38;5;66;03m# Similar to Index.get_value, but we do not fall back to positional\u001b[39;00m\n\u001b[1;32m-> 1069\u001b[0m loc \u001b[38;5;241m=\u001b[39m \u001b[38;5;28;43mself\u001b[39;49m\u001b[38;5;241;43m.\u001b[39;49m\u001b[43mindex\u001b[49m\u001b[38;5;241;43m.\u001b[39;49m\u001b[43mget_loc\u001b[49m\u001b[43m(\u001b[49m\u001b[43mlabel\u001b[49m\u001b[43m)\u001b[49m\n\u001b[0;32m   1070\u001b[0m \u001b[38;5;28;01mreturn\u001b[39;00m \u001b[38;5;28mself\u001b[39m\u001b[38;5;241m.\u001b[39mindex\u001b[38;5;241m.\u001b[39m_get_values_for_loc(\u001b[38;5;28mself\u001b[39m, loc, label)\n",
      "File \u001b[1;32m~\\anaconda3\\lib\\site-packages\\pandas\\core\\indexes\\base.py:3623\u001b[0m, in \u001b[0;36mIndex.get_loc\u001b[1;34m(self, key, method, tolerance)\u001b[0m\n\u001b[0;32m   3621\u001b[0m     \u001b[38;5;28;01mreturn\u001b[39;00m \u001b[38;5;28mself\u001b[39m\u001b[38;5;241m.\u001b[39m_engine\u001b[38;5;241m.\u001b[39mget_loc(casted_key)\n\u001b[0;32m   3622\u001b[0m \u001b[38;5;28;01mexcept\u001b[39;00m \u001b[38;5;167;01mKeyError\u001b[39;00m \u001b[38;5;28;01mas\u001b[39;00m err:\n\u001b[1;32m-> 3623\u001b[0m     \u001b[38;5;28;01mraise\u001b[39;00m \u001b[38;5;167;01mKeyError\u001b[39;00m(key) \u001b[38;5;28;01mfrom\u001b[39;00m \u001b[38;5;21;01merr\u001b[39;00m\n\u001b[0;32m   3624\u001b[0m \u001b[38;5;28;01mexcept\u001b[39;00m \u001b[38;5;167;01mTypeError\u001b[39;00m:\n\u001b[0;32m   3625\u001b[0m     \u001b[38;5;66;03m# If we have a listlike key, _check_indexing_error will raise\u001b[39;00m\n\u001b[0;32m   3626\u001b[0m     \u001b[38;5;66;03m#  InvalidIndexError. Otherwise we fall through and re-raise\u001b[39;00m\n\u001b[0;32m   3627\u001b[0m     \u001b[38;5;66;03m#  the TypeError.\u001b[39;00m\n\u001b[0;32m   3628\u001b[0m     \u001b[38;5;28mself\u001b[39m\u001b[38;5;241m.\u001b[39m_check_indexing_error(key)\n",
      "\u001b[1;31mKeyError\u001b[0m: 0"
     ]
    }
   ],
   "source": [
    "time_list=[]\n",
    "for i in range(filtered_df.shape[0]):\n",
    "    time_list.append(str(filtered_df['month'][i])+\"-\"+str(filtered_df['year'][i]))\n",
    "# df['month_year']=time_list\n",
    "time_list\n",
    "\n",
    "# user_monthly_message_count = df.groupby(['user', 'year', 'month'])['message'].count().reset_index()\n",
    "# df"
   ]
  },
  {
   "cell_type": "code",
   "execution_count": 100,
   "id": "9d3395ab",
   "metadata": {},
   "outputs": [
    {
     "data": {
      "text/html": [
       "<div>\n",
       "<style scoped>\n",
       "    .dataframe tbody tr th:only-of-type {\n",
       "        vertical-align: middle;\n",
       "    }\n",
       "\n",
       "    .dataframe tbody tr th {\n",
       "        vertical-align: top;\n",
       "    }\n",
       "\n",
       "    .dataframe thead th {\n",
       "        text-align: right;\n",
       "    }\n",
       "</style>\n",
       "<table border=\"1\" class=\"dataframe\">\n",
       "  <thead>\n",
       "    <tr style=\"text-align: right;\">\n",
       "      <th></th>\n",
       "      <th>message_date</th>\n",
       "      <th>user</th>\n",
       "      <th>message</th>\n",
       "      <th>year</th>\n",
       "      <th>month</th>\n",
       "      <th>day</th>\n",
       "      <th>hour</th>\n",
       "      <th>minute</th>\n",
       "    </tr>\n",
       "  </thead>\n",
       "  <tbody>\n",
       "    <tr>\n",
       "      <th>3</th>\n",
       "      <td>2020-11-14 03:47:00</td>\n",
       "      <td>Kunal Bhaii</td>\n",
       "      <td>Nice\\n</td>\n",
       "      <td>2020</td>\n",
       "      <td>November</td>\n",
       "      <td>14</td>\n",
       "      <td>3</td>\n",
       "      <td>47</td>\n",
       "    </tr>\n",
       "    <tr>\n",
       "      <th>4</th>\n",
       "      <td>2020-11-14 04:24:00</td>\n",
       "      <td>Suruchi Arora</td>\n",
       "      <td>Thanks\\n</td>\n",
       "      <td>2020</td>\n",
       "      <td>November</td>\n",
       "      <td>14</td>\n",
       "      <td>4</td>\n",
       "      <td>24</td>\n",
       "    </tr>\n",
       "    <tr>\n",
       "      <th>6</th>\n",
       "      <td>2021-01-19 08:42:00</td>\n",
       "      <td>Suruchi Arora</td>\n",
       "      <td>Nani G.vcf (file attached)\\n</td>\n",
       "      <td>2021</td>\n",
       "      <td>January</td>\n",
       "      <td>19</td>\n",
       "      <td>8</td>\n",
       "      <td>42</td>\n",
       "    </tr>\n",
       "    <tr>\n",
       "      <th>8</th>\n",
       "      <td>2021-03-05 08:23:00</td>\n",
       "      <td>Suruchi Arora</td>\n",
       "      <td>Hloo Manu bhaiya Radhe Radhe!!\\nAjj mumy te pa...</td>\n",
       "      <td>2021</td>\n",
       "      <td>March</td>\n",
       "      <td>5</td>\n",
       "      <td>8</td>\n",
       "      <td>23</td>\n",
       "    </tr>\n",
       "    <tr>\n",
       "      <th>29</th>\n",
       "      <td>2021-06-06 11:28:00</td>\n",
       "      <td>Suruchi Arora</td>\n",
       "      <td>https://youtu.be/VY8tE_CLc6I\\n</td>\n",
       "      <td>2021</td>\n",
       "      <td>June</td>\n",
       "      <td>6</td>\n",
       "      <td>11</td>\n",
       "      <td>28</td>\n",
       "    </tr>\n",
       "    <tr>\n",
       "      <th>...</th>\n",
       "      <td>...</td>\n",
       "      <td>...</td>\n",
       "      <td>...</td>\n",
       "      <td>...</td>\n",
       "      <td>...</td>\n",
       "      <td>...</td>\n",
       "      <td>...</td>\n",
       "      <td>...</td>\n",
       "    </tr>\n",
       "    <tr>\n",
       "      <th>192</th>\n",
       "      <td>2023-06-29 12:50:00</td>\n",
       "      <td>Suruchi Arora</td>\n",
       "      <td>https://medium.com/@suruchiarora257/the-multic...</td>\n",
       "      <td>2023</td>\n",
       "      <td>June</td>\n",
       "      <td>29</td>\n",
       "      <td>12</td>\n",
       "      <td>50</td>\n",
       "    </tr>\n",
       "    <tr>\n",
       "      <th>193</th>\n",
       "      <td>2023-07-12 06:20:00</td>\n",
       "      <td>Suruchi Arora</td>\n",
       "      <td>https://youtube.com/shorts/xO5l3q2BKH8?feature...</td>\n",
       "      <td>2023</td>\n",
       "      <td>July</td>\n",
       "      <td>12</td>\n",
       "      <td>6</td>\n",
       "      <td>20</td>\n",
       "    </tr>\n",
       "    <tr>\n",
       "      <th>194</th>\n",
       "      <td>2023-07-25 08:17:00</td>\n",
       "      <td>Kunal Bhaii</td>\n",
       "      <td>Happy bday radhe! Enjoy your day\\n</td>\n",
       "      <td>2023</td>\n",
       "      <td>July</td>\n",
       "      <td>25</td>\n",
       "      <td>8</td>\n",
       "      <td>17</td>\n",
       "    </tr>\n",
       "    <tr>\n",
       "      <th>195</th>\n",
       "      <td>2023-07-25 10:12:00</td>\n",
       "      <td>Suruchi Arora</td>\n",
       "      <td>Thank you bhaiii🫶🏻\\n</td>\n",
       "      <td>2023</td>\n",
       "      <td>July</td>\n",
       "      <td>25</td>\n",
       "      <td>10</td>\n",
       "      <td>12</td>\n",
       "    </tr>\n",
       "    <tr>\n",
       "      <th>205</th>\n",
       "      <td>2023-07-25 11:56:00</td>\n",
       "      <td>Kunal Bhaii</td>\n",
       "      <td>❤️❤️❤️\\n</td>\n",
       "      <td>2023</td>\n",
       "      <td>July</td>\n",
       "      <td>25</td>\n",
       "      <td>11</td>\n",
       "      <td>56</td>\n",
       "    </tr>\n",
       "  </tbody>\n",
       "</table>\n",
       "<p>107 rows × 8 columns</p>\n",
       "</div>"
      ],
      "text/plain": [
       "           message_date           user  \\\n",
       "3   2020-11-14 03:47:00    Kunal Bhaii   \n",
       "4   2020-11-14 04:24:00  Suruchi Arora   \n",
       "6   2021-01-19 08:42:00  Suruchi Arora   \n",
       "8   2021-03-05 08:23:00  Suruchi Arora   \n",
       "29  2021-06-06 11:28:00  Suruchi Arora   \n",
       "..                  ...            ...   \n",
       "192 2023-06-29 12:50:00  Suruchi Arora   \n",
       "193 2023-07-12 06:20:00  Suruchi Arora   \n",
       "194 2023-07-25 08:17:00    Kunal Bhaii   \n",
       "195 2023-07-25 10:12:00  Suruchi Arora   \n",
       "205 2023-07-25 11:56:00    Kunal Bhaii   \n",
       "\n",
       "                                               message  year     month  day  \\\n",
       "3                                               Nice\\n  2020  November   14   \n",
       "4                                             Thanks\\n  2020  November   14   \n",
       "6                         Nani G.vcf (file attached)\\n  2021   January   19   \n",
       "8    Hloo Manu bhaiya Radhe Radhe!!\\nAjj mumy te pa...  2021     March    5   \n",
       "29                      https://youtu.be/VY8tE_CLc6I\\n  2021      June    6   \n",
       "..                                                 ...   ...       ...  ...   \n",
       "192  https://medium.com/@suruchiarora257/the-multic...  2023      June   29   \n",
       "193  https://youtube.com/shorts/xO5l3q2BKH8?feature...  2023      July   12   \n",
       "194                 Happy bday radhe! Enjoy your day\\n  2023      July   25   \n",
       "195                               Thank you bhaiii🫶🏻\\n  2023      July   25   \n",
       "205                                           ❤️❤️❤️\\n  2023      July   25   \n",
       "\n",
       "     hour  minute  \n",
       "3       3      47  \n",
       "4       4      24  \n",
       "6       8      42  \n",
       "8       8      23  \n",
       "29     11      28  \n",
       "..    ...     ...  \n",
       "192    12      50  \n",
       "193     6      20  \n",
       "194     8      17  \n",
       "195    10      12  \n",
       "205    11      56  \n",
       "\n",
       "[107 rows x 8 columns]"
      ]
     },
     "execution_count": 100,
     "metadata": {},
     "output_type": "execute_result"
    }
   ],
   "source": [
    "filtered_df"
   ]
  },
  {
   "cell_type": "code",
   "execution_count": 111,
   "id": "c5426382",
   "metadata": {},
   "outputs": [
    {
     "data": {
      "text/html": [
       "<div>\n",
       "<style scoped>\n",
       "    .dataframe tbody tr th:only-of-type {\n",
       "        vertical-align: middle;\n",
       "    }\n",
       "\n",
       "    .dataframe tbody tr th {\n",
       "        vertical-align: top;\n",
       "    }\n",
       "\n",
       "    .dataframe thead th {\n",
       "        text-align: right;\n",
       "    }\n",
       "</style>\n",
       "<table border=\"1\" class=\"dataframe\">\n",
       "  <thead>\n",
       "    <tr style=\"text-align: right;\">\n",
       "      <th></th>\n",
       "      <th>user</th>\n",
       "      <th>year</th>\n",
       "      <th>month</th>\n",
       "      <th>message</th>\n",
       "    </tr>\n",
       "  </thead>\n",
       "  <tbody>\n",
       "    <tr>\n",
       "      <th>0</th>\n",
       "      <td>Kunal Bhaii</td>\n",
       "      <td>2020</td>\n",
       "      <td>December</td>\n",
       "      <td>1</td>\n",
       "    </tr>\n",
       "    <tr>\n",
       "      <th>1</th>\n",
       "      <td>Kunal Bhaii</td>\n",
       "      <td>2020</td>\n",
       "      <td>November</td>\n",
       "      <td>1</td>\n",
       "    </tr>\n",
       "    <tr>\n",
       "      <th>2</th>\n",
       "      <td>Kunal Bhaii</td>\n",
       "      <td>2021</td>\n",
       "      <td>December</td>\n",
       "      <td>8</td>\n",
       "    </tr>\n",
       "    <tr>\n",
       "      <th>3</th>\n",
       "      <td>Kunal Bhaii</td>\n",
       "      <td>2021</td>\n",
       "      <td>February</td>\n",
       "      <td>1</td>\n",
       "    </tr>\n",
       "    <tr>\n",
       "      <th>4</th>\n",
       "      <td>Kunal Bhaii</td>\n",
       "      <td>2021</td>\n",
       "      <td>July</td>\n",
       "      <td>1</td>\n",
       "    </tr>\n",
       "  </tbody>\n",
       "</table>\n",
       "</div>"
      ],
      "text/plain": [
       "          user  year     month  message\n",
       "0  Kunal Bhaii  2020  December        1\n",
       "1  Kunal Bhaii  2020  November        1\n",
       "2  Kunal Bhaii  2021  December        8\n",
       "3  Kunal Bhaii  2021  February        1\n",
       "4  Kunal Bhaii  2021      July        1"
      ]
     },
     "execution_count": 111,
     "metadata": {},
     "output_type": "execute_result"
    }
   ],
   "source": [
    "grp_df=df.groupby(['user','year','month']).count()['message'].reset_index()\n",
    "grp_df.head()"
   ]
  },
  {
   "cell_type": "code",
   "execution_count": 112,
   "id": "00f69221",
   "metadata": {},
   "outputs": [
    {
     "data": {
      "text/html": [
       "<div>\n",
       "<style scoped>\n",
       "    .dataframe tbody tr th:only-of-type {\n",
       "        vertical-align: middle;\n",
       "    }\n",
       "\n",
       "    .dataframe tbody tr th {\n",
       "        vertical-align: top;\n",
       "    }\n",
       "\n",
       "    .dataframe thead th {\n",
       "        text-align: right;\n",
       "    }\n",
       "</style>\n",
       "<table border=\"1\" class=\"dataframe\">\n",
       "  <thead>\n",
       "    <tr style=\"text-align: right;\">\n",
       "      <th></th>\n",
       "      <th>user</th>\n",
       "      <th>year</th>\n",
       "      <th>month</th>\n",
       "      <th>message</th>\n",
       "      <th>month_year</th>\n",
       "    </tr>\n",
       "  </thead>\n",
       "  <tbody>\n",
       "    <tr>\n",
       "      <th>0</th>\n",
       "      <td>Kunal Bhaii</td>\n",
       "      <td>2020</td>\n",
       "      <td>December</td>\n",
       "      <td>1</td>\n",
       "      <td>December-2020</td>\n",
       "    </tr>\n",
       "    <tr>\n",
       "      <th>1</th>\n",
       "      <td>Kunal Bhaii</td>\n",
       "      <td>2020</td>\n",
       "      <td>November</td>\n",
       "      <td>1</td>\n",
       "      <td>November-2020</td>\n",
       "    </tr>\n",
       "    <tr>\n",
       "      <th>2</th>\n",
       "      <td>Kunal Bhaii</td>\n",
       "      <td>2021</td>\n",
       "      <td>December</td>\n",
       "      <td>8</td>\n",
       "      <td>December-2021</td>\n",
       "    </tr>\n",
       "    <tr>\n",
       "      <th>3</th>\n",
       "      <td>Kunal Bhaii</td>\n",
       "      <td>2021</td>\n",
       "      <td>February</td>\n",
       "      <td>1</td>\n",
       "      <td>February-2021</td>\n",
       "    </tr>\n",
       "    <tr>\n",
       "      <th>4</th>\n",
       "      <td>Kunal Bhaii</td>\n",
       "      <td>2021</td>\n",
       "      <td>July</td>\n",
       "      <td>1</td>\n",
       "      <td>July-2021</td>\n",
       "    </tr>\n",
       "  </tbody>\n",
       "</table>\n",
       "</div>"
      ],
      "text/plain": [
       "          user  year     month  message     month_year\n",
       "0  Kunal Bhaii  2020  December        1  December-2020\n",
       "1  Kunal Bhaii  2020  November        1  November-2020\n",
       "2  Kunal Bhaii  2021  December        8  December-2021\n",
       "3  Kunal Bhaii  2021  February        1  February-2021\n",
       "4  Kunal Bhaii  2021      July        1      July-2021"
      ]
     },
     "execution_count": 112,
     "metadata": {},
     "output_type": "execute_result"
    }
   ],
   "source": [
    "time_list=[]\n",
    "for i in range(grp_df.shape[0]):\n",
    "    time_list.append(str(grp_df['month'][i])+\"-\"+str(grp_df['year'][i]))\n",
    "grp_df['month_year']=time_list\n",
    "\n",
    "grp_df.head()"
   ]
  },
  {
   "cell_type": "code",
   "execution_count": 128,
   "id": "0499aa5f",
   "metadata": {},
   "outputs": [
    {
     "data": {
      "application/vnd.plotly.v1+json": {
       "config": {
        "plotlyServerURL": "https://plot.ly"
       },
       "data": [
        {
         "alignmentgroup": "True",
         "hovertemplate": "user=Kunal Bhaii<br>month_year=%{x}<br>Message Count=%{y}<extra></extra>",
         "legendgroup": "Kunal Bhaii",
         "marker": {
          "color": "#636efa",
          "pattern": {
           "shape": ""
          }
         },
         "name": "Kunal Bhaii",
         "offsetgroup": "Kunal Bhaii",
         "orientation": "v",
         "showlegend": true,
         "textposition": "auto",
         "type": "bar",
         "x": [
          "December-2020",
          "November-2020",
          "December-2021",
          "February-2021",
          "July-2021",
          "June-2021",
          "March-2021",
          "August-2022",
          "December-2022",
          "February-2022",
          "January-2022",
          "July-2022",
          "June-2022",
          "March-2022",
          "May-2022",
          "April-2023",
          "January-2023",
          "July-2023",
          "March-2023",
          "May-2023"
         ],
         "xaxis": "x",
         "y": [
          1,
          1,
          8,
          1,
          1,
          2,
          1,
          1,
          19,
          4,
          16,
          6,
          8,
          3,
          2,
          6,
          3,
          2,
          9,
          1
         ],
         "yaxis": "y"
        },
        {
         "alignmentgroup": "True",
         "hovertemplate": "user=Suruchi Arora<br>month_year=%{x}<br>Message Count=%{y}<extra></extra>",
         "legendgroup": "Suruchi Arora",
         "marker": {
          "color": "#EF553B",
          "pattern": {
           "shape": ""
          }
         },
         "name": "Suruchi Arora",
         "offsetgroup": "Suruchi Arora",
         "orientation": "v",
         "showlegend": true,
         "textposition": "auto",
         "type": "bar",
         "x": [
          "November-2020",
          "January-2021",
          "July-2021",
          "June-2021",
          "March-2021",
          "August-2022",
          "December-2022",
          "February-2022",
          "July-2022",
          "June-2022",
          "March-2022",
          "October-2022",
          "April-2023",
          "January-2023",
          "July-2023",
          "June-2023",
          "March-2023",
          "May-2023"
         ],
         "xaxis": "x",
         "y": [
          3,
          1,
          15,
          20,
          1,
          2,
          12,
          9,
          9,
          2,
          4,
          1,
          5,
          3,
          11,
          1,
          8,
          3
         ],
         "yaxis": "y"
        }
       ],
       "layout": {
        "barmode": "relative",
        "legend": {
         "title": {
          "text": "user"
         },
         "tracegroupgap": 0
        },
        "template": {
         "data": {
          "bar": [
           {
            "error_x": {
             "color": "#2a3f5f"
            },
            "error_y": {
             "color": "#2a3f5f"
            },
            "marker": {
             "line": {
              "color": "#E5ECF6",
              "width": 0.5
             },
             "pattern": {
              "fillmode": "overlay",
              "size": 10,
              "solidity": 0.2
             }
            },
            "type": "bar"
           }
          ],
          "barpolar": [
           {
            "marker": {
             "line": {
              "color": "#E5ECF6",
              "width": 0.5
             },
             "pattern": {
              "fillmode": "overlay",
              "size": 10,
              "solidity": 0.2
             }
            },
            "type": "barpolar"
           }
          ],
          "carpet": [
           {
            "aaxis": {
             "endlinecolor": "#2a3f5f",
             "gridcolor": "white",
             "linecolor": "white",
             "minorgridcolor": "white",
             "startlinecolor": "#2a3f5f"
            },
            "baxis": {
             "endlinecolor": "#2a3f5f",
             "gridcolor": "white",
             "linecolor": "white",
             "minorgridcolor": "white",
             "startlinecolor": "#2a3f5f"
            },
            "type": "carpet"
           }
          ],
          "choropleth": [
           {
            "colorbar": {
             "outlinewidth": 0,
             "ticks": ""
            },
            "type": "choropleth"
           }
          ],
          "contour": [
           {
            "colorbar": {
             "outlinewidth": 0,
             "ticks": ""
            },
            "colorscale": [
             [
              0,
              "#0d0887"
             ],
             [
              0.1111111111111111,
              "#46039f"
             ],
             [
              0.2222222222222222,
              "#7201a8"
             ],
             [
              0.3333333333333333,
              "#9c179e"
             ],
             [
              0.4444444444444444,
              "#bd3786"
             ],
             [
              0.5555555555555556,
              "#d8576b"
             ],
             [
              0.6666666666666666,
              "#ed7953"
             ],
             [
              0.7777777777777778,
              "#fb9f3a"
             ],
             [
              0.8888888888888888,
              "#fdca26"
             ],
             [
              1,
              "#f0f921"
             ]
            ],
            "type": "contour"
           }
          ],
          "contourcarpet": [
           {
            "colorbar": {
             "outlinewidth": 0,
             "ticks": ""
            },
            "type": "contourcarpet"
           }
          ],
          "heatmap": [
           {
            "colorbar": {
             "outlinewidth": 0,
             "ticks": ""
            },
            "colorscale": [
             [
              0,
              "#0d0887"
             ],
             [
              0.1111111111111111,
              "#46039f"
             ],
             [
              0.2222222222222222,
              "#7201a8"
             ],
             [
              0.3333333333333333,
              "#9c179e"
             ],
             [
              0.4444444444444444,
              "#bd3786"
             ],
             [
              0.5555555555555556,
              "#d8576b"
             ],
             [
              0.6666666666666666,
              "#ed7953"
             ],
             [
              0.7777777777777778,
              "#fb9f3a"
             ],
             [
              0.8888888888888888,
              "#fdca26"
             ],
             [
              1,
              "#f0f921"
             ]
            ],
            "type": "heatmap"
           }
          ],
          "heatmapgl": [
           {
            "colorbar": {
             "outlinewidth": 0,
             "ticks": ""
            },
            "colorscale": [
             [
              0,
              "#0d0887"
             ],
             [
              0.1111111111111111,
              "#46039f"
             ],
             [
              0.2222222222222222,
              "#7201a8"
             ],
             [
              0.3333333333333333,
              "#9c179e"
             ],
             [
              0.4444444444444444,
              "#bd3786"
             ],
             [
              0.5555555555555556,
              "#d8576b"
             ],
             [
              0.6666666666666666,
              "#ed7953"
             ],
             [
              0.7777777777777778,
              "#fb9f3a"
             ],
             [
              0.8888888888888888,
              "#fdca26"
             ],
             [
              1,
              "#f0f921"
             ]
            ],
            "type": "heatmapgl"
           }
          ],
          "histogram": [
           {
            "marker": {
             "pattern": {
              "fillmode": "overlay",
              "size": 10,
              "solidity": 0.2
             }
            },
            "type": "histogram"
           }
          ],
          "histogram2d": [
           {
            "colorbar": {
             "outlinewidth": 0,
             "ticks": ""
            },
            "colorscale": [
             [
              0,
              "#0d0887"
             ],
             [
              0.1111111111111111,
              "#46039f"
             ],
             [
              0.2222222222222222,
              "#7201a8"
             ],
             [
              0.3333333333333333,
              "#9c179e"
             ],
             [
              0.4444444444444444,
              "#bd3786"
             ],
             [
              0.5555555555555556,
              "#d8576b"
             ],
             [
              0.6666666666666666,
              "#ed7953"
             ],
             [
              0.7777777777777778,
              "#fb9f3a"
             ],
             [
              0.8888888888888888,
              "#fdca26"
             ],
             [
              1,
              "#f0f921"
             ]
            ],
            "type": "histogram2d"
           }
          ],
          "histogram2dcontour": [
           {
            "colorbar": {
             "outlinewidth": 0,
             "ticks": ""
            },
            "colorscale": [
             [
              0,
              "#0d0887"
             ],
             [
              0.1111111111111111,
              "#46039f"
             ],
             [
              0.2222222222222222,
              "#7201a8"
             ],
             [
              0.3333333333333333,
              "#9c179e"
             ],
             [
              0.4444444444444444,
              "#bd3786"
             ],
             [
              0.5555555555555556,
              "#d8576b"
             ],
             [
              0.6666666666666666,
              "#ed7953"
             ],
             [
              0.7777777777777778,
              "#fb9f3a"
             ],
             [
              0.8888888888888888,
              "#fdca26"
             ],
             [
              1,
              "#f0f921"
             ]
            ],
            "type": "histogram2dcontour"
           }
          ],
          "mesh3d": [
           {
            "colorbar": {
             "outlinewidth": 0,
             "ticks": ""
            },
            "type": "mesh3d"
           }
          ],
          "parcoords": [
           {
            "line": {
             "colorbar": {
              "outlinewidth": 0,
              "ticks": ""
             }
            },
            "type": "parcoords"
           }
          ],
          "pie": [
           {
            "automargin": true,
            "type": "pie"
           }
          ],
          "scatter": [
           {
            "marker": {
             "colorbar": {
              "outlinewidth": 0,
              "ticks": ""
             }
            },
            "type": "scatter"
           }
          ],
          "scatter3d": [
           {
            "line": {
             "colorbar": {
              "outlinewidth": 0,
              "ticks": ""
             }
            },
            "marker": {
             "colorbar": {
              "outlinewidth": 0,
              "ticks": ""
             }
            },
            "type": "scatter3d"
           }
          ],
          "scattercarpet": [
           {
            "marker": {
             "colorbar": {
              "outlinewidth": 0,
              "ticks": ""
             }
            },
            "type": "scattercarpet"
           }
          ],
          "scattergeo": [
           {
            "marker": {
             "colorbar": {
              "outlinewidth": 0,
              "ticks": ""
             }
            },
            "type": "scattergeo"
           }
          ],
          "scattergl": [
           {
            "marker": {
             "colorbar": {
              "outlinewidth": 0,
              "ticks": ""
             }
            },
            "type": "scattergl"
           }
          ],
          "scattermapbox": [
           {
            "marker": {
             "colorbar": {
              "outlinewidth": 0,
              "ticks": ""
             }
            },
            "type": "scattermapbox"
           }
          ],
          "scatterpolar": [
           {
            "marker": {
             "colorbar": {
              "outlinewidth": 0,
              "ticks": ""
             }
            },
            "type": "scatterpolar"
           }
          ],
          "scatterpolargl": [
           {
            "marker": {
             "colorbar": {
              "outlinewidth": 0,
              "ticks": ""
             }
            },
            "type": "scatterpolargl"
           }
          ],
          "scatterternary": [
           {
            "marker": {
             "colorbar": {
              "outlinewidth": 0,
              "ticks": ""
             }
            },
            "type": "scatterternary"
           }
          ],
          "surface": [
           {
            "colorbar": {
             "outlinewidth": 0,
             "ticks": ""
            },
            "colorscale": [
             [
              0,
              "#0d0887"
             ],
             [
              0.1111111111111111,
              "#46039f"
             ],
             [
              0.2222222222222222,
              "#7201a8"
             ],
             [
              0.3333333333333333,
              "#9c179e"
             ],
             [
              0.4444444444444444,
              "#bd3786"
             ],
             [
              0.5555555555555556,
              "#d8576b"
             ],
             [
              0.6666666666666666,
              "#ed7953"
             ],
             [
              0.7777777777777778,
              "#fb9f3a"
             ],
             [
              0.8888888888888888,
              "#fdca26"
             ],
             [
              1,
              "#f0f921"
             ]
            ],
            "type": "surface"
           }
          ],
          "table": [
           {
            "cells": {
             "fill": {
              "color": "#EBF0F8"
             },
             "line": {
              "color": "white"
             }
            },
            "header": {
             "fill": {
              "color": "#C8D4E3"
             },
             "line": {
              "color": "white"
             }
            },
            "type": "table"
           }
          ]
         },
         "layout": {
          "annotationdefaults": {
           "arrowcolor": "#2a3f5f",
           "arrowhead": 0,
           "arrowwidth": 1
          },
          "autotypenumbers": "strict",
          "coloraxis": {
           "colorbar": {
            "outlinewidth": 0,
            "ticks": ""
           }
          },
          "colorscale": {
           "diverging": [
            [
             0,
             "#8e0152"
            ],
            [
             0.1,
             "#c51b7d"
            ],
            [
             0.2,
             "#de77ae"
            ],
            [
             0.3,
             "#f1b6da"
            ],
            [
             0.4,
             "#fde0ef"
            ],
            [
             0.5,
             "#f7f7f7"
            ],
            [
             0.6,
             "#e6f5d0"
            ],
            [
             0.7,
             "#b8e186"
            ],
            [
             0.8,
             "#7fbc41"
            ],
            [
             0.9,
             "#4d9221"
            ],
            [
             1,
             "#276419"
            ]
           ],
           "sequential": [
            [
             0,
             "#0d0887"
            ],
            [
             0.1111111111111111,
             "#46039f"
            ],
            [
             0.2222222222222222,
             "#7201a8"
            ],
            [
             0.3333333333333333,
             "#9c179e"
            ],
            [
             0.4444444444444444,
             "#bd3786"
            ],
            [
             0.5555555555555556,
             "#d8576b"
            ],
            [
             0.6666666666666666,
             "#ed7953"
            ],
            [
             0.7777777777777778,
             "#fb9f3a"
            ],
            [
             0.8888888888888888,
             "#fdca26"
            ],
            [
             1,
             "#f0f921"
            ]
           ],
           "sequentialminus": [
            [
             0,
             "#0d0887"
            ],
            [
             0.1111111111111111,
             "#46039f"
            ],
            [
             0.2222222222222222,
             "#7201a8"
            ],
            [
             0.3333333333333333,
             "#9c179e"
            ],
            [
             0.4444444444444444,
             "#bd3786"
            ],
            [
             0.5555555555555556,
             "#d8576b"
            ],
            [
             0.6666666666666666,
             "#ed7953"
            ],
            [
             0.7777777777777778,
             "#fb9f3a"
            ],
            [
             0.8888888888888888,
             "#fdca26"
            ],
            [
             1,
             "#f0f921"
            ]
           ]
          },
          "colorway": [
           "#636efa",
           "#EF553B",
           "#00cc96",
           "#ab63fa",
           "#FFA15A",
           "#19d3f3",
           "#FF6692",
           "#B6E880",
           "#FF97FF",
           "#FECB52"
          ],
          "font": {
           "color": "#2a3f5f"
          },
          "geo": {
           "bgcolor": "white",
           "lakecolor": "white",
           "landcolor": "#E5ECF6",
           "showlakes": true,
           "showland": true,
           "subunitcolor": "white"
          },
          "hoverlabel": {
           "align": "left"
          },
          "hovermode": "closest",
          "mapbox": {
           "style": "light"
          },
          "paper_bgcolor": "white",
          "plot_bgcolor": "#E5ECF6",
          "polar": {
           "angularaxis": {
            "gridcolor": "white",
            "linecolor": "white",
            "ticks": ""
           },
           "bgcolor": "#E5ECF6",
           "radialaxis": {
            "gridcolor": "white",
            "linecolor": "white",
            "ticks": ""
           }
          },
          "scene": {
           "xaxis": {
            "backgroundcolor": "#E5ECF6",
            "gridcolor": "white",
            "gridwidth": 2,
            "linecolor": "white",
            "showbackground": true,
            "ticks": "",
            "zerolinecolor": "white"
           },
           "yaxis": {
            "backgroundcolor": "#E5ECF6",
            "gridcolor": "white",
            "gridwidth": 2,
            "linecolor": "white",
            "showbackground": true,
            "ticks": "",
            "zerolinecolor": "white"
           },
           "zaxis": {
            "backgroundcolor": "#E5ECF6",
            "gridcolor": "white",
            "gridwidth": 2,
            "linecolor": "white",
            "showbackground": true,
            "ticks": "",
            "zerolinecolor": "white"
           }
          },
          "shapedefaults": {
           "line": {
            "color": "#2a3f5f"
           }
          },
          "ternary": {
           "aaxis": {
            "gridcolor": "white",
            "linecolor": "white",
            "ticks": ""
           },
           "baxis": {
            "gridcolor": "white",
            "linecolor": "white",
            "ticks": ""
           },
           "bgcolor": "#E5ECF6",
           "caxis": {
            "gridcolor": "white",
            "linecolor": "white",
            "ticks": ""
           }
          },
          "title": {
           "x": 0.05
          },
          "xaxis": {
           "automargin": true,
           "gridcolor": "white",
           "linecolor": "white",
           "ticks": "",
           "title": {
            "standoff": 15
           },
           "zerolinecolor": "white",
           "zerolinewidth": 2
          },
          "yaxis": {
           "automargin": true,
           "gridcolor": "white",
           "linecolor": "white",
           "ticks": "",
           "title": {
            "standoff": 15
           },
           "zerolinecolor": "white",
           "zerolinewidth": 2
          }
         }
        },
        "title": {
         "text": "User Message Counts by Month and Year"
        },
        "xaxis": {
         "anchor": "y",
         "categoryorder": "total ascending",
         "domain": [
          0,
          1
         ],
         "tickangle": -90,
         "title": {
          "text": "month_year"
         }
        },
        "yaxis": {
         "anchor": "x",
         "domain": [
          0,
          1
         ],
         "title": {
          "text": "Message Count"
         }
        }
       }
      },
      "text/html": [
       "<div>                            <div id=\"d91a5510-72f9-4cac-bd43-1847518fa126\" class=\"plotly-graph-div\" style=\"height:525px; width:100%;\"></div>            <script type=\"text/javascript\">                require([\"plotly\"], function(Plotly) {                    window.PLOTLYENV=window.PLOTLYENV || {};                                    if (document.getElementById(\"d91a5510-72f9-4cac-bd43-1847518fa126\")) {                    Plotly.newPlot(                        \"d91a5510-72f9-4cac-bd43-1847518fa126\",                        [{\"alignmentgroup\":\"True\",\"hovertemplate\":\"user=Kunal Bhaii<br>month_year=%{x}<br>Message Count=%{y}<extra></extra>\",\"legendgroup\":\"Kunal Bhaii\",\"marker\":{\"color\":\"#636efa\",\"pattern\":{\"shape\":\"\"}},\"name\":\"Kunal Bhaii\",\"offsetgroup\":\"Kunal Bhaii\",\"orientation\":\"v\",\"showlegend\":true,\"textposition\":\"auto\",\"x\":[\"December-2020\",\"November-2020\",\"December-2021\",\"February-2021\",\"July-2021\",\"June-2021\",\"March-2021\",\"August-2022\",\"December-2022\",\"February-2022\",\"January-2022\",\"July-2022\",\"June-2022\",\"March-2022\",\"May-2022\",\"April-2023\",\"January-2023\",\"July-2023\",\"March-2023\",\"May-2023\"],\"xaxis\":\"x\",\"y\":[1,1,8,1,1,2,1,1,19,4,16,6,8,3,2,6,3,2,9,1],\"yaxis\":\"y\",\"type\":\"bar\"},{\"alignmentgroup\":\"True\",\"hovertemplate\":\"user=Suruchi Arora<br>month_year=%{x}<br>Message Count=%{y}<extra></extra>\",\"legendgroup\":\"Suruchi Arora\",\"marker\":{\"color\":\"#EF553B\",\"pattern\":{\"shape\":\"\"}},\"name\":\"Suruchi Arora\",\"offsetgroup\":\"Suruchi Arora\",\"orientation\":\"v\",\"showlegend\":true,\"textposition\":\"auto\",\"x\":[\"November-2020\",\"January-2021\",\"July-2021\",\"June-2021\",\"March-2021\",\"August-2022\",\"December-2022\",\"February-2022\",\"July-2022\",\"June-2022\",\"March-2022\",\"October-2022\",\"April-2023\",\"January-2023\",\"July-2023\",\"June-2023\",\"March-2023\",\"May-2023\"],\"xaxis\":\"x\",\"y\":[3,1,15,20,1,2,12,9,9,2,4,1,5,3,11,1,8,3],\"yaxis\":\"y\",\"type\":\"bar\"}],                        {\"template\":{\"data\":{\"bar\":[{\"error_x\":{\"color\":\"#2a3f5f\"},\"error_y\":{\"color\":\"#2a3f5f\"},\"marker\":{\"line\":{\"color\":\"#E5ECF6\",\"width\":0.5},\"pattern\":{\"fillmode\":\"overlay\",\"size\":10,\"solidity\":0.2}},\"type\":\"bar\"}],\"barpolar\":[{\"marker\":{\"line\":{\"color\":\"#E5ECF6\",\"width\":0.5},\"pattern\":{\"fillmode\":\"overlay\",\"size\":10,\"solidity\":0.2}},\"type\":\"barpolar\"}],\"carpet\":[{\"aaxis\":{\"endlinecolor\":\"#2a3f5f\",\"gridcolor\":\"white\",\"linecolor\":\"white\",\"minorgridcolor\":\"white\",\"startlinecolor\":\"#2a3f5f\"},\"baxis\":{\"endlinecolor\":\"#2a3f5f\",\"gridcolor\":\"white\",\"linecolor\":\"white\",\"minorgridcolor\":\"white\",\"startlinecolor\":\"#2a3f5f\"},\"type\":\"carpet\"}],\"choropleth\":[{\"colorbar\":{\"outlinewidth\":0,\"ticks\":\"\"},\"type\":\"choropleth\"}],\"contour\":[{\"colorbar\":{\"outlinewidth\":0,\"ticks\":\"\"},\"colorscale\":[[0.0,\"#0d0887\"],[0.1111111111111111,\"#46039f\"],[0.2222222222222222,\"#7201a8\"],[0.3333333333333333,\"#9c179e\"],[0.4444444444444444,\"#bd3786\"],[0.5555555555555556,\"#d8576b\"],[0.6666666666666666,\"#ed7953\"],[0.7777777777777778,\"#fb9f3a\"],[0.8888888888888888,\"#fdca26\"],[1.0,\"#f0f921\"]],\"type\":\"contour\"}],\"contourcarpet\":[{\"colorbar\":{\"outlinewidth\":0,\"ticks\":\"\"},\"type\":\"contourcarpet\"}],\"heatmap\":[{\"colorbar\":{\"outlinewidth\":0,\"ticks\":\"\"},\"colorscale\":[[0.0,\"#0d0887\"],[0.1111111111111111,\"#46039f\"],[0.2222222222222222,\"#7201a8\"],[0.3333333333333333,\"#9c179e\"],[0.4444444444444444,\"#bd3786\"],[0.5555555555555556,\"#d8576b\"],[0.6666666666666666,\"#ed7953\"],[0.7777777777777778,\"#fb9f3a\"],[0.8888888888888888,\"#fdca26\"],[1.0,\"#f0f921\"]],\"type\":\"heatmap\"}],\"heatmapgl\":[{\"colorbar\":{\"outlinewidth\":0,\"ticks\":\"\"},\"colorscale\":[[0.0,\"#0d0887\"],[0.1111111111111111,\"#46039f\"],[0.2222222222222222,\"#7201a8\"],[0.3333333333333333,\"#9c179e\"],[0.4444444444444444,\"#bd3786\"],[0.5555555555555556,\"#d8576b\"],[0.6666666666666666,\"#ed7953\"],[0.7777777777777778,\"#fb9f3a\"],[0.8888888888888888,\"#fdca26\"],[1.0,\"#f0f921\"]],\"type\":\"heatmapgl\"}],\"histogram\":[{\"marker\":{\"pattern\":{\"fillmode\":\"overlay\",\"size\":10,\"solidity\":0.2}},\"type\":\"histogram\"}],\"histogram2d\":[{\"colorbar\":{\"outlinewidth\":0,\"ticks\":\"\"},\"colorscale\":[[0.0,\"#0d0887\"],[0.1111111111111111,\"#46039f\"],[0.2222222222222222,\"#7201a8\"],[0.3333333333333333,\"#9c179e\"],[0.4444444444444444,\"#bd3786\"],[0.5555555555555556,\"#d8576b\"],[0.6666666666666666,\"#ed7953\"],[0.7777777777777778,\"#fb9f3a\"],[0.8888888888888888,\"#fdca26\"],[1.0,\"#f0f921\"]],\"type\":\"histogram2d\"}],\"histogram2dcontour\":[{\"colorbar\":{\"outlinewidth\":0,\"ticks\":\"\"},\"colorscale\":[[0.0,\"#0d0887\"],[0.1111111111111111,\"#46039f\"],[0.2222222222222222,\"#7201a8\"],[0.3333333333333333,\"#9c179e\"],[0.4444444444444444,\"#bd3786\"],[0.5555555555555556,\"#d8576b\"],[0.6666666666666666,\"#ed7953\"],[0.7777777777777778,\"#fb9f3a\"],[0.8888888888888888,\"#fdca26\"],[1.0,\"#f0f921\"]],\"type\":\"histogram2dcontour\"}],\"mesh3d\":[{\"colorbar\":{\"outlinewidth\":0,\"ticks\":\"\"},\"type\":\"mesh3d\"}],\"parcoords\":[{\"line\":{\"colorbar\":{\"outlinewidth\":0,\"ticks\":\"\"}},\"type\":\"parcoords\"}],\"pie\":[{\"automargin\":true,\"type\":\"pie\"}],\"scatter\":[{\"marker\":{\"colorbar\":{\"outlinewidth\":0,\"ticks\":\"\"}},\"type\":\"scatter\"}],\"scatter3d\":[{\"line\":{\"colorbar\":{\"outlinewidth\":0,\"ticks\":\"\"}},\"marker\":{\"colorbar\":{\"outlinewidth\":0,\"ticks\":\"\"}},\"type\":\"scatter3d\"}],\"scattercarpet\":[{\"marker\":{\"colorbar\":{\"outlinewidth\":0,\"ticks\":\"\"}},\"type\":\"scattercarpet\"}],\"scattergeo\":[{\"marker\":{\"colorbar\":{\"outlinewidth\":0,\"ticks\":\"\"}},\"type\":\"scattergeo\"}],\"scattergl\":[{\"marker\":{\"colorbar\":{\"outlinewidth\":0,\"ticks\":\"\"}},\"type\":\"scattergl\"}],\"scattermapbox\":[{\"marker\":{\"colorbar\":{\"outlinewidth\":0,\"ticks\":\"\"}},\"type\":\"scattermapbox\"}],\"scatterpolar\":[{\"marker\":{\"colorbar\":{\"outlinewidth\":0,\"ticks\":\"\"}},\"type\":\"scatterpolar\"}],\"scatterpolargl\":[{\"marker\":{\"colorbar\":{\"outlinewidth\":0,\"ticks\":\"\"}},\"type\":\"scatterpolargl\"}],\"scatterternary\":[{\"marker\":{\"colorbar\":{\"outlinewidth\":0,\"ticks\":\"\"}},\"type\":\"scatterternary\"}],\"surface\":[{\"colorbar\":{\"outlinewidth\":0,\"ticks\":\"\"},\"colorscale\":[[0.0,\"#0d0887\"],[0.1111111111111111,\"#46039f\"],[0.2222222222222222,\"#7201a8\"],[0.3333333333333333,\"#9c179e\"],[0.4444444444444444,\"#bd3786\"],[0.5555555555555556,\"#d8576b\"],[0.6666666666666666,\"#ed7953\"],[0.7777777777777778,\"#fb9f3a\"],[0.8888888888888888,\"#fdca26\"],[1.0,\"#f0f921\"]],\"type\":\"surface\"}],\"table\":[{\"cells\":{\"fill\":{\"color\":\"#EBF0F8\"},\"line\":{\"color\":\"white\"}},\"header\":{\"fill\":{\"color\":\"#C8D4E3\"},\"line\":{\"color\":\"white\"}},\"type\":\"table\"}]},\"layout\":{\"annotationdefaults\":{\"arrowcolor\":\"#2a3f5f\",\"arrowhead\":0,\"arrowwidth\":1},\"autotypenumbers\":\"strict\",\"coloraxis\":{\"colorbar\":{\"outlinewidth\":0,\"ticks\":\"\"}},\"colorscale\":{\"diverging\":[[0,\"#8e0152\"],[0.1,\"#c51b7d\"],[0.2,\"#de77ae\"],[0.3,\"#f1b6da\"],[0.4,\"#fde0ef\"],[0.5,\"#f7f7f7\"],[0.6,\"#e6f5d0\"],[0.7,\"#b8e186\"],[0.8,\"#7fbc41\"],[0.9,\"#4d9221\"],[1,\"#276419\"]],\"sequential\":[[0.0,\"#0d0887\"],[0.1111111111111111,\"#46039f\"],[0.2222222222222222,\"#7201a8\"],[0.3333333333333333,\"#9c179e\"],[0.4444444444444444,\"#bd3786\"],[0.5555555555555556,\"#d8576b\"],[0.6666666666666666,\"#ed7953\"],[0.7777777777777778,\"#fb9f3a\"],[0.8888888888888888,\"#fdca26\"],[1.0,\"#f0f921\"]],\"sequentialminus\":[[0.0,\"#0d0887\"],[0.1111111111111111,\"#46039f\"],[0.2222222222222222,\"#7201a8\"],[0.3333333333333333,\"#9c179e\"],[0.4444444444444444,\"#bd3786\"],[0.5555555555555556,\"#d8576b\"],[0.6666666666666666,\"#ed7953\"],[0.7777777777777778,\"#fb9f3a\"],[0.8888888888888888,\"#fdca26\"],[1.0,\"#f0f921\"]]},\"colorway\":[\"#636efa\",\"#EF553B\",\"#00cc96\",\"#ab63fa\",\"#FFA15A\",\"#19d3f3\",\"#FF6692\",\"#B6E880\",\"#FF97FF\",\"#FECB52\"],\"font\":{\"color\":\"#2a3f5f\"},\"geo\":{\"bgcolor\":\"white\",\"lakecolor\":\"white\",\"landcolor\":\"#E5ECF6\",\"showlakes\":true,\"showland\":true,\"subunitcolor\":\"white\"},\"hoverlabel\":{\"align\":\"left\"},\"hovermode\":\"closest\",\"mapbox\":{\"style\":\"light\"},\"paper_bgcolor\":\"white\",\"plot_bgcolor\":\"#E5ECF6\",\"polar\":{\"angularaxis\":{\"gridcolor\":\"white\",\"linecolor\":\"white\",\"ticks\":\"\"},\"bgcolor\":\"#E5ECF6\",\"radialaxis\":{\"gridcolor\":\"white\",\"linecolor\":\"white\",\"ticks\":\"\"}},\"scene\":{\"xaxis\":{\"backgroundcolor\":\"#E5ECF6\",\"gridcolor\":\"white\",\"gridwidth\":2,\"linecolor\":\"white\",\"showbackground\":true,\"ticks\":\"\",\"zerolinecolor\":\"white\"},\"yaxis\":{\"backgroundcolor\":\"#E5ECF6\",\"gridcolor\":\"white\",\"gridwidth\":2,\"linecolor\":\"white\",\"showbackground\":true,\"ticks\":\"\",\"zerolinecolor\":\"white\"},\"zaxis\":{\"backgroundcolor\":\"#E5ECF6\",\"gridcolor\":\"white\",\"gridwidth\":2,\"linecolor\":\"white\",\"showbackground\":true,\"ticks\":\"\",\"zerolinecolor\":\"white\"}},\"shapedefaults\":{\"line\":{\"color\":\"#2a3f5f\"}},\"ternary\":{\"aaxis\":{\"gridcolor\":\"white\",\"linecolor\":\"white\",\"ticks\":\"\"},\"baxis\":{\"gridcolor\":\"white\",\"linecolor\":\"white\",\"ticks\":\"\"},\"bgcolor\":\"#E5ECF6\",\"caxis\":{\"gridcolor\":\"white\",\"linecolor\":\"white\",\"ticks\":\"\"}},\"title\":{\"x\":0.05},\"xaxis\":{\"automargin\":true,\"gridcolor\":\"white\",\"linecolor\":\"white\",\"ticks\":\"\",\"title\":{\"standoff\":15},\"zerolinecolor\":\"white\",\"zerolinewidth\":2},\"yaxis\":{\"automargin\":true,\"gridcolor\":\"white\",\"linecolor\":\"white\",\"ticks\":\"\",\"title\":{\"standoff\":15},\"zerolinecolor\":\"white\",\"zerolinewidth\":2}}},\"xaxis\":{\"anchor\":\"y\",\"domain\":[0.0,1.0],\"title\":{\"text\":\"month_year\"},\"categoryorder\":\"total ascending\",\"tickangle\":-90},\"yaxis\":{\"anchor\":\"x\",\"domain\":[0.0,1.0],\"title\":{\"text\":\"Message Count\"}},\"legend\":{\"title\":{\"text\":\"user\"},\"tracegroupgap\":0},\"title\":{\"text\":\"User Message Counts by Month and Year\"},\"barmode\":\"relative\"},                        {\"responsive\": true}                    ).then(function(){\n",
       "                            \n",
       "var gd = document.getElementById('d91a5510-72f9-4cac-bd43-1847518fa126');\n",
       "var x = new MutationObserver(function (mutations, observer) {{\n",
       "        var display = window.getComputedStyle(gd).display;\n",
       "        if (!display || display === 'none') {{\n",
       "            console.log([gd, 'removed!']);\n",
       "            Plotly.purge(gd);\n",
       "            observer.disconnect();\n",
       "        }}\n",
       "}});\n",
       "\n",
       "// Listen for the removal of the full notebook cells\n",
       "var notebookContainer = gd.closest('#notebook-container');\n",
       "if (notebookContainer) {{\n",
       "    x.observe(notebookContainer, {childList: true});\n",
       "}}\n",
       "\n",
       "// Listen for the clearing of the current output cell\n",
       "var outputEl = gd.closest('.output');\n",
       "if (outputEl) {{\n",
       "    x.observe(outputEl, {childList: true});\n",
       "}}\n",
       "\n",
       "                        })                };                });            </script>        </div>"
      ]
     },
     "metadata": {},
     "output_type": "display_data"
    }
   ],
   "source": [
    "grp_df=df.groupby(['user','year','month']).count()['message'].reset_index()\n",
    "time_list=[]\n",
    "for i in range(grp_df.shape[0]):\n",
    "    time_list.append(str(grp_df['month'][i])+\"-\"+str(grp_df['year'][i]))\n",
    "grp_df['month_year']=time_list\n",
    "\n",
    "fig = px.bar(grp_df, x='month_year', y='message', color='user',\n",
    "             labels={'message': 'Message Count'},\n",
    "             title='User Message Counts by Month and Year')\n",
    "\n",
    "# Set the order of months\n",
    "fig.update_layout(xaxis_categoryorder='total ascending')\n",
    "\n",
    "# Rotate x-axis tick labels vertically\n",
    "fig.update_layout(xaxis_tickangle=-90)\n",
    "\n",
    "# Show the plot\n",
    "fig.show()\n"
   ]
  },
  {
   "cell_type": "code",
   "execution_count": 160,
   "id": "7a1bb7f7",
   "metadata": {},
   "outputs": [
    {
     "name": "stderr",
     "output_type": "stream",
     "text": [
      "C:\\Users\\Suruchi\\AppData\\Local\\Temp\\ipykernel_30464\\3097456627.py:2: SettingWithCopyWarning:\n",
      "\n",
      "\n",
      "A value is trying to be set on a copy of a slice from a DataFrame.\n",
      "Try using .loc[row_indexer,col_indexer] = value instead\n",
      "\n",
      "See the caveats in the documentation: https://pandas.pydata.org/pandas-docs/stable/user_guide/indexing.html#returning-a-view-versus-a-copy\n",
      "\n"
     ]
    },
    {
     "data": {
      "application/vnd.plotly.v1+json": {
       "config": {
        "plotlyServerURL": "https://plot.ly"
       },
       "data": [
        {
         "hovertemplate": "user=Kunal Bhaii<br>dt=%{x}<br>Message Count=%{y}<extra></extra>",
         "legendgroup": "Kunal Bhaii",
         "line": {
          "color": "green",
          "dash": "solid"
         },
         "marker": {
          "symbol": "circle"
         },
         "mode": "lines",
         "name": "Kunal Bhaii",
         "orientation": "v",
         "showlegend": true,
         "type": "scatter",
         "x": [
          "2020-11-14",
          "2021-06-06",
          "2021-07-24",
          "2022-02-23",
          "2022-03-02",
          "2022-05-21",
          "2022-06-14",
          "2022-06-22",
          "2022-07-24",
          "2022-07-25",
          "2022-08-11",
          "2022-12-10",
          "2022-12-13",
          "2022-12-15",
          "2023-01-02",
          "2023-01-11",
          "2023-03-06",
          "2023-03-07",
          "2023-04-02",
          "2023-04-16",
          "2023-05-03",
          "2023-07-25"
         ],
         "xaxis": "x",
         "y": [
          1,
          1,
          1,
          4,
          1,
          2,
          5,
          1,
          1,
          3,
          1,
          2,
          4,
          8,
          2,
          1,
          4,
          4,
          5,
          1,
          1,
          2
         ],
         "yaxis": "y"
        },
        {
         "hovertemplate": "user=Suruchi Arora<br>dt=%{x}<br>Message Count=%{y}<extra></extra>",
         "legendgroup": "Suruchi Arora",
         "line": {
          "color": "orange",
          "dash": "solid"
         },
         "marker": {
          "symbol": "circle"
         },
         "mode": "lines",
         "name": "Suruchi Arora",
         "orientation": "v",
         "showlegend": true,
         "type": "scatter",
         "x": [
          "2020-11-14",
          "2021-01-19",
          "2021-03-05",
          "2021-06-06",
          "2021-07-25",
          "2022-02-18",
          "2022-02-23",
          "2022-02-27",
          "2022-03-02",
          "2022-03-18",
          "2022-06-14",
          "2022-07-24",
          "2022-07-25",
          "2022-08-10",
          "2022-08-11",
          "2022-12-10",
          "2022-12-12",
          "2022-12-13",
          "2022-12-15",
          "2023-01-02",
          "2023-01-11",
          "2023-03-05",
          "2023-03-06",
          "2023-03-07",
          "2023-04-02",
          "2023-04-16",
          "2023-05-03",
          "2023-05-09",
          "2023-06-29",
          "2023-07-12",
          "2023-07-25"
         ],
         "xaxis": "x",
         "y": [
          1,
          1,
          1,
          2,
          1,
          1,
          2,
          1,
          2,
          1,
          2,
          1,
          1,
          1,
          1,
          1,
          1,
          4,
          5,
          1,
          2,
          2,
          1,
          5,
          3,
          2,
          2,
          1,
          1,
          1,
          1
         ],
         "yaxis": "y"
        }
       ],
       "layout": {
        "legend": {
         "title": {
          "text": "user"
         },
         "tracegroupgap": 0
        },
        "template": {
         "data": {
          "bar": [
           {
            "error_x": {
             "color": "#2a3f5f"
            },
            "error_y": {
             "color": "#2a3f5f"
            },
            "marker": {
             "line": {
              "color": "#E5ECF6",
              "width": 0.5
             },
             "pattern": {
              "fillmode": "overlay",
              "size": 10,
              "solidity": 0.2
             }
            },
            "type": "bar"
           }
          ],
          "barpolar": [
           {
            "marker": {
             "line": {
              "color": "#E5ECF6",
              "width": 0.5
             },
             "pattern": {
              "fillmode": "overlay",
              "size": 10,
              "solidity": 0.2
             }
            },
            "type": "barpolar"
           }
          ],
          "carpet": [
           {
            "aaxis": {
             "endlinecolor": "#2a3f5f",
             "gridcolor": "white",
             "linecolor": "white",
             "minorgridcolor": "white",
             "startlinecolor": "#2a3f5f"
            },
            "baxis": {
             "endlinecolor": "#2a3f5f",
             "gridcolor": "white",
             "linecolor": "white",
             "minorgridcolor": "white",
             "startlinecolor": "#2a3f5f"
            },
            "type": "carpet"
           }
          ],
          "choropleth": [
           {
            "colorbar": {
             "outlinewidth": 0,
             "ticks": ""
            },
            "type": "choropleth"
           }
          ],
          "contour": [
           {
            "colorbar": {
             "outlinewidth": 0,
             "ticks": ""
            },
            "colorscale": [
             [
              0,
              "#0d0887"
             ],
             [
              0.1111111111111111,
              "#46039f"
             ],
             [
              0.2222222222222222,
              "#7201a8"
             ],
             [
              0.3333333333333333,
              "#9c179e"
             ],
             [
              0.4444444444444444,
              "#bd3786"
             ],
             [
              0.5555555555555556,
              "#d8576b"
             ],
             [
              0.6666666666666666,
              "#ed7953"
             ],
             [
              0.7777777777777778,
              "#fb9f3a"
             ],
             [
              0.8888888888888888,
              "#fdca26"
             ],
             [
              1,
              "#f0f921"
             ]
            ],
            "type": "contour"
           }
          ],
          "contourcarpet": [
           {
            "colorbar": {
             "outlinewidth": 0,
             "ticks": ""
            },
            "type": "contourcarpet"
           }
          ],
          "heatmap": [
           {
            "colorbar": {
             "outlinewidth": 0,
             "ticks": ""
            },
            "colorscale": [
             [
              0,
              "#0d0887"
             ],
             [
              0.1111111111111111,
              "#46039f"
             ],
             [
              0.2222222222222222,
              "#7201a8"
             ],
             [
              0.3333333333333333,
              "#9c179e"
             ],
             [
              0.4444444444444444,
              "#bd3786"
             ],
             [
              0.5555555555555556,
              "#d8576b"
             ],
             [
              0.6666666666666666,
              "#ed7953"
             ],
             [
              0.7777777777777778,
              "#fb9f3a"
             ],
             [
              0.8888888888888888,
              "#fdca26"
             ],
             [
              1,
              "#f0f921"
             ]
            ],
            "type": "heatmap"
           }
          ],
          "heatmapgl": [
           {
            "colorbar": {
             "outlinewidth": 0,
             "ticks": ""
            },
            "colorscale": [
             [
              0,
              "#0d0887"
             ],
             [
              0.1111111111111111,
              "#46039f"
             ],
             [
              0.2222222222222222,
              "#7201a8"
             ],
             [
              0.3333333333333333,
              "#9c179e"
             ],
             [
              0.4444444444444444,
              "#bd3786"
             ],
             [
              0.5555555555555556,
              "#d8576b"
             ],
             [
              0.6666666666666666,
              "#ed7953"
             ],
             [
              0.7777777777777778,
              "#fb9f3a"
             ],
             [
              0.8888888888888888,
              "#fdca26"
             ],
             [
              1,
              "#f0f921"
             ]
            ],
            "type": "heatmapgl"
           }
          ],
          "histogram": [
           {
            "marker": {
             "pattern": {
              "fillmode": "overlay",
              "size": 10,
              "solidity": 0.2
             }
            },
            "type": "histogram"
           }
          ],
          "histogram2d": [
           {
            "colorbar": {
             "outlinewidth": 0,
             "ticks": ""
            },
            "colorscale": [
             [
              0,
              "#0d0887"
             ],
             [
              0.1111111111111111,
              "#46039f"
             ],
             [
              0.2222222222222222,
              "#7201a8"
             ],
             [
              0.3333333333333333,
              "#9c179e"
             ],
             [
              0.4444444444444444,
              "#bd3786"
             ],
             [
              0.5555555555555556,
              "#d8576b"
             ],
             [
              0.6666666666666666,
              "#ed7953"
             ],
             [
              0.7777777777777778,
              "#fb9f3a"
             ],
             [
              0.8888888888888888,
              "#fdca26"
             ],
             [
              1,
              "#f0f921"
             ]
            ],
            "type": "histogram2d"
           }
          ],
          "histogram2dcontour": [
           {
            "colorbar": {
             "outlinewidth": 0,
             "ticks": ""
            },
            "colorscale": [
             [
              0,
              "#0d0887"
             ],
             [
              0.1111111111111111,
              "#46039f"
             ],
             [
              0.2222222222222222,
              "#7201a8"
             ],
             [
              0.3333333333333333,
              "#9c179e"
             ],
             [
              0.4444444444444444,
              "#bd3786"
             ],
             [
              0.5555555555555556,
              "#d8576b"
             ],
             [
              0.6666666666666666,
              "#ed7953"
             ],
             [
              0.7777777777777778,
              "#fb9f3a"
             ],
             [
              0.8888888888888888,
              "#fdca26"
             ],
             [
              1,
              "#f0f921"
             ]
            ],
            "type": "histogram2dcontour"
           }
          ],
          "mesh3d": [
           {
            "colorbar": {
             "outlinewidth": 0,
             "ticks": ""
            },
            "type": "mesh3d"
           }
          ],
          "parcoords": [
           {
            "line": {
             "colorbar": {
              "outlinewidth": 0,
              "ticks": ""
             }
            },
            "type": "parcoords"
           }
          ],
          "pie": [
           {
            "automargin": true,
            "type": "pie"
           }
          ],
          "scatter": [
           {
            "marker": {
             "colorbar": {
              "outlinewidth": 0,
              "ticks": ""
             }
            },
            "type": "scatter"
           }
          ],
          "scatter3d": [
           {
            "line": {
             "colorbar": {
              "outlinewidth": 0,
              "ticks": ""
             }
            },
            "marker": {
             "colorbar": {
              "outlinewidth": 0,
              "ticks": ""
             }
            },
            "type": "scatter3d"
           }
          ],
          "scattercarpet": [
           {
            "marker": {
             "colorbar": {
              "outlinewidth": 0,
              "ticks": ""
             }
            },
            "type": "scattercarpet"
           }
          ],
          "scattergeo": [
           {
            "marker": {
             "colorbar": {
              "outlinewidth": 0,
              "ticks": ""
             }
            },
            "type": "scattergeo"
           }
          ],
          "scattergl": [
           {
            "marker": {
             "colorbar": {
              "outlinewidth": 0,
              "ticks": ""
             }
            },
            "type": "scattergl"
           }
          ],
          "scattermapbox": [
           {
            "marker": {
             "colorbar": {
              "outlinewidth": 0,
              "ticks": ""
             }
            },
            "type": "scattermapbox"
           }
          ],
          "scatterpolar": [
           {
            "marker": {
             "colorbar": {
              "outlinewidth": 0,
              "ticks": ""
             }
            },
            "type": "scatterpolar"
           }
          ],
          "scatterpolargl": [
           {
            "marker": {
             "colorbar": {
              "outlinewidth": 0,
              "ticks": ""
             }
            },
            "type": "scatterpolargl"
           }
          ],
          "scatterternary": [
           {
            "marker": {
             "colorbar": {
              "outlinewidth": 0,
              "ticks": ""
             }
            },
            "type": "scatterternary"
           }
          ],
          "surface": [
           {
            "colorbar": {
             "outlinewidth": 0,
             "ticks": ""
            },
            "colorscale": [
             [
              0,
              "#0d0887"
             ],
             [
              0.1111111111111111,
              "#46039f"
             ],
             [
              0.2222222222222222,
              "#7201a8"
             ],
             [
              0.3333333333333333,
              "#9c179e"
             ],
             [
              0.4444444444444444,
              "#bd3786"
             ],
             [
              0.5555555555555556,
              "#d8576b"
             ],
             [
              0.6666666666666666,
              "#ed7953"
             ],
             [
              0.7777777777777778,
              "#fb9f3a"
             ],
             [
              0.8888888888888888,
              "#fdca26"
             ],
             [
              1,
              "#f0f921"
             ]
            ],
            "type": "surface"
           }
          ],
          "table": [
           {
            "cells": {
             "fill": {
              "color": "#EBF0F8"
             },
             "line": {
              "color": "white"
             }
            },
            "header": {
             "fill": {
              "color": "#C8D4E3"
             },
             "line": {
              "color": "white"
             }
            },
            "type": "table"
           }
          ]
         },
         "layout": {
          "annotationdefaults": {
           "arrowcolor": "#2a3f5f",
           "arrowhead": 0,
           "arrowwidth": 1
          },
          "autotypenumbers": "strict",
          "coloraxis": {
           "colorbar": {
            "outlinewidth": 0,
            "ticks": ""
           }
          },
          "colorscale": {
           "diverging": [
            [
             0,
             "#8e0152"
            ],
            [
             0.1,
             "#c51b7d"
            ],
            [
             0.2,
             "#de77ae"
            ],
            [
             0.3,
             "#f1b6da"
            ],
            [
             0.4,
             "#fde0ef"
            ],
            [
             0.5,
             "#f7f7f7"
            ],
            [
             0.6,
             "#e6f5d0"
            ],
            [
             0.7,
             "#b8e186"
            ],
            [
             0.8,
             "#7fbc41"
            ],
            [
             0.9,
             "#4d9221"
            ],
            [
             1,
             "#276419"
            ]
           ],
           "sequential": [
            [
             0,
             "#0d0887"
            ],
            [
             0.1111111111111111,
             "#46039f"
            ],
            [
             0.2222222222222222,
             "#7201a8"
            ],
            [
             0.3333333333333333,
             "#9c179e"
            ],
            [
             0.4444444444444444,
             "#bd3786"
            ],
            [
             0.5555555555555556,
             "#d8576b"
            ],
            [
             0.6666666666666666,
             "#ed7953"
            ],
            [
             0.7777777777777778,
             "#fb9f3a"
            ],
            [
             0.8888888888888888,
             "#fdca26"
            ],
            [
             1,
             "#f0f921"
            ]
           ],
           "sequentialminus": [
            [
             0,
             "#0d0887"
            ],
            [
             0.1111111111111111,
             "#46039f"
            ],
            [
             0.2222222222222222,
             "#7201a8"
            ],
            [
             0.3333333333333333,
             "#9c179e"
            ],
            [
             0.4444444444444444,
             "#bd3786"
            ],
            [
             0.5555555555555556,
             "#d8576b"
            ],
            [
             0.6666666666666666,
             "#ed7953"
            ],
            [
             0.7777777777777778,
             "#fb9f3a"
            ],
            [
             0.8888888888888888,
             "#fdca26"
            ],
            [
             1,
             "#f0f921"
            ]
           ]
          },
          "colorway": [
           "#636efa",
           "#EF553B",
           "#00cc96",
           "#ab63fa",
           "#FFA15A",
           "#19d3f3",
           "#FF6692",
           "#B6E880",
           "#FF97FF",
           "#FECB52"
          ],
          "font": {
           "color": "#2a3f5f"
          },
          "geo": {
           "bgcolor": "white",
           "lakecolor": "white",
           "landcolor": "#E5ECF6",
           "showlakes": true,
           "showland": true,
           "subunitcolor": "white"
          },
          "hoverlabel": {
           "align": "left"
          },
          "hovermode": "closest",
          "mapbox": {
           "style": "light"
          },
          "paper_bgcolor": "white",
          "plot_bgcolor": "#E5ECF6",
          "polar": {
           "angularaxis": {
            "gridcolor": "white",
            "linecolor": "white",
            "ticks": ""
           },
           "bgcolor": "#E5ECF6",
           "radialaxis": {
            "gridcolor": "white",
            "linecolor": "white",
            "ticks": ""
           }
          },
          "scene": {
           "xaxis": {
            "backgroundcolor": "#E5ECF6",
            "gridcolor": "white",
            "gridwidth": 2,
            "linecolor": "white",
            "showbackground": true,
            "ticks": "",
            "zerolinecolor": "white"
           },
           "yaxis": {
            "backgroundcolor": "#E5ECF6",
            "gridcolor": "white",
            "gridwidth": 2,
            "linecolor": "white",
            "showbackground": true,
            "ticks": "",
            "zerolinecolor": "white"
           },
           "zaxis": {
            "backgroundcolor": "#E5ECF6",
            "gridcolor": "white",
            "gridwidth": 2,
            "linecolor": "white",
            "showbackground": true,
            "ticks": "",
            "zerolinecolor": "white"
           }
          },
          "shapedefaults": {
           "line": {
            "color": "#2a3f5f"
           }
          },
          "ternary": {
           "aaxis": {
            "gridcolor": "white",
            "linecolor": "white",
            "ticks": ""
           },
           "baxis": {
            "gridcolor": "white",
            "linecolor": "white",
            "ticks": ""
           },
           "bgcolor": "#E5ECF6",
           "caxis": {
            "gridcolor": "white",
            "linecolor": "white",
            "ticks": ""
           }
          },
          "title": {
           "x": 0.05
          },
          "xaxis": {
           "automargin": true,
           "gridcolor": "white",
           "linecolor": "white",
           "ticks": "",
           "title": {
            "standoff": 15
           },
           "zerolinecolor": "white",
           "zerolinewidth": 2
          },
          "yaxis": {
           "automargin": true,
           "gridcolor": "white",
           "linecolor": "white",
           "ticks": "",
           "title": {
            "standoff": 15
           },
           "zerolinecolor": "white",
           "zerolinewidth": 2
          }
         }
        },
        "title": {
         "text": "Daily Message Counts by User"
        },
        "xaxis": {
         "anchor": "y",
         "domain": [
          0,
          1
         ],
         "title": {
          "text": "Date"
         }
        },
        "yaxis": {
         "anchor": "x",
         "domain": [
          0,
          1
         ],
         "title": {
          "text": "Message Count"
         }
        }
       }
      },
      "text/html": [
       "<div>                            <div id=\"4edbc104-30bf-4718-a9a6-e52062be6a68\" class=\"plotly-graph-div\" style=\"height:525px; width:100%;\"></div>            <script type=\"text/javascript\">                require([\"plotly\"], function(Plotly) {                    window.PLOTLYENV=window.PLOTLYENV || {};                                    if (document.getElementById(\"4edbc104-30bf-4718-a9a6-e52062be6a68\")) {                    Plotly.newPlot(                        \"4edbc104-30bf-4718-a9a6-e52062be6a68\",                        [{\"hovertemplate\":\"user=Kunal Bhaii<br>dt=%{x}<br>Message Count=%{y}<extra></extra>\",\"legendgroup\":\"Kunal Bhaii\",\"line\":{\"color\":\"green\",\"dash\":\"solid\"},\"marker\":{\"symbol\":\"circle\"},\"mode\":\"lines\",\"name\":\"Kunal Bhaii\",\"orientation\":\"v\",\"showlegend\":true,\"x\":[\"2020-11-14\",\"2021-06-06\",\"2021-07-24\",\"2022-02-23\",\"2022-03-02\",\"2022-05-21\",\"2022-06-14\",\"2022-06-22\",\"2022-07-24\",\"2022-07-25\",\"2022-08-11\",\"2022-12-10\",\"2022-12-13\",\"2022-12-15\",\"2023-01-02\",\"2023-01-11\",\"2023-03-06\",\"2023-03-07\",\"2023-04-02\",\"2023-04-16\",\"2023-05-03\",\"2023-07-25\"],\"xaxis\":\"x\",\"y\":[1,1,1,4,1,2,5,1,1,3,1,2,4,8,2,1,4,4,5,1,1,2],\"yaxis\":\"y\",\"type\":\"scatter\"},{\"hovertemplate\":\"user=Suruchi Arora<br>dt=%{x}<br>Message Count=%{y}<extra></extra>\",\"legendgroup\":\"Suruchi Arora\",\"line\":{\"color\":\"orange\",\"dash\":\"solid\"},\"marker\":{\"symbol\":\"circle\"},\"mode\":\"lines\",\"name\":\"Suruchi Arora\",\"orientation\":\"v\",\"showlegend\":true,\"x\":[\"2020-11-14\",\"2021-01-19\",\"2021-03-05\",\"2021-06-06\",\"2021-07-25\",\"2022-02-18\",\"2022-02-23\",\"2022-02-27\",\"2022-03-02\",\"2022-03-18\",\"2022-06-14\",\"2022-07-24\",\"2022-07-25\",\"2022-08-10\",\"2022-08-11\",\"2022-12-10\",\"2022-12-12\",\"2022-12-13\",\"2022-12-15\",\"2023-01-02\",\"2023-01-11\",\"2023-03-05\",\"2023-03-06\",\"2023-03-07\",\"2023-04-02\",\"2023-04-16\",\"2023-05-03\",\"2023-05-09\",\"2023-06-29\",\"2023-07-12\",\"2023-07-25\"],\"xaxis\":\"x\",\"y\":[1,1,1,2,1,1,2,1,2,1,2,1,1,1,1,1,1,4,5,1,2,2,1,5,3,2,2,1,1,1,1],\"yaxis\":\"y\",\"type\":\"scatter\"}],                        {\"template\":{\"data\":{\"bar\":[{\"error_x\":{\"color\":\"#2a3f5f\"},\"error_y\":{\"color\":\"#2a3f5f\"},\"marker\":{\"line\":{\"color\":\"#E5ECF6\",\"width\":0.5},\"pattern\":{\"fillmode\":\"overlay\",\"size\":10,\"solidity\":0.2}},\"type\":\"bar\"}],\"barpolar\":[{\"marker\":{\"line\":{\"color\":\"#E5ECF6\",\"width\":0.5},\"pattern\":{\"fillmode\":\"overlay\",\"size\":10,\"solidity\":0.2}},\"type\":\"barpolar\"}],\"carpet\":[{\"aaxis\":{\"endlinecolor\":\"#2a3f5f\",\"gridcolor\":\"white\",\"linecolor\":\"white\",\"minorgridcolor\":\"white\",\"startlinecolor\":\"#2a3f5f\"},\"baxis\":{\"endlinecolor\":\"#2a3f5f\",\"gridcolor\":\"white\",\"linecolor\":\"white\",\"minorgridcolor\":\"white\",\"startlinecolor\":\"#2a3f5f\"},\"type\":\"carpet\"}],\"choropleth\":[{\"colorbar\":{\"outlinewidth\":0,\"ticks\":\"\"},\"type\":\"choropleth\"}],\"contour\":[{\"colorbar\":{\"outlinewidth\":0,\"ticks\":\"\"},\"colorscale\":[[0.0,\"#0d0887\"],[0.1111111111111111,\"#46039f\"],[0.2222222222222222,\"#7201a8\"],[0.3333333333333333,\"#9c179e\"],[0.4444444444444444,\"#bd3786\"],[0.5555555555555556,\"#d8576b\"],[0.6666666666666666,\"#ed7953\"],[0.7777777777777778,\"#fb9f3a\"],[0.8888888888888888,\"#fdca26\"],[1.0,\"#f0f921\"]],\"type\":\"contour\"}],\"contourcarpet\":[{\"colorbar\":{\"outlinewidth\":0,\"ticks\":\"\"},\"type\":\"contourcarpet\"}],\"heatmap\":[{\"colorbar\":{\"outlinewidth\":0,\"ticks\":\"\"},\"colorscale\":[[0.0,\"#0d0887\"],[0.1111111111111111,\"#46039f\"],[0.2222222222222222,\"#7201a8\"],[0.3333333333333333,\"#9c179e\"],[0.4444444444444444,\"#bd3786\"],[0.5555555555555556,\"#d8576b\"],[0.6666666666666666,\"#ed7953\"],[0.7777777777777778,\"#fb9f3a\"],[0.8888888888888888,\"#fdca26\"],[1.0,\"#f0f921\"]],\"type\":\"heatmap\"}],\"heatmapgl\":[{\"colorbar\":{\"outlinewidth\":0,\"ticks\":\"\"},\"colorscale\":[[0.0,\"#0d0887\"],[0.1111111111111111,\"#46039f\"],[0.2222222222222222,\"#7201a8\"],[0.3333333333333333,\"#9c179e\"],[0.4444444444444444,\"#bd3786\"],[0.5555555555555556,\"#d8576b\"],[0.6666666666666666,\"#ed7953\"],[0.7777777777777778,\"#fb9f3a\"],[0.8888888888888888,\"#fdca26\"],[1.0,\"#f0f921\"]],\"type\":\"heatmapgl\"}],\"histogram\":[{\"marker\":{\"pattern\":{\"fillmode\":\"overlay\",\"size\":10,\"solidity\":0.2}},\"type\":\"histogram\"}],\"histogram2d\":[{\"colorbar\":{\"outlinewidth\":0,\"ticks\":\"\"},\"colorscale\":[[0.0,\"#0d0887\"],[0.1111111111111111,\"#46039f\"],[0.2222222222222222,\"#7201a8\"],[0.3333333333333333,\"#9c179e\"],[0.4444444444444444,\"#bd3786\"],[0.5555555555555556,\"#d8576b\"],[0.6666666666666666,\"#ed7953\"],[0.7777777777777778,\"#fb9f3a\"],[0.8888888888888888,\"#fdca26\"],[1.0,\"#f0f921\"]],\"type\":\"histogram2d\"}],\"histogram2dcontour\":[{\"colorbar\":{\"outlinewidth\":0,\"ticks\":\"\"},\"colorscale\":[[0.0,\"#0d0887\"],[0.1111111111111111,\"#46039f\"],[0.2222222222222222,\"#7201a8\"],[0.3333333333333333,\"#9c179e\"],[0.4444444444444444,\"#bd3786\"],[0.5555555555555556,\"#d8576b\"],[0.6666666666666666,\"#ed7953\"],[0.7777777777777778,\"#fb9f3a\"],[0.8888888888888888,\"#fdca26\"],[1.0,\"#f0f921\"]],\"type\":\"histogram2dcontour\"}],\"mesh3d\":[{\"colorbar\":{\"outlinewidth\":0,\"ticks\":\"\"},\"type\":\"mesh3d\"}],\"parcoords\":[{\"line\":{\"colorbar\":{\"outlinewidth\":0,\"ticks\":\"\"}},\"type\":\"parcoords\"}],\"pie\":[{\"automargin\":true,\"type\":\"pie\"}],\"scatter\":[{\"marker\":{\"colorbar\":{\"outlinewidth\":0,\"ticks\":\"\"}},\"type\":\"scatter\"}],\"scatter3d\":[{\"line\":{\"colorbar\":{\"outlinewidth\":0,\"ticks\":\"\"}},\"marker\":{\"colorbar\":{\"outlinewidth\":0,\"ticks\":\"\"}},\"type\":\"scatter3d\"}],\"scattercarpet\":[{\"marker\":{\"colorbar\":{\"outlinewidth\":0,\"ticks\":\"\"}},\"type\":\"scattercarpet\"}],\"scattergeo\":[{\"marker\":{\"colorbar\":{\"outlinewidth\":0,\"ticks\":\"\"}},\"type\":\"scattergeo\"}],\"scattergl\":[{\"marker\":{\"colorbar\":{\"outlinewidth\":0,\"ticks\":\"\"}},\"type\":\"scattergl\"}],\"scattermapbox\":[{\"marker\":{\"colorbar\":{\"outlinewidth\":0,\"ticks\":\"\"}},\"type\":\"scattermapbox\"}],\"scatterpolar\":[{\"marker\":{\"colorbar\":{\"outlinewidth\":0,\"ticks\":\"\"}},\"type\":\"scatterpolar\"}],\"scatterpolargl\":[{\"marker\":{\"colorbar\":{\"outlinewidth\":0,\"ticks\":\"\"}},\"type\":\"scatterpolargl\"}],\"scatterternary\":[{\"marker\":{\"colorbar\":{\"outlinewidth\":0,\"ticks\":\"\"}},\"type\":\"scatterternary\"}],\"surface\":[{\"colorbar\":{\"outlinewidth\":0,\"ticks\":\"\"},\"colorscale\":[[0.0,\"#0d0887\"],[0.1111111111111111,\"#46039f\"],[0.2222222222222222,\"#7201a8\"],[0.3333333333333333,\"#9c179e\"],[0.4444444444444444,\"#bd3786\"],[0.5555555555555556,\"#d8576b\"],[0.6666666666666666,\"#ed7953\"],[0.7777777777777778,\"#fb9f3a\"],[0.8888888888888888,\"#fdca26\"],[1.0,\"#f0f921\"]],\"type\":\"surface\"}],\"table\":[{\"cells\":{\"fill\":{\"color\":\"#EBF0F8\"},\"line\":{\"color\":\"white\"}},\"header\":{\"fill\":{\"color\":\"#C8D4E3\"},\"line\":{\"color\":\"white\"}},\"type\":\"table\"}]},\"layout\":{\"annotationdefaults\":{\"arrowcolor\":\"#2a3f5f\",\"arrowhead\":0,\"arrowwidth\":1},\"autotypenumbers\":\"strict\",\"coloraxis\":{\"colorbar\":{\"outlinewidth\":0,\"ticks\":\"\"}},\"colorscale\":{\"diverging\":[[0,\"#8e0152\"],[0.1,\"#c51b7d\"],[0.2,\"#de77ae\"],[0.3,\"#f1b6da\"],[0.4,\"#fde0ef\"],[0.5,\"#f7f7f7\"],[0.6,\"#e6f5d0\"],[0.7,\"#b8e186\"],[0.8,\"#7fbc41\"],[0.9,\"#4d9221\"],[1,\"#276419\"]],\"sequential\":[[0.0,\"#0d0887\"],[0.1111111111111111,\"#46039f\"],[0.2222222222222222,\"#7201a8\"],[0.3333333333333333,\"#9c179e\"],[0.4444444444444444,\"#bd3786\"],[0.5555555555555556,\"#d8576b\"],[0.6666666666666666,\"#ed7953\"],[0.7777777777777778,\"#fb9f3a\"],[0.8888888888888888,\"#fdca26\"],[1.0,\"#f0f921\"]],\"sequentialminus\":[[0.0,\"#0d0887\"],[0.1111111111111111,\"#46039f\"],[0.2222222222222222,\"#7201a8\"],[0.3333333333333333,\"#9c179e\"],[0.4444444444444444,\"#bd3786\"],[0.5555555555555556,\"#d8576b\"],[0.6666666666666666,\"#ed7953\"],[0.7777777777777778,\"#fb9f3a\"],[0.8888888888888888,\"#fdca26\"],[1.0,\"#f0f921\"]]},\"colorway\":[\"#636efa\",\"#EF553B\",\"#00cc96\",\"#ab63fa\",\"#FFA15A\",\"#19d3f3\",\"#FF6692\",\"#B6E880\",\"#FF97FF\",\"#FECB52\"],\"font\":{\"color\":\"#2a3f5f\"},\"geo\":{\"bgcolor\":\"white\",\"lakecolor\":\"white\",\"landcolor\":\"#E5ECF6\",\"showlakes\":true,\"showland\":true,\"subunitcolor\":\"white\"},\"hoverlabel\":{\"align\":\"left\"},\"hovermode\":\"closest\",\"mapbox\":{\"style\":\"light\"},\"paper_bgcolor\":\"white\",\"plot_bgcolor\":\"#E5ECF6\",\"polar\":{\"angularaxis\":{\"gridcolor\":\"white\",\"linecolor\":\"white\",\"ticks\":\"\"},\"bgcolor\":\"#E5ECF6\",\"radialaxis\":{\"gridcolor\":\"white\",\"linecolor\":\"white\",\"ticks\":\"\"}},\"scene\":{\"xaxis\":{\"backgroundcolor\":\"#E5ECF6\",\"gridcolor\":\"white\",\"gridwidth\":2,\"linecolor\":\"white\",\"showbackground\":true,\"ticks\":\"\",\"zerolinecolor\":\"white\"},\"yaxis\":{\"backgroundcolor\":\"#E5ECF6\",\"gridcolor\":\"white\",\"gridwidth\":2,\"linecolor\":\"white\",\"showbackground\":true,\"ticks\":\"\",\"zerolinecolor\":\"white\"},\"zaxis\":{\"backgroundcolor\":\"#E5ECF6\",\"gridcolor\":\"white\",\"gridwidth\":2,\"linecolor\":\"white\",\"showbackground\":true,\"ticks\":\"\",\"zerolinecolor\":\"white\"}},\"shapedefaults\":{\"line\":{\"color\":\"#2a3f5f\"}},\"ternary\":{\"aaxis\":{\"gridcolor\":\"white\",\"linecolor\":\"white\",\"ticks\":\"\"},\"baxis\":{\"gridcolor\":\"white\",\"linecolor\":\"white\",\"ticks\":\"\"},\"bgcolor\":\"#E5ECF6\",\"caxis\":{\"gridcolor\":\"white\",\"linecolor\":\"white\",\"ticks\":\"\"}},\"title\":{\"x\":0.05},\"xaxis\":{\"automargin\":true,\"gridcolor\":\"white\",\"linecolor\":\"white\",\"ticks\":\"\",\"title\":{\"standoff\":15},\"zerolinecolor\":\"white\",\"zerolinewidth\":2},\"yaxis\":{\"automargin\":true,\"gridcolor\":\"white\",\"linecolor\":\"white\",\"ticks\":\"\",\"title\":{\"standoff\":15},\"zerolinecolor\":\"white\",\"zerolinewidth\":2}}},\"xaxis\":{\"anchor\":\"y\",\"domain\":[0.0,1.0],\"title\":{\"text\":\"Date\"}},\"yaxis\":{\"anchor\":\"x\",\"domain\":[0.0,1.0],\"title\":{\"text\":\"Message Count\"}},\"legend\":{\"title\":{\"text\":\"user\"},\"tracegroupgap\":0},\"title\":{\"text\":\"Daily Message Counts by User\"}},                        {\"responsive\": true}                    ).then(function(){\n",
       "                            \n",
       "var gd = document.getElementById('4edbc104-30bf-4718-a9a6-e52062be6a68');\n",
       "var x = new MutationObserver(function (mutations, observer) {{\n",
       "        var display = window.getComputedStyle(gd).display;\n",
       "        if (!display || display === 'none') {{\n",
       "            console.log([gd, 'removed!']);\n",
       "            Plotly.purge(gd);\n",
       "            observer.disconnect();\n",
       "        }}\n",
       "}});\n",
       "\n",
       "// Listen for the removal of the full notebook cells\n",
       "var notebookContainer = gd.closest('#notebook-container');\n",
       "if (notebookContainer) {{\n",
       "    x.observe(notebookContainer, {childList: true});\n",
       "}}\n",
       "\n",
       "// Listen for the clearing of the current output cell\n",
       "var outputEl = gd.closest('.output');\n",
       "if (outputEl) {{\n",
       "    x.observe(outputEl, {childList: true});\n",
       "}}\n",
       "\n",
       "                        })                };                });            </script>        </div>"
      ]
     },
     "metadata": {},
     "output_type": "display_data"
    }
   ],
   "source": [
    "dt_grp=filtered_df\n",
    "dt_grp['dt']=filtered_df['message_date'].dt.date\n",
    "daily_message_count = dt_grp.groupby(['user', 'dt']).size().reset_index(name='message_count')\n",
    "\n",
    "custom_colors = ['green', 'orange', 'purple', 'cyan', 'magenta']\n",
    "\n",
    "fig = px.line(daily_message_count, x='dt', y='message_count', color='user',\n",
    "              color_discrete_sequence=custom_colors,\n",
    "              labels={'message_count': 'Message Count'},\n",
    "              title='Daily Message Counts by User')\n",
    "fig.update_layout(xaxis_title='Date')\n",
    "fig.show()"
   ]
  },
  {
   "cell_type": "code",
   "execution_count": 162,
   "id": "373faba7",
   "metadata": {},
   "outputs": [
    {
     "name": "stderr",
     "output_type": "stream",
     "text": [
      "C:\\Users\\Suruchi\\AppData\\Local\\Temp\\ipykernel_30464\\1966422656.py:1: SettingWithCopyWarning:\n",
      "\n",
      "\n",
      "A value is trying to be set on a copy of a slice from a DataFrame.\n",
      "Try using .loc[row_indexer,col_indexer] = value instead\n",
      "\n",
      "See the caveats in the documentation: https://pandas.pydata.org/pandas-docs/stable/user_guide/indexing.html#returning-a-view-versus-a-copy\n",
      "\n"
     ]
    },
    {
     "data": {
      "application/vnd.plotly.v1+json": {
       "config": {
        "plotlyServerURL": "https://plot.ly"
       },
       "data": [
        {
         "alignmentgroup": "True",
         "hovertemplate": "user=Kunal Bhaii<br>day_name=%{x}<br>Total Messages=%{y}<extra></extra>",
         "legendgroup": "Kunal Bhaii",
         "marker": {
          "color": "green",
          "pattern": {
           "shape": ""
          }
         },
         "name": "Kunal Bhaii",
         "offsetgroup": "Kunal Bhaii",
         "orientation": "v",
         "showlegend": true,
         "textposition": "auto",
         "type": "bar",
         "x": [
          "Monday",
          "Saturday",
          "Sunday",
          "Thursday",
          "Tuesday",
          "Wednesday"
         ],
         "xaxis": "x",
         "y": [
          9,
          6,
          8,
          9,
          15,
          8
         ],
         "yaxis": "y"
        },
        {
         "alignmentgroup": "True",
         "hovertemplate": "user=Suruchi Arora<br>day_name=%{x}<br>Total Messages=%{y}<extra></extra>",
         "legendgroup": "Suruchi Arora",
         "marker": {
          "color": "orange",
          "pattern": {
           "shape": ""
          }
         },
         "name": "Suruchi Arora",
         "offsetgroup": "Suruchi Arora",
         "orientation": "v",
         "showlegend": true,
         "textposition": "auto",
         "type": "bar",
         "x": [
          "Friday",
          "Monday",
          "Saturday",
          "Sunday",
          "Thursday",
          "Tuesday",
          "Wednesday"
         ],
         "xaxis": "x",
         "y": [
          3,
          4,
          2,
          12,
          7,
          14,
          10
         ],
         "yaxis": "y"
        }
       ],
       "layout": {
        "barmode": "relative",
        "legend": {
         "title": {
          "text": "user"
         },
         "tracegroupgap": 0
        },
        "template": {
         "data": {
          "bar": [
           {
            "error_x": {
             "color": "#2a3f5f"
            },
            "error_y": {
             "color": "#2a3f5f"
            },
            "marker": {
             "line": {
              "color": "#E5ECF6",
              "width": 0.5
             },
             "pattern": {
              "fillmode": "overlay",
              "size": 10,
              "solidity": 0.2
             }
            },
            "type": "bar"
           }
          ],
          "barpolar": [
           {
            "marker": {
             "line": {
              "color": "#E5ECF6",
              "width": 0.5
             },
             "pattern": {
              "fillmode": "overlay",
              "size": 10,
              "solidity": 0.2
             }
            },
            "type": "barpolar"
           }
          ],
          "carpet": [
           {
            "aaxis": {
             "endlinecolor": "#2a3f5f",
             "gridcolor": "white",
             "linecolor": "white",
             "minorgridcolor": "white",
             "startlinecolor": "#2a3f5f"
            },
            "baxis": {
             "endlinecolor": "#2a3f5f",
             "gridcolor": "white",
             "linecolor": "white",
             "minorgridcolor": "white",
             "startlinecolor": "#2a3f5f"
            },
            "type": "carpet"
           }
          ],
          "choropleth": [
           {
            "colorbar": {
             "outlinewidth": 0,
             "ticks": ""
            },
            "type": "choropleth"
           }
          ],
          "contour": [
           {
            "colorbar": {
             "outlinewidth": 0,
             "ticks": ""
            },
            "colorscale": [
             [
              0,
              "#0d0887"
             ],
             [
              0.1111111111111111,
              "#46039f"
             ],
             [
              0.2222222222222222,
              "#7201a8"
             ],
             [
              0.3333333333333333,
              "#9c179e"
             ],
             [
              0.4444444444444444,
              "#bd3786"
             ],
             [
              0.5555555555555556,
              "#d8576b"
             ],
             [
              0.6666666666666666,
              "#ed7953"
             ],
             [
              0.7777777777777778,
              "#fb9f3a"
             ],
             [
              0.8888888888888888,
              "#fdca26"
             ],
             [
              1,
              "#f0f921"
             ]
            ],
            "type": "contour"
           }
          ],
          "contourcarpet": [
           {
            "colorbar": {
             "outlinewidth": 0,
             "ticks": ""
            },
            "type": "contourcarpet"
           }
          ],
          "heatmap": [
           {
            "colorbar": {
             "outlinewidth": 0,
             "ticks": ""
            },
            "colorscale": [
             [
              0,
              "#0d0887"
             ],
             [
              0.1111111111111111,
              "#46039f"
             ],
             [
              0.2222222222222222,
              "#7201a8"
             ],
             [
              0.3333333333333333,
              "#9c179e"
             ],
             [
              0.4444444444444444,
              "#bd3786"
             ],
             [
              0.5555555555555556,
              "#d8576b"
             ],
             [
              0.6666666666666666,
              "#ed7953"
             ],
             [
              0.7777777777777778,
              "#fb9f3a"
             ],
             [
              0.8888888888888888,
              "#fdca26"
             ],
             [
              1,
              "#f0f921"
             ]
            ],
            "type": "heatmap"
           }
          ],
          "heatmapgl": [
           {
            "colorbar": {
             "outlinewidth": 0,
             "ticks": ""
            },
            "colorscale": [
             [
              0,
              "#0d0887"
             ],
             [
              0.1111111111111111,
              "#46039f"
             ],
             [
              0.2222222222222222,
              "#7201a8"
             ],
             [
              0.3333333333333333,
              "#9c179e"
             ],
             [
              0.4444444444444444,
              "#bd3786"
             ],
             [
              0.5555555555555556,
              "#d8576b"
             ],
             [
              0.6666666666666666,
              "#ed7953"
             ],
             [
              0.7777777777777778,
              "#fb9f3a"
             ],
             [
              0.8888888888888888,
              "#fdca26"
             ],
             [
              1,
              "#f0f921"
             ]
            ],
            "type": "heatmapgl"
           }
          ],
          "histogram": [
           {
            "marker": {
             "pattern": {
              "fillmode": "overlay",
              "size": 10,
              "solidity": 0.2
             }
            },
            "type": "histogram"
           }
          ],
          "histogram2d": [
           {
            "colorbar": {
             "outlinewidth": 0,
             "ticks": ""
            },
            "colorscale": [
             [
              0,
              "#0d0887"
             ],
             [
              0.1111111111111111,
              "#46039f"
             ],
             [
              0.2222222222222222,
              "#7201a8"
             ],
             [
              0.3333333333333333,
              "#9c179e"
             ],
             [
              0.4444444444444444,
              "#bd3786"
             ],
             [
              0.5555555555555556,
              "#d8576b"
             ],
             [
              0.6666666666666666,
              "#ed7953"
             ],
             [
              0.7777777777777778,
              "#fb9f3a"
             ],
             [
              0.8888888888888888,
              "#fdca26"
             ],
             [
              1,
              "#f0f921"
             ]
            ],
            "type": "histogram2d"
           }
          ],
          "histogram2dcontour": [
           {
            "colorbar": {
             "outlinewidth": 0,
             "ticks": ""
            },
            "colorscale": [
             [
              0,
              "#0d0887"
             ],
             [
              0.1111111111111111,
              "#46039f"
             ],
             [
              0.2222222222222222,
              "#7201a8"
             ],
             [
              0.3333333333333333,
              "#9c179e"
             ],
             [
              0.4444444444444444,
              "#bd3786"
             ],
             [
              0.5555555555555556,
              "#d8576b"
             ],
             [
              0.6666666666666666,
              "#ed7953"
             ],
             [
              0.7777777777777778,
              "#fb9f3a"
             ],
             [
              0.8888888888888888,
              "#fdca26"
             ],
             [
              1,
              "#f0f921"
             ]
            ],
            "type": "histogram2dcontour"
           }
          ],
          "mesh3d": [
           {
            "colorbar": {
             "outlinewidth": 0,
             "ticks": ""
            },
            "type": "mesh3d"
           }
          ],
          "parcoords": [
           {
            "line": {
             "colorbar": {
              "outlinewidth": 0,
              "ticks": ""
             }
            },
            "type": "parcoords"
           }
          ],
          "pie": [
           {
            "automargin": true,
            "type": "pie"
           }
          ],
          "scatter": [
           {
            "marker": {
             "colorbar": {
              "outlinewidth": 0,
              "ticks": ""
             }
            },
            "type": "scatter"
           }
          ],
          "scatter3d": [
           {
            "line": {
             "colorbar": {
              "outlinewidth": 0,
              "ticks": ""
             }
            },
            "marker": {
             "colorbar": {
              "outlinewidth": 0,
              "ticks": ""
             }
            },
            "type": "scatter3d"
           }
          ],
          "scattercarpet": [
           {
            "marker": {
             "colorbar": {
              "outlinewidth": 0,
              "ticks": ""
             }
            },
            "type": "scattercarpet"
           }
          ],
          "scattergeo": [
           {
            "marker": {
             "colorbar": {
              "outlinewidth": 0,
              "ticks": ""
             }
            },
            "type": "scattergeo"
           }
          ],
          "scattergl": [
           {
            "marker": {
             "colorbar": {
              "outlinewidth": 0,
              "ticks": ""
             }
            },
            "type": "scattergl"
           }
          ],
          "scattermapbox": [
           {
            "marker": {
             "colorbar": {
              "outlinewidth": 0,
              "ticks": ""
             }
            },
            "type": "scattermapbox"
           }
          ],
          "scatterpolar": [
           {
            "marker": {
             "colorbar": {
              "outlinewidth": 0,
              "ticks": ""
             }
            },
            "type": "scatterpolar"
           }
          ],
          "scatterpolargl": [
           {
            "marker": {
             "colorbar": {
              "outlinewidth": 0,
              "ticks": ""
             }
            },
            "type": "scatterpolargl"
           }
          ],
          "scatterternary": [
           {
            "marker": {
             "colorbar": {
              "outlinewidth": 0,
              "ticks": ""
             }
            },
            "type": "scatterternary"
           }
          ],
          "surface": [
           {
            "colorbar": {
             "outlinewidth": 0,
             "ticks": ""
            },
            "colorscale": [
             [
              0,
              "#0d0887"
             ],
             [
              0.1111111111111111,
              "#46039f"
             ],
             [
              0.2222222222222222,
              "#7201a8"
             ],
             [
              0.3333333333333333,
              "#9c179e"
             ],
             [
              0.4444444444444444,
              "#bd3786"
             ],
             [
              0.5555555555555556,
              "#d8576b"
             ],
             [
              0.6666666666666666,
              "#ed7953"
             ],
             [
              0.7777777777777778,
              "#fb9f3a"
             ],
             [
              0.8888888888888888,
              "#fdca26"
             ],
             [
              1,
              "#f0f921"
             ]
            ],
            "type": "surface"
           }
          ],
          "table": [
           {
            "cells": {
             "fill": {
              "color": "#EBF0F8"
             },
             "line": {
              "color": "white"
             }
            },
            "header": {
             "fill": {
              "color": "#C8D4E3"
             },
             "line": {
              "color": "white"
             }
            },
            "type": "table"
           }
          ]
         },
         "layout": {
          "annotationdefaults": {
           "arrowcolor": "#2a3f5f",
           "arrowhead": 0,
           "arrowwidth": 1
          },
          "autotypenumbers": "strict",
          "coloraxis": {
           "colorbar": {
            "outlinewidth": 0,
            "ticks": ""
           }
          },
          "colorscale": {
           "diverging": [
            [
             0,
             "#8e0152"
            ],
            [
             0.1,
             "#c51b7d"
            ],
            [
             0.2,
             "#de77ae"
            ],
            [
             0.3,
             "#f1b6da"
            ],
            [
             0.4,
             "#fde0ef"
            ],
            [
             0.5,
             "#f7f7f7"
            ],
            [
             0.6,
             "#e6f5d0"
            ],
            [
             0.7,
             "#b8e186"
            ],
            [
             0.8,
             "#7fbc41"
            ],
            [
             0.9,
             "#4d9221"
            ],
            [
             1,
             "#276419"
            ]
           ],
           "sequential": [
            [
             0,
             "#0d0887"
            ],
            [
             0.1111111111111111,
             "#46039f"
            ],
            [
             0.2222222222222222,
             "#7201a8"
            ],
            [
             0.3333333333333333,
             "#9c179e"
            ],
            [
             0.4444444444444444,
             "#bd3786"
            ],
            [
             0.5555555555555556,
             "#d8576b"
            ],
            [
             0.6666666666666666,
             "#ed7953"
            ],
            [
             0.7777777777777778,
             "#fb9f3a"
            ],
            [
             0.8888888888888888,
             "#fdca26"
            ],
            [
             1,
             "#f0f921"
            ]
           ],
           "sequentialminus": [
            [
             0,
             "#0d0887"
            ],
            [
             0.1111111111111111,
             "#46039f"
            ],
            [
             0.2222222222222222,
             "#7201a8"
            ],
            [
             0.3333333333333333,
             "#9c179e"
            ],
            [
             0.4444444444444444,
             "#bd3786"
            ],
            [
             0.5555555555555556,
             "#d8576b"
            ],
            [
             0.6666666666666666,
             "#ed7953"
            ],
            [
             0.7777777777777778,
             "#fb9f3a"
            ],
            [
             0.8888888888888888,
             "#fdca26"
            ],
            [
             1,
             "#f0f921"
            ]
           ]
          },
          "colorway": [
           "#636efa",
           "#EF553B",
           "#00cc96",
           "#ab63fa",
           "#FFA15A",
           "#19d3f3",
           "#FF6692",
           "#B6E880",
           "#FF97FF",
           "#FECB52"
          ],
          "font": {
           "color": "#2a3f5f"
          },
          "geo": {
           "bgcolor": "white",
           "lakecolor": "white",
           "landcolor": "#E5ECF6",
           "showlakes": true,
           "showland": true,
           "subunitcolor": "white"
          },
          "hoverlabel": {
           "align": "left"
          },
          "hovermode": "closest",
          "mapbox": {
           "style": "light"
          },
          "paper_bgcolor": "white",
          "plot_bgcolor": "#E5ECF6",
          "polar": {
           "angularaxis": {
            "gridcolor": "white",
            "linecolor": "white",
            "ticks": ""
           },
           "bgcolor": "#E5ECF6",
           "radialaxis": {
            "gridcolor": "white",
            "linecolor": "white",
            "ticks": ""
           }
          },
          "scene": {
           "xaxis": {
            "backgroundcolor": "#E5ECF6",
            "gridcolor": "white",
            "gridwidth": 2,
            "linecolor": "white",
            "showbackground": true,
            "ticks": "",
            "zerolinecolor": "white"
           },
           "yaxis": {
            "backgroundcolor": "#E5ECF6",
            "gridcolor": "white",
            "gridwidth": 2,
            "linecolor": "white",
            "showbackground": true,
            "ticks": "",
            "zerolinecolor": "white"
           },
           "zaxis": {
            "backgroundcolor": "#E5ECF6",
            "gridcolor": "white",
            "gridwidth": 2,
            "linecolor": "white",
            "showbackground": true,
            "ticks": "",
            "zerolinecolor": "white"
           }
          },
          "shapedefaults": {
           "line": {
            "color": "#2a3f5f"
           }
          },
          "ternary": {
           "aaxis": {
            "gridcolor": "white",
            "linecolor": "white",
            "ticks": ""
           },
           "baxis": {
            "gridcolor": "white",
            "linecolor": "white",
            "ticks": ""
           },
           "bgcolor": "#E5ECF6",
           "caxis": {
            "gridcolor": "white",
            "linecolor": "white",
            "ticks": ""
           }
          },
          "title": {
           "x": 0.05
          },
          "xaxis": {
           "automargin": true,
           "gridcolor": "white",
           "linecolor": "white",
           "ticks": "",
           "title": {
            "standoff": 15
           },
           "zerolinecolor": "white",
           "zerolinewidth": 2
          },
          "yaxis": {
           "automargin": true,
           "gridcolor": "white",
           "linecolor": "white",
           "ticks": "",
           "title": {
            "standoff": 15
           },
           "zerolinecolor": "white",
           "zerolinewidth": 2
          }
         }
        },
        "title": {
         "text": "Message Counts by Day of the Week for All Users"
        },
        "xaxis": {
         "anchor": "y",
         "domain": [
          0,
          1
         ],
         "title": {
          "text": "day_name"
         }
        },
        "yaxis": {
         "anchor": "x",
         "domain": [
          0,
          1
         ],
         "title": {
          "text": "Total Messages"
         }
        }
       }
      },
      "text/html": [
       "<div>                            <div id=\"1ef0b9b1-037b-4ddd-b7c5-1633eafbb367\" class=\"plotly-graph-div\" style=\"height:525px; width:100%;\"></div>            <script type=\"text/javascript\">                require([\"plotly\"], function(Plotly) {                    window.PLOTLYENV=window.PLOTLYENV || {};                                    if (document.getElementById(\"1ef0b9b1-037b-4ddd-b7c5-1633eafbb367\")) {                    Plotly.newPlot(                        \"1ef0b9b1-037b-4ddd-b7c5-1633eafbb367\",                        [{\"alignmentgroup\":\"True\",\"hovertemplate\":\"user=Kunal Bhaii<br>day_name=%{x}<br>Total Messages=%{y}<extra></extra>\",\"legendgroup\":\"Kunal Bhaii\",\"marker\":{\"color\":\"green\",\"pattern\":{\"shape\":\"\"}},\"name\":\"Kunal Bhaii\",\"offsetgroup\":\"Kunal Bhaii\",\"orientation\":\"v\",\"showlegend\":true,\"textposition\":\"auto\",\"x\":[\"Monday\",\"Saturday\",\"Sunday\",\"Thursday\",\"Tuesday\",\"Wednesday\"],\"xaxis\":\"x\",\"y\":[9,6,8,9,15,8],\"yaxis\":\"y\",\"type\":\"bar\"},{\"alignmentgroup\":\"True\",\"hovertemplate\":\"user=Suruchi Arora<br>day_name=%{x}<br>Total Messages=%{y}<extra></extra>\",\"legendgroup\":\"Suruchi Arora\",\"marker\":{\"color\":\"orange\",\"pattern\":{\"shape\":\"\"}},\"name\":\"Suruchi Arora\",\"offsetgroup\":\"Suruchi Arora\",\"orientation\":\"v\",\"showlegend\":true,\"textposition\":\"auto\",\"x\":[\"Friday\",\"Monday\",\"Saturday\",\"Sunday\",\"Thursday\",\"Tuesday\",\"Wednesday\"],\"xaxis\":\"x\",\"y\":[3,4,2,12,7,14,10],\"yaxis\":\"y\",\"type\":\"bar\"}],                        {\"template\":{\"data\":{\"bar\":[{\"error_x\":{\"color\":\"#2a3f5f\"},\"error_y\":{\"color\":\"#2a3f5f\"},\"marker\":{\"line\":{\"color\":\"#E5ECF6\",\"width\":0.5},\"pattern\":{\"fillmode\":\"overlay\",\"size\":10,\"solidity\":0.2}},\"type\":\"bar\"}],\"barpolar\":[{\"marker\":{\"line\":{\"color\":\"#E5ECF6\",\"width\":0.5},\"pattern\":{\"fillmode\":\"overlay\",\"size\":10,\"solidity\":0.2}},\"type\":\"barpolar\"}],\"carpet\":[{\"aaxis\":{\"endlinecolor\":\"#2a3f5f\",\"gridcolor\":\"white\",\"linecolor\":\"white\",\"minorgridcolor\":\"white\",\"startlinecolor\":\"#2a3f5f\"},\"baxis\":{\"endlinecolor\":\"#2a3f5f\",\"gridcolor\":\"white\",\"linecolor\":\"white\",\"minorgridcolor\":\"white\",\"startlinecolor\":\"#2a3f5f\"},\"type\":\"carpet\"}],\"choropleth\":[{\"colorbar\":{\"outlinewidth\":0,\"ticks\":\"\"},\"type\":\"choropleth\"}],\"contour\":[{\"colorbar\":{\"outlinewidth\":0,\"ticks\":\"\"},\"colorscale\":[[0.0,\"#0d0887\"],[0.1111111111111111,\"#46039f\"],[0.2222222222222222,\"#7201a8\"],[0.3333333333333333,\"#9c179e\"],[0.4444444444444444,\"#bd3786\"],[0.5555555555555556,\"#d8576b\"],[0.6666666666666666,\"#ed7953\"],[0.7777777777777778,\"#fb9f3a\"],[0.8888888888888888,\"#fdca26\"],[1.0,\"#f0f921\"]],\"type\":\"contour\"}],\"contourcarpet\":[{\"colorbar\":{\"outlinewidth\":0,\"ticks\":\"\"},\"type\":\"contourcarpet\"}],\"heatmap\":[{\"colorbar\":{\"outlinewidth\":0,\"ticks\":\"\"},\"colorscale\":[[0.0,\"#0d0887\"],[0.1111111111111111,\"#46039f\"],[0.2222222222222222,\"#7201a8\"],[0.3333333333333333,\"#9c179e\"],[0.4444444444444444,\"#bd3786\"],[0.5555555555555556,\"#d8576b\"],[0.6666666666666666,\"#ed7953\"],[0.7777777777777778,\"#fb9f3a\"],[0.8888888888888888,\"#fdca26\"],[1.0,\"#f0f921\"]],\"type\":\"heatmap\"}],\"heatmapgl\":[{\"colorbar\":{\"outlinewidth\":0,\"ticks\":\"\"},\"colorscale\":[[0.0,\"#0d0887\"],[0.1111111111111111,\"#46039f\"],[0.2222222222222222,\"#7201a8\"],[0.3333333333333333,\"#9c179e\"],[0.4444444444444444,\"#bd3786\"],[0.5555555555555556,\"#d8576b\"],[0.6666666666666666,\"#ed7953\"],[0.7777777777777778,\"#fb9f3a\"],[0.8888888888888888,\"#fdca26\"],[1.0,\"#f0f921\"]],\"type\":\"heatmapgl\"}],\"histogram\":[{\"marker\":{\"pattern\":{\"fillmode\":\"overlay\",\"size\":10,\"solidity\":0.2}},\"type\":\"histogram\"}],\"histogram2d\":[{\"colorbar\":{\"outlinewidth\":0,\"ticks\":\"\"},\"colorscale\":[[0.0,\"#0d0887\"],[0.1111111111111111,\"#46039f\"],[0.2222222222222222,\"#7201a8\"],[0.3333333333333333,\"#9c179e\"],[0.4444444444444444,\"#bd3786\"],[0.5555555555555556,\"#d8576b\"],[0.6666666666666666,\"#ed7953\"],[0.7777777777777778,\"#fb9f3a\"],[0.8888888888888888,\"#fdca26\"],[1.0,\"#f0f921\"]],\"type\":\"histogram2d\"}],\"histogram2dcontour\":[{\"colorbar\":{\"outlinewidth\":0,\"ticks\":\"\"},\"colorscale\":[[0.0,\"#0d0887\"],[0.1111111111111111,\"#46039f\"],[0.2222222222222222,\"#7201a8\"],[0.3333333333333333,\"#9c179e\"],[0.4444444444444444,\"#bd3786\"],[0.5555555555555556,\"#d8576b\"],[0.6666666666666666,\"#ed7953\"],[0.7777777777777778,\"#fb9f3a\"],[0.8888888888888888,\"#fdca26\"],[1.0,\"#f0f921\"]],\"type\":\"histogram2dcontour\"}],\"mesh3d\":[{\"colorbar\":{\"outlinewidth\":0,\"ticks\":\"\"},\"type\":\"mesh3d\"}],\"parcoords\":[{\"line\":{\"colorbar\":{\"outlinewidth\":0,\"ticks\":\"\"}},\"type\":\"parcoords\"}],\"pie\":[{\"automargin\":true,\"type\":\"pie\"}],\"scatter\":[{\"marker\":{\"colorbar\":{\"outlinewidth\":0,\"ticks\":\"\"}},\"type\":\"scatter\"}],\"scatter3d\":[{\"line\":{\"colorbar\":{\"outlinewidth\":0,\"ticks\":\"\"}},\"marker\":{\"colorbar\":{\"outlinewidth\":0,\"ticks\":\"\"}},\"type\":\"scatter3d\"}],\"scattercarpet\":[{\"marker\":{\"colorbar\":{\"outlinewidth\":0,\"ticks\":\"\"}},\"type\":\"scattercarpet\"}],\"scattergeo\":[{\"marker\":{\"colorbar\":{\"outlinewidth\":0,\"ticks\":\"\"}},\"type\":\"scattergeo\"}],\"scattergl\":[{\"marker\":{\"colorbar\":{\"outlinewidth\":0,\"ticks\":\"\"}},\"type\":\"scattergl\"}],\"scattermapbox\":[{\"marker\":{\"colorbar\":{\"outlinewidth\":0,\"ticks\":\"\"}},\"type\":\"scattermapbox\"}],\"scatterpolar\":[{\"marker\":{\"colorbar\":{\"outlinewidth\":0,\"ticks\":\"\"}},\"type\":\"scatterpolar\"}],\"scatterpolargl\":[{\"marker\":{\"colorbar\":{\"outlinewidth\":0,\"ticks\":\"\"}},\"type\":\"scatterpolargl\"}],\"scatterternary\":[{\"marker\":{\"colorbar\":{\"outlinewidth\":0,\"ticks\":\"\"}},\"type\":\"scatterternary\"}],\"surface\":[{\"colorbar\":{\"outlinewidth\":0,\"ticks\":\"\"},\"colorscale\":[[0.0,\"#0d0887\"],[0.1111111111111111,\"#46039f\"],[0.2222222222222222,\"#7201a8\"],[0.3333333333333333,\"#9c179e\"],[0.4444444444444444,\"#bd3786\"],[0.5555555555555556,\"#d8576b\"],[0.6666666666666666,\"#ed7953\"],[0.7777777777777778,\"#fb9f3a\"],[0.8888888888888888,\"#fdca26\"],[1.0,\"#f0f921\"]],\"type\":\"surface\"}],\"table\":[{\"cells\":{\"fill\":{\"color\":\"#EBF0F8\"},\"line\":{\"color\":\"white\"}},\"header\":{\"fill\":{\"color\":\"#C8D4E3\"},\"line\":{\"color\":\"white\"}},\"type\":\"table\"}]},\"layout\":{\"annotationdefaults\":{\"arrowcolor\":\"#2a3f5f\",\"arrowhead\":0,\"arrowwidth\":1},\"autotypenumbers\":\"strict\",\"coloraxis\":{\"colorbar\":{\"outlinewidth\":0,\"ticks\":\"\"}},\"colorscale\":{\"diverging\":[[0,\"#8e0152\"],[0.1,\"#c51b7d\"],[0.2,\"#de77ae\"],[0.3,\"#f1b6da\"],[0.4,\"#fde0ef\"],[0.5,\"#f7f7f7\"],[0.6,\"#e6f5d0\"],[0.7,\"#b8e186\"],[0.8,\"#7fbc41\"],[0.9,\"#4d9221\"],[1,\"#276419\"]],\"sequential\":[[0.0,\"#0d0887\"],[0.1111111111111111,\"#46039f\"],[0.2222222222222222,\"#7201a8\"],[0.3333333333333333,\"#9c179e\"],[0.4444444444444444,\"#bd3786\"],[0.5555555555555556,\"#d8576b\"],[0.6666666666666666,\"#ed7953\"],[0.7777777777777778,\"#fb9f3a\"],[0.8888888888888888,\"#fdca26\"],[1.0,\"#f0f921\"]],\"sequentialminus\":[[0.0,\"#0d0887\"],[0.1111111111111111,\"#46039f\"],[0.2222222222222222,\"#7201a8\"],[0.3333333333333333,\"#9c179e\"],[0.4444444444444444,\"#bd3786\"],[0.5555555555555556,\"#d8576b\"],[0.6666666666666666,\"#ed7953\"],[0.7777777777777778,\"#fb9f3a\"],[0.8888888888888888,\"#fdca26\"],[1.0,\"#f0f921\"]]},\"colorway\":[\"#636efa\",\"#EF553B\",\"#00cc96\",\"#ab63fa\",\"#FFA15A\",\"#19d3f3\",\"#FF6692\",\"#B6E880\",\"#FF97FF\",\"#FECB52\"],\"font\":{\"color\":\"#2a3f5f\"},\"geo\":{\"bgcolor\":\"white\",\"lakecolor\":\"white\",\"landcolor\":\"#E5ECF6\",\"showlakes\":true,\"showland\":true,\"subunitcolor\":\"white\"},\"hoverlabel\":{\"align\":\"left\"},\"hovermode\":\"closest\",\"mapbox\":{\"style\":\"light\"},\"paper_bgcolor\":\"white\",\"plot_bgcolor\":\"#E5ECF6\",\"polar\":{\"angularaxis\":{\"gridcolor\":\"white\",\"linecolor\":\"white\",\"ticks\":\"\"},\"bgcolor\":\"#E5ECF6\",\"radialaxis\":{\"gridcolor\":\"white\",\"linecolor\":\"white\",\"ticks\":\"\"}},\"scene\":{\"xaxis\":{\"backgroundcolor\":\"#E5ECF6\",\"gridcolor\":\"white\",\"gridwidth\":2,\"linecolor\":\"white\",\"showbackground\":true,\"ticks\":\"\",\"zerolinecolor\":\"white\"},\"yaxis\":{\"backgroundcolor\":\"#E5ECF6\",\"gridcolor\":\"white\",\"gridwidth\":2,\"linecolor\":\"white\",\"showbackground\":true,\"ticks\":\"\",\"zerolinecolor\":\"white\"},\"zaxis\":{\"backgroundcolor\":\"#E5ECF6\",\"gridcolor\":\"white\",\"gridwidth\":2,\"linecolor\":\"white\",\"showbackground\":true,\"ticks\":\"\",\"zerolinecolor\":\"white\"}},\"shapedefaults\":{\"line\":{\"color\":\"#2a3f5f\"}},\"ternary\":{\"aaxis\":{\"gridcolor\":\"white\",\"linecolor\":\"white\",\"ticks\":\"\"},\"baxis\":{\"gridcolor\":\"white\",\"linecolor\":\"white\",\"ticks\":\"\"},\"bgcolor\":\"#E5ECF6\",\"caxis\":{\"gridcolor\":\"white\",\"linecolor\":\"white\",\"ticks\":\"\"}},\"title\":{\"x\":0.05},\"xaxis\":{\"automargin\":true,\"gridcolor\":\"white\",\"linecolor\":\"white\",\"ticks\":\"\",\"title\":{\"standoff\":15},\"zerolinecolor\":\"white\",\"zerolinewidth\":2},\"yaxis\":{\"automargin\":true,\"gridcolor\":\"white\",\"linecolor\":\"white\",\"ticks\":\"\",\"title\":{\"standoff\":15},\"zerolinecolor\":\"white\",\"zerolinewidth\":2}}},\"xaxis\":{\"anchor\":\"y\",\"domain\":[0.0,1.0],\"title\":{\"text\":\"day_name\"}},\"yaxis\":{\"anchor\":\"x\",\"domain\":[0.0,1.0],\"title\":{\"text\":\"Total Messages\"}},\"legend\":{\"title\":{\"text\":\"user\"},\"tracegroupgap\":0},\"title\":{\"text\":\"Message Counts by Day of the Week for All Users\"},\"barmode\":\"relative\"},                        {\"responsive\": true}                    ).then(function(){\n",
       "                            \n",
       "var gd = document.getElementById('1ef0b9b1-037b-4ddd-b7c5-1633eafbb367');\n",
       "var x = new MutationObserver(function (mutations, observer) {{\n",
       "        var display = window.getComputedStyle(gd).display;\n",
       "        if (!display || display === 'none') {{\n",
       "            console.log([gd, 'removed!']);\n",
       "            Plotly.purge(gd);\n",
       "            observer.disconnect();\n",
       "        }}\n",
       "}});\n",
       "\n",
       "// Listen for the removal of the full notebook cells\n",
       "var notebookContainer = gd.closest('#notebook-container');\n",
       "if (notebookContainer) {{\n",
       "    x.observe(notebookContainer, {childList: true});\n",
       "}}\n",
       "\n",
       "// Listen for the clearing of the current output cell\n",
       "var outputEl = gd.closest('.output');\n",
       "if (outputEl) {{\n",
       "    x.observe(outputEl, {childList: true});\n",
       "}}\n",
       "\n",
       "                        })                };                });            </script>        </div>"
      ]
     },
     "metadata": {},
     "output_type": "display_data"
    }
   ],
   "source": [
    "filtered_df['day_name'] = filtered_df['message_date'].dt.day_name()\n",
    "bd = filtered_df.groupby(['user', 'day_name']).size().reset_index(name='total_messages')\n",
    "custom_colors = ['green', 'orange', 'purple', 'cyan', 'magenta']\n",
    "\n",
    "# Create a single bar chart for all users, showing the message counts for each day of the week\n",
    "fig = px.bar(bd, x='day_name', y='total_messages', color='user',\n",
    "            color_discrete_sequence=custom_colors,\n",
    "\n",
    "             labels={'total_messages': 'Total Messages'},\n",
    "             title='Message Counts by Day of the Week for All Users')\n",
    "\n",
    "fig.show()\n"
   ]
  },
  {
   "cell_type": "code",
   "execution_count": 159,
   "id": "fd3e79e1",
   "metadata": {},
   "outputs": [
    {
     "data": {
      "text/html": [
       "<div>\n",
       "<style scoped>\n",
       "    .dataframe tbody tr th:only-of-type {\n",
       "        vertical-align: middle;\n",
       "    }\n",
       "\n",
       "    .dataframe tbody tr th {\n",
       "        vertical-align: top;\n",
       "    }\n",
       "\n",
       "    .dataframe thead th {\n",
       "        text-align: right;\n",
       "    }\n",
       "</style>\n",
       "<table border=\"1\" class=\"dataframe\">\n",
       "  <thead>\n",
       "    <tr style=\"text-align: right;\">\n",
       "      <th></th>\n",
       "      <th>User</th>\n",
       "      <th>Average Message Length</th>\n",
       "    </tr>\n",
       "  </thead>\n",
       "  <tbody>\n",
       "    <tr>\n",
       "      <th>0</th>\n",
       "      <td>Kunal Bhaii</td>\n",
       "      <td>3</td>\n",
       "    </tr>\n",
       "    <tr>\n",
       "      <th>1</th>\n",
       "      <td>Suruchi Arora</td>\n",
       "      <td>7</td>\n",
       "    </tr>\n",
       "  </tbody>\n",
       "</table>\n",
       "</div>"
      ],
      "text/plain": [
       "            User  Average Message Length\n",
       "0    Kunal Bhaii                       3\n",
       "1  Suruchi Arora                       7"
      ]
     },
     "execution_count": 159,
     "metadata": {},
     "output_type": "execute_result"
    }
   ],
   "source": [
    "\n",
    "user_avg_lengths = []\n",
    "\n",
    "for user in filtered_df['user'].unique():\n",
    "    user_messages = filtered_df[filtered_df['user'] == user]['message']\n",
    "    msg_lengths = [len(msg.split()) for msg in user_messages]\n",
    "    user_avg_length = int(np.mean(msg_lengths))\n",
    "    user_avg_lengths.append((user, user_avg_length))\n",
    "\n",
    "avg_df = pd.DataFrame(user_avg_lengths, columns=['User', 'Average Message Length'])\n",
    "\n",
    "avg_df"
   ]
  },
  {
   "cell_type": "code",
   "execution_count": 169,
   "id": "6a262e31",
   "metadata": {},
   "outputs": [],
   "source": [
    "m=avg_df[avg_df['User']==\"wfij\"]"
   ]
  },
  {
   "cell_type": "code",
   "execution_count": 170,
   "id": "ad33c140",
   "metadata": {},
   "outputs": [
    {
     "data": {
      "text/plain": [
       "True"
      ]
     },
     "execution_count": 170,
     "metadata": {},
     "output_type": "execute_result"
    }
   ],
   "source": [
    "m.empty"
   ]
  },
  {
   "cell_type": "code",
   "execution_count": null,
   "id": "4a301d8a",
   "metadata": {},
   "outputs": [],
   "source": [
    "\n",
    "    has_messages = any(user_df['message'].str.strip() != '')\n",
    "\n",
    "    if not has_messages:\n",
    "        st.write(f\"No text messages available for user: {user}\")\n",
    "        return\n",
    "\n",
    "    wc = WordCloud(width=500, height=500, background_color=\"white\")\n",
    "    df_wc = wc.generate(user_df['message'].str.cat(sep=\" \"))\n",
    "    fig, ax = plt.subplots()\n",
    "    ax.imshow(df_wc)\n",
    "    ax.axis('off')  # Turn off axis\n",
    "    st.pyplot(fig)\n",
    "\n",
    "# Assuming you have a list of unique users in the DataFrame\n",
    "unique_users = filtered_df['user'].unique()\n",
    "\n",
    "# Allow user to select a user to create the Word Cloud\n",
    "selected_user = st.selectbox(\"Select a user\", unique_users)\n",
    "\n",
    "# Filter the DataFrame for the selected user\n",
    "user_df = filtered_df[filtered_df['user'] == selected_user]\n",
    "\n",
    "# Call the function to create the Word Cloud for the selected user\n",
    "create_wordcloud_for_user(user_df)\n"
   ]
  },
  {
   "cell_type": "code",
   "execution_count": 175,
   "id": "d39633f8",
   "metadata": {},
   "outputs": [
    {
     "data": {
      "text/plain": [
       "3                                                   Nice\n",
       "4                                                 Thanks\n",
       "6                             Nani G.vcf (file attached)\n",
       "8      Hloo Manu bhaiya Radhe Radhe!!\\nAjj mumy te pa...\n",
       "29                          https://youtu.be/VY8tE_CLc6I\n",
       "                             ...                        \n",
       "192    https://medium.com/@suruchiarora257/the-multic...\n",
       "193    https://youtube.com/shorts/xO5l3q2BKH8?feature...\n",
       "194                     Happy bday radhe! Enjoy your day\n",
       "195                                   Thank you bhaiii🫶🏻\n",
       "205                                               ❤️❤️❤️\n",
       "Name: message, Length: 107, dtype: object"
      ]
     },
     "execution_count": 175,
     "metadata": {},
     "output_type": "execute_result"
    }
   ],
   "source": [
    "filtered_df['message'].str.strip()"
   ]
  },
  {
   "cell_type": "code",
   "execution_count": 177,
   "id": "f801f582",
   "metadata": {},
   "outputs": [
    {
     "data": {
      "text/plain": [
       "True"
      ]
     },
     "execution_count": 177,
     "metadata": {},
     "output_type": "execute_result"
    }
   ],
   "source": [
    "any(filtered_df['message'].str.strip() != '')\n"
   ]
  },
  {
   "cell_type": "code",
   "execution_count": 200,
   "id": "9f78855e",
   "metadata": {},
   "outputs": [
    {
     "name": "stdout",
     "output_type": "stream",
     "text": [
      "No text messages available for user:\n"
     ]
    }
   ],
   "source": [
    "has_messages = any(this['message'].str.strip() != '')\n",
    "has_messages\n",
    "if not has_messages:\n",
    "    print(f\"No text messages available for user:\")"
   ]
  },
  {
   "cell_type": "code",
   "execution_count": 230,
   "id": "ac2c8ba1",
   "metadata": {},
   "outputs": [],
   "source": [
    "this=df[df['user']==\"Ranvir Sir GNA\"]\n",
    "\n",
    "# text=this['message'].str.cat(sep='')\n",
    "# text"
   ]
  },
  {
   "cell_type": "code",
   "execution_count": 233,
   "id": "30d9da9e",
   "metadata": {},
   "outputs": [
    {
     "data": {
      "text/plain": [
       "''"
      ]
     },
     "execution_count": 233,
     "metadata": {},
     "output_type": "execute_result"
    }
   ],
   "source": [
    "message_without_emojis = re.sub(r'[^\\x00-\\x7F]+', '', text)\n",
    "    # Remove newline characters\n",
    "cleaned_message = message_without_emojis.replace('\\n', ' ')\n",
    "cleaned_message"
   ]
  },
  {
   "cell_type": "code",
   "execution_count": 232,
   "id": "b7a0fafc",
   "metadata": {},
   "outputs": [
    {
     "name": "stdout",
     "output_type": "stream",
     "text": [
      "bnane aa\n"
     ]
    },
    {
     "data": {
      "text/plain": [
       "'✍️👍✍️👍👍'"
      ]
     },
     "execution_count": 232,
     "metadata": {},
     "output_type": "execute_result"
    }
   ],
   "source": [
    "text=this['message'].str.cat(sep='')\n",
    "contains_only_emojis = all(char in emoji.UNICODE_EMOJI['en'] for char in text)\n",
    "\n",
    "if contains_only_emojis:\n",
    "    print(\"Sorry, contains_only_emojis,not available for Word Cloud.\")\n",
    "else:\n",
    "    print(\"bnane aa\")\n",
    "    \n",
    "text\n",
    "    "
   ]
  },
  {
   "cell_type": "code",
   "execution_count": 212,
   "id": "61082bbd",
   "metadata": {},
   "outputs": [],
   "source": [
    "import emoji"
   ]
  },
  {
   "cell_type": "code",
   "execution_count": 241,
   "id": "7846d7bd",
   "metadata": {},
   "outputs": [
    {
     "name": "stdout",
     "output_type": "stream",
     "text": [
      "kch ni hai\n"
     ]
    },
    {
     "name": "stderr",
     "output_type": "stream",
     "text": [
      "C:\\Users\\Suruchi\\AppData\\Local\\Temp\\ipykernel_30464\\3508553553.py:8: SettingWithCopyWarning:\n",
      "\n",
      "\n",
      "A value is trying to be set on a copy of a slice from a DataFrame.\n",
      "Try using .loc[row_indexer,col_indexer] = value instead\n",
      "\n",
      "See the caveats in the documentation: https://pandas.pydata.org/pandas-docs/stable/user_guide/indexing.html#returning-a-view-versus-a-copy\n",
      "\n"
     ]
    }
   ],
   "source": [
    "def preprocess_message(message):\n",
    "    message_without_emojis = re.sub(r'[^\\x00-\\x7F]+', '', message)\n",
    "    # Remove newline characters\n",
    "    cleaned_message = message_without_emojis.replace('\\n', ' ')\n",
    "    return cleaned_message\n",
    "\n",
    "# Apply preprocessing to the 'message' column\n",
    "this['cleaned_message'] = this['message'].apply(preprocess_message)\n",
    "\n",
    "# Concatenate cleaned messages\n",
    "joined_cleaned_messages = this['cleaned_message'].str.cat(sep=' ')\n",
    "# this\n",
    "\n",
    "if joined_cleaned_messages==' ':\n",
    "    print(\"kch ni hai\")"
   ]
  },
  {
   "cell_type": "code",
   "execution_count": 242,
   "id": "22fd0b00",
   "metadata": {},
   "outputs": [
    {
     "name": "stdout",
     "output_type": "stream",
     "text": [
      "The string does not contain any letters.\n"
     ]
    }
   ],
   "source": [
    "text=this['message'].str.cat(sep='')\n",
    "contains_letter = bool(re.search(r'[a-zA-Z]', text))\n",
    "\n",
    "# Print the result\n",
    "if contains_letter:\n",
    "    print(\"The string contains at least one letter.\")\n",
    "else:\n",
    "    print(\"The string does not contain any letters.\")"
   ]
  },
  {
   "cell_type": "code",
   "execution_count": null,
   "id": "509fd462",
   "metadata": {},
   "outputs": [],
   "source": []
  }
 ],
 "metadata": {
  "kernelspec": {
   "display_name": "Python 3 (ipykernel)",
   "language": "python",
   "name": "python3"
  },
  "language_info": {
   "codemirror_mode": {
    "name": "ipython",
    "version": 3
   },
   "file_extension": ".py",
   "mimetype": "text/x-python",
   "name": "python",
   "nbconvert_exporter": "python",
   "pygments_lexer": "ipython3",
   "version": "3.9.12"
  }
 },
 "nbformat": 4,
 "nbformat_minor": 5
}
